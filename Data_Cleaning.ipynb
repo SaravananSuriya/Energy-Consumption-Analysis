{
 "cells": [
  {
   "cell_type": "code",
   "execution_count": 1,
   "id": "1099e50f",
   "metadata": {},
   "outputs": [],
   "source": [
    "import pandas as pd\n",
    "import matplotlib.pyplot as plt\n",
    "import seaborn as sns\n",
    "import numpy as np"
   ]
  },
  {
   "cell_type": "code",
   "execution_count": 2,
   "id": "cbaf57be",
   "metadata": {},
   "outputs": [
    {
     "data": {
      "text/html": [
       "<div>\n",
       "<style scoped>\n",
       "    .dataframe tbody tr th:only-of-type {\n",
       "        vertical-align: middle;\n",
       "    }\n",
       "\n",
       "    .dataframe tbody tr th {\n",
       "        vertical-align: top;\n",
       "    }\n",
       "\n",
       "    .dataframe thead th {\n",
       "        text-align: right;\n",
       "    }\n",
       "</style>\n",
       "<table border=\"1\" class=\"dataframe\">\n",
       "  <thead>\n",
       "    <tr style=\"text-align: right;\">\n",
       "      <th></th>\n",
       "      <th>The GJ/m2 column has been updated to address conversion irregularities.</th>\n",
       "      <th>Unnamed: 1</th>\n",
       "      <th>Unnamed: 2</th>\n",
       "      <th>Unnamed: 3</th>\n",
       "      <th>Unnamed: 4</th>\n",
       "      <th>Unnamed: 5</th>\n",
       "      <th>Unnamed: 6</th>\n",
       "      <th>Unnamed: 7</th>\n",
       "      <th>Unnamed: 8</th>\n",
       "      <th>Unnamed: 9</th>\n",
       "      <th>...</th>\n",
       "      <th>Unnamed: 31</th>\n",
       "      <th>Unnamed: 32</th>\n",
       "      <th>Unnamed: 33</th>\n",
       "      <th>Unnamed: 34</th>\n",
       "      <th>Unnamed: 35</th>\n",
       "      <th>Unnamed: 36</th>\n",
       "      <th>Unnamed: 37</th>\n",
       "      <th>Unnamed: 38</th>\n",
       "      <th>Unnamed: 39</th>\n",
       "      <th>Unnamed: 40</th>\n",
       "    </tr>\n",
       "  </thead>\n",
       "  <tbody>\n",
       "    <tr>\n",
       "      <th>0</th>\n",
       "      <td>NaN</td>\n",
       "      <td>NaN</td>\n",
       "      <td>NaN</td>\n",
       "      <td>NaN</td>\n",
       "      <td>NaN</td>\n",
       "      <td>NaN</td>\n",
       "      <td>NaN</td>\n",
       "      <td>NaN</td>\n",
       "      <td>NaN</td>\n",
       "      <td>NaN</td>\n",
       "      <td>...</td>\n",
       "      <td>NaN</td>\n",
       "      <td>NaN</td>\n",
       "      <td>NaN</td>\n",
       "      <td>NaN</td>\n",
       "      <td>NaN</td>\n",
       "      <td>NaN</td>\n",
       "      <td>NaN</td>\n",
       "      <td>NaN</td>\n",
       "      <td>NaN</td>\n",
       "      <td>NaN</td>\n",
       "    </tr>\n",
       "    <tr>\n",
       "      <th>1</th>\n",
       "      <td>Sector Name</td>\n",
       "      <td>Sub Sector</td>\n",
       "      <td>Organization Name</td>\n",
       "      <td>Operation Name</td>\n",
       "      <td>Operation Type</td>\n",
       "      <td>Address</td>\n",
       "      <td>City</td>\n",
       "      <td>Postal Code</td>\n",
       "      <td>Total Floor Area</td>\n",
       "      <td>Unit</td>\n",
       "      <td>...</td>\n",
       "      <td>District Cooling Unit</td>\n",
       "      <td>District Cooling Renewable</td>\n",
       "      <td>District Cooling Renewable Emission Factor</td>\n",
       "      <td>Number of Portables</td>\n",
       "      <td>Swimming Pools</td>\n",
       "      <td>GHG Emissions KG</td>\n",
       "      <td>Energy Intensity ekWh_sqft</td>\n",
       "      <td>Energy Intensity ekWh_mega_litre</td>\n",
       "      <td>Energy Intensity GJ_m2</td>\n",
       "      <td>Energy Intensity GJ_mega_litre</td>\n",
       "    </tr>\n",
       "  </tbody>\n",
       "</table>\n",
       "<p>2 rows × 41 columns</p>\n",
       "</div>"
      ],
      "text/plain": [
       "  The GJ/m2 column has been updated to address conversion irregularities.  \\\n",
       "0                                                NaN                        \n",
       "1                                        Sector Name                        \n",
       "\n",
       "    Unnamed: 1         Unnamed: 2      Unnamed: 3      Unnamed: 4 Unnamed: 5  \\\n",
       "0          NaN                NaN             NaN             NaN        NaN   \n",
       "1  Sub Sector   Organization Name  Operation Name  Operation Type    Address   \n",
       "\n",
       "  Unnamed: 6   Unnamed: 7         Unnamed: 8 Unnamed: 9  ...  \\\n",
       "0        NaN          NaN                NaN        NaN  ...   \n",
       "1       City  Postal Code  Total Floor Area        Unit  ...   \n",
       "\n",
       "             Unnamed: 31                 Unnamed: 32  \\\n",
       "0                    NaN                         NaN   \n",
       "1  District Cooling Unit  District Cooling Renewable   \n",
       "\n",
       "                                  Unnamed: 33          Unnamed: 34  \\\n",
       "0                                         NaN                  NaN   \n",
       "1  District Cooling Renewable Emission Factor  Number of Portables   \n",
       "\n",
       "      Unnamed: 35       Unnamed: 36                 Unnamed: 37  \\\n",
       "0             NaN               NaN                         NaN   \n",
       "1  Swimming Pools  GHG Emissions KG  Energy Intensity ekWh_sqft   \n",
       "\n",
       "                        Unnamed: 38             Unnamed: 39  \\\n",
       "0                               NaN                     NaN   \n",
       "1  Energy Intensity ekWh_mega_litre  Energy Intensity GJ_m2   \n",
       "\n",
       "                      Unnamed: 40  \n",
       "0                             NaN  \n",
       "1  Energy Intensity GJ_mega_litre  \n",
       "\n",
       "[2 rows x 41 columns]"
      ]
     },
     "execution_count": 2,
     "metadata": {},
     "output_type": "execute_result"
    }
   ],
   "source": [
    "data_2012 = pd.read_excel('bps_2012_report_english.xlsx')\n",
    "data_2012.head(2)"
   ]
  },
  {
   "cell_type": "code",
   "execution_count": 3,
   "id": "df86c179",
   "metadata": {},
   "outputs": [],
   "source": [
    "data_2012.columns = data_2012.iloc[1]\n",
    "data_2012.drop(data_2012.index[[0,1]], inplace = True)\n",
    "data_2012.reset_index(inplace = True)\n",
    "data_2012.drop(columns = 'index', inplace = True)\n",
    "data_2012['Year'] = 2012"
   ]
  },
  {
   "cell_type": "code",
   "execution_count": 4,
   "id": "33d6d77e",
   "metadata": {
    "scrolled": false
   },
   "outputs": [
    {
     "data": {
      "text/html": [
       "<div>\n",
       "<style scoped>\n",
       "    .dataframe tbody tr th:only-of-type {\n",
       "        vertical-align: middle;\n",
       "    }\n",
       "\n",
       "    .dataframe tbody tr th {\n",
       "        vertical-align: top;\n",
       "    }\n",
       "\n",
       "    .dataframe thead th {\n",
       "        text-align: right;\n",
       "    }\n",
       "</style>\n",
       "<table border=\"1\" class=\"dataframe\">\n",
       "  <thead>\n",
       "    <tr style=\"text-align: right;\">\n",
       "      <th>1</th>\n",
       "      <th>Sector Name</th>\n",
       "      <th>Sub Sector</th>\n",
       "      <th>Organization Name</th>\n",
       "      <th>Operation Name</th>\n",
       "      <th>Operation Type</th>\n",
       "      <th>Address</th>\n",
       "      <th>City</th>\n",
       "      <th>Postal Code</th>\n",
       "      <th>Total Floor Area</th>\n",
       "      <th>Unit</th>\n",
       "      <th>...</th>\n",
       "      <th>District Cooling Renewable</th>\n",
       "      <th>District Cooling Renewable Emission Factor</th>\n",
       "      <th>Number of Portables</th>\n",
       "      <th>Swimming Pools</th>\n",
       "      <th>GHG Emissions KG</th>\n",
       "      <th>Energy Intensity ekWh_sqft</th>\n",
       "      <th>Energy Intensity ekWh_mega_litre</th>\n",
       "      <th>Energy Intensity GJ_m2</th>\n",
       "      <th>Energy Intensity GJ_mega_litre</th>\n",
       "      <th>Year</th>\n",
       "    </tr>\n",
       "  </thead>\n",
       "  <tbody>\n",
       "    <tr>\n",
       "      <th>0</th>\n",
       "      <td>Public Hospital</td>\n",
       "      <td>Acute/Chronic</td>\n",
       "      <td>Alexandra Hospital</td>\n",
       "      <td>Alexandra Hospital</td>\n",
       "      <td>Facilities used for hospital purposes</td>\n",
       "      <td>29 Noxon Street</td>\n",
       "      <td>Ingersoll</td>\n",
       "      <td>N5C3V6</td>\n",
       "      <td>4660.7</td>\n",
       "      <td>Square meters</td>\n",
       "      <td>...</td>\n",
       "      <td>False</td>\n",
       "      <td>0</td>\n",
       "      <td>0</td>\n",
       "      <td>False</td>\n",
       "      <td>527560.002122</td>\n",
       "      <td>69.59709</td>\n",
       "      <td>0</td>\n",
       "      <td>2.696894</td>\n",
       "      <td>0</td>\n",
       "      <td>2012</td>\n",
       "    </tr>\n",
       "    <tr>\n",
       "      <th>1</th>\n",
       "      <td>Public Hospital</td>\n",
       "      <td>Acute/Chronic</td>\n",
       "      <td>Alexandra Hospital</td>\n",
       "      <td>Alexandra Hospital</td>\n",
       "      <td>Administrative offices and related facilities</td>\n",
       "      <td>29 Noxon Street</td>\n",
       "      <td>Ingersoll</td>\n",
       "      <td>N5C3V6</td>\n",
       "      <td>3813.3</td>\n",
       "      <td>Square meters</td>\n",
       "      <td>...</td>\n",
       "      <td>False</td>\n",
       "      <td>0</td>\n",
       "      <td>0</td>\n",
       "      <td>False</td>\n",
       "      <td>431640.001737</td>\n",
       "      <td>69.59709</td>\n",
       "      <td>0</td>\n",
       "      <td>2.696894</td>\n",
       "      <td>0</td>\n",
       "      <td>2012</td>\n",
       "    </tr>\n",
       "    <tr>\n",
       "      <th>2</th>\n",
       "      <td>Public Hospital</td>\n",
       "      <td>Acute/Chronic</td>\n",
       "      <td>Alexandria Glengarry Memorial Hospital</td>\n",
       "      <td>Glengarry Memorial Hospital</td>\n",
       "      <td>Facilities used for hospital purposes</td>\n",
       "      <td>20260 County Road 43</td>\n",
       "      <td>Alexandria</td>\n",
       "      <td>K0C1A0</td>\n",
       "      <td>51016</td>\n",
       "      <td>Square feet</td>\n",
       "      <td>...</td>\n",
       "      <td>False</td>\n",
       "      <td>0</td>\n",
       "      <td>0</td>\n",
       "      <td>False</td>\n",
       "      <td>586529.974768</td>\n",
       "      <td>79.689235</td>\n",
       "      <td>0</td>\n",
       "      <td>3.087966</td>\n",
       "      <td>0</td>\n",
       "      <td>2012</td>\n",
       "    </tr>\n",
       "    <tr>\n",
       "      <th>3</th>\n",
       "      <td>Public Hospital</td>\n",
       "      <td>Acute/Chronic</td>\n",
       "      <td>Alexandria Glengarry Memorial Hospital</td>\n",
       "      <td>Glengarry Memorial Hospital</td>\n",
       "      <td>Administrative offices and related facilities</td>\n",
       "      <td>20260 County Road 43</td>\n",
       "      <td>Alexandria</td>\n",
       "      <td>K0C1A0</td>\n",
       "      <td>3953</td>\n",
       "      <td>Square feet</td>\n",
       "      <td>...</td>\n",
       "      <td>False</td>\n",
       "      <td>0</td>\n",
       "      <td>0</td>\n",
       "      <td>False</td>\n",
       "      <td>45449.455922</td>\n",
       "      <td>79.691924</td>\n",
       "      <td>0</td>\n",
       "      <td>3.08807</td>\n",
       "      <td>0</td>\n",
       "      <td>2012</td>\n",
       "    </tr>\n",
       "    <tr>\n",
       "      <th>4</th>\n",
       "      <td>School Board</td>\n",
       "      <td>School Board</td>\n",
       "      <td>Algoma District School Board</td>\n",
       "      <td>Adult Ed - Blind River (WC Eaket)</td>\n",
       "      <td>Schools</td>\n",
       "      <td>147 Woodward Ave</td>\n",
       "      <td>Blind River</td>\n",
       "      <td>P0R1B0</td>\n",
       "      <td>1128.811234</td>\n",
       "      <td>Square feet</td>\n",
       "      <td>...</td>\n",
       "      <td>False</td>\n",
       "      <td>0</td>\n",
       "      <td>0</td>\n",
       "      <td>False</td>\n",
       "      <td>52593.003152</td>\n",
       "      <td>266.361078</td>\n",
       "      <td>0</td>\n",
       "      <td>10.321518</td>\n",
       "      <td>0</td>\n",
       "      <td>2012</td>\n",
       "    </tr>\n",
       "  </tbody>\n",
       "</table>\n",
       "<p>5 rows × 42 columns</p>\n",
       "</div>"
      ],
      "text/plain": [
       "1      Sector Name    Sub Sector                        Organization Name  \\\n",
       "0  Public Hospital  Acute/Chronic                      Alexandra Hospital   \n",
       "1  Public Hospital  Acute/Chronic                      Alexandra Hospital   \n",
       "2  Public Hospital  Acute/Chronic  Alexandria Glengarry Memorial Hospital   \n",
       "3  Public Hospital  Acute/Chronic  Alexandria Glengarry Memorial Hospital   \n",
       "4     School Board   School Board            Algoma District School Board   \n",
       "\n",
       "1                     Operation Name  \\\n",
       "0                 Alexandra Hospital   \n",
       "1                 Alexandra Hospital   \n",
       "2        Glengarry Memorial Hospital   \n",
       "3        Glengarry Memorial Hospital   \n",
       "4  Adult Ed - Blind River (WC Eaket)   \n",
       "\n",
       "1                                 Operation Type               Address  \\\n",
       "0          Facilities used for hospital purposes       29 Noxon Street   \n",
       "1  Administrative offices and related facilities       29 Noxon Street   \n",
       "2          Facilities used for hospital purposes  20260 County Road 43   \n",
       "3  Administrative offices and related facilities  20260 County Road 43   \n",
       "4                                        Schools      147 Woodward Ave   \n",
       "\n",
       "1         City Postal Code Total Floor Area            Unit  ...  \\\n",
       "0    Ingersoll      N5C3V6            4660.7  Square meters  ...   \n",
       "1    Ingersoll      N5C3V6            3813.3  Square meters  ...   \n",
       "2   Alexandria      K0C1A0             51016    Square feet  ...   \n",
       "3   Alexandria      K0C1A0              3953    Square feet  ...   \n",
       "4  Blind River      P0R1B0       1128.811234    Square feet  ...   \n",
       "\n",
       "1 District Cooling Renewable District Cooling Renewable Emission Factor  \\\n",
       "0                      False                                          0   \n",
       "1                      False                                          0   \n",
       "2                      False                                          0   \n",
       "3                      False                                          0   \n",
       "4                      False                                          0   \n",
       "\n",
       "1 Number of Portables Swimming Pools GHG Emissions KG  \\\n",
       "0                   0          False    527560.002122   \n",
       "1                   0          False    431640.001737   \n",
       "2                   0          False    586529.974768   \n",
       "3                   0          False     45449.455922   \n",
       "4                   0          False     52593.003152   \n",
       "\n",
       "1 Energy Intensity ekWh_sqft Energy Intensity ekWh_mega_litre  \\\n",
       "0                   69.59709                                0   \n",
       "1                   69.59709                                0   \n",
       "2                  79.689235                                0   \n",
       "3                  79.691924                                0   \n",
       "4                 266.361078                                0   \n",
       "\n",
       "1 Energy Intensity GJ_m2 Energy Intensity GJ_mega_litre  Year  \n",
       "0               2.696894                              0  2012  \n",
       "1               2.696894                              0  2012  \n",
       "2               3.087966                              0  2012  \n",
       "3                3.08807                              0  2012  \n",
       "4              10.321518                              0  2012  \n",
       "\n",
       "[5 rows x 42 columns]"
      ]
     },
     "execution_count": 4,
     "metadata": {},
     "output_type": "execute_result"
    }
   ],
   "source": [
    "data_2012.head()"
   ]
  },
  {
   "cell_type": "code",
   "execution_count": 5,
   "id": "a28af6ca",
   "metadata": {},
   "outputs": [],
   "source": [
    "data_2012[\"Fuel Oil(LT)\"] = data_2012['Fuel Oil 1 & 2'] + data_2012['Fuel Oil 4 &6']"
   ]
  },
  {
   "cell_type": "code",
   "execution_count": 6,
   "id": "45ffdcc0",
   "metadata": {},
   "outputs": [],
   "source": [
    "data_2012.drop(data_2012[['Fuel Oil 1 & 2','Fuel Oil 4 &6','Unit','Annual Flow ','Electricity Unit','Natural Gas2','Fuel Oil 4 &6 Unit','Fuel Oil 1 & 2 Unit','Propane Unit','Coal Unit','Wood3','District Heating Unit','Renewable','Renewable Emission Factor','District Cooling Unit','District Cooling Renewable','District Cooling Renewable Emission Factor','Number of Portables','Swimming Pools','Energy Intensity ekWh_mega_litre','Energy Intensity GJ_m2','Energy Intensity GJ_mega_litre','Average Hours per week']], axis = 1, inplace = True)"
   ]
  },
  {
   "cell_type": "code",
   "execution_count": 7,
   "id": "55c65d95",
   "metadata": {},
   "outputs": [
    {
     "data": {
      "text/plain": [
       "Index(['Sector Name', 'Sub Sector ', 'Organization Name', 'Operation Name',\n",
       "       'Operation Type', 'Address', 'City', 'Postal Code', 'Total Floor Area ',\n",
       "       'Electricity', 'Natural Gas', 'Propane', 'Coal Quantity', 'Wood',\n",
       "       'District Heating', 'District Cooling', 'GHG Emissions KG',\n",
       "       'Energy Intensity ekWh_sqft', 'Year', 'Fuel Oil(LT)'],\n",
       "      dtype='object', name=1)"
      ]
     },
     "execution_count": 7,
     "metadata": {},
     "output_type": "execute_result"
    }
   ],
   "source": [
    "data_2012.columns"
   ]
  },
  {
   "cell_type": "code",
   "execution_count": 8,
   "id": "6b7ab6d3",
   "metadata": {},
   "outputs": [],
   "source": [
    "data_2012.rename(columns={\n",
    "'Sector Name':'Sector',\n",
    "'Sub Sector ':'Sub Sector',\n",
    "'Organization Name':'Organization',\n",
    "'Electricity':'Electricity(kWh)',\n",
    "'Total Floor Area ':'Total Floor Area',\n",
    "'Natural Gas':'Natural gas(CM)',\n",
    "'Propane':'Propane(L)',\n",
    "'Coal Quantity':'Coal(MT)',\n",
    "'Wood':'Wood(MT)',\n",
    "'District Heating':'District Heating(GJ)',\n",
    "'District Cooling':'District Cooling(GJ)',\n",
    "'GHG Emissions KG':'GHG Emissions(KG)',\n",
    "'Energy Intensity ekWh_sqft':'Energy Intensity'},inplace=True)\n"
   ]
  },
  {
   "cell_type": "code",
   "execution_count": 9,
   "id": "a35d7e4c",
   "metadata": {},
   "outputs": [
    {
     "data": {
      "text/plain": [
       "Index(['Sector', 'Sub Sector', 'Organization', 'Operation Name',\n",
       "       'Operation Type', 'Address', 'City', 'Postal Code', 'Total Floor Area',\n",
       "       'Electricity(kWh)', 'Natural gas(CM)', 'Propane(L)', 'Coal(MT)',\n",
       "       'Wood(MT)', 'District Heating(GJ)', 'District Cooling(GJ)',\n",
       "       'GHG Emissions(KG)', 'Energy Intensity', 'Year', 'Fuel Oil(LT)'],\n",
       "      dtype='object', name=1)"
      ]
     },
     "execution_count": 9,
     "metadata": {},
     "output_type": "execute_result"
    }
   ],
   "source": [
    "data_2012.columns"
   ]
  },
  {
   "cell_type": "code",
   "execution_count": 10,
   "id": "9e485ca1",
   "metadata": {
    "scrolled": true
   },
   "outputs": [
    {
     "data": {
      "text/plain": [
       "1\n",
       "Sector                   0\n",
       "Sub Sector               5\n",
       "Organization             0\n",
       "Operation Name           0\n",
       "Operation Type           0\n",
       "Address                 10\n",
       "City                     0\n",
       "Postal Code              8\n",
       "Total Floor Area         0\n",
       "Electricity(kWh)         0\n",
       "Natural gas(CM)          0\n",
       "Propane(L)               0\n",
       "Coal(MT)                 0\n",
       "Wood(MT)                 0\n",
       "District Heating(GJ)     0\n",
       "District Cooling(GJ)     0\n",
       "GHG Emissions(KG)        0\n",
       "Energy Intensity         0\n",
       "Year                     0\n",
       "Fuel Oil(LT)             0\n",
       "dtype: int64"
      ]
     },
     "execution_count": 10,
     "metadata": {},
     "output_type": "execute_result"
    }
   ],
   "source": [
    "data_2012.isna().sum()"
   ]
  },
  {
   "cell_type": "code",
   "execution_count": 11,
   "id": "6fb70478",
   "metadata": {},
   "outputs": [
    {
     "data": {
      "text/plain": [
       "(17978, 20)"
      ]
     },
     "execution_count": 11,
     "metadata": {},
     "output_type": "execute_result"
    }
   ],
   "source": [
    "data_2012.shape"
   ]
  },
  {
   "cell_type": "code",
   "execution_count": 12,
   "id": "756ed9f5",
   "metadata": {},
   "outputs": [
    {
     "data": {
      "text/plain": [
       "(17963, 20)"
      ]
     },
     "execution_count": 12,
     "metadata": {},
     "output_type": "execute_result"
    }
   ],
   "source": [
    "data_2012.dropna(inplace=True)\n",
    "data_2012.shape\n",
    "# data_2012.dropna(subset=['Sub Sector', 'Address'], inplace=True)"
   ]
  },
  {
   "cell_type": "code",
   "execution_count": 13,
   "id": "40eca035",
   "metadata": {},
   "outputs": [
    {
     "data": {
      "text/plain": [
       "0"
      ]
     },
     "execution_count": 13,
     "metadata": {},
     "output_type": "execute_result"
    }
   ],
   "source": [
    "data_2012.duplicated().sum()"
   ]
  },
  {
   "cell_type": "code",
   "execution_count": null,
   "id": "e37f55e6",
   "metadata": {},
   "outputs": [],
   "source": []
  },
  {
   "cell_type": "code",
   "execution_count": 14,
   "id": "0f0d02c1",
   "metadata": {},
   "outputs": [
    {
     "data": {
      "text/html": [
       "<div>\n",
       "<style scoped>\n",
       "    .dataframe tbody tr th:only-of-type {\n",
       "        vertical-align: middle;\n",
       "    }\n",
       "\n",
       "    .dataframe tbody tr th {\n",
       "        vertical-align: top;\n",
       "    }\n",
       "\n",
       "    .dataframe thead th {\n",
       "        text-align: right;\n",
       "    }\n",
       "</style>\n",
       "<table border=\"1\" class=\"dataframe\">\n",
       "  <thead>\n",
       "    <tr style=\"text-align: right;\">\n",
       "      <th></th>\n",
       "      <th>The GJ/m2 column has been updated to address conversion irregularities.</th>\n",
       "      <th>Unnamed: 1</th>\n",
       "      <th>Unnamed: 2</th>\n",
       "      <th>Unnamed: 3</th>\n",
       "      <th>Unnamed: 4</th>\n",
       "      <th>Unnamed: 5</th>\n",
       "      <th>Unnamed: 6</th>\n",
       "      <th>Unnamed: 7</th>\n",
       "      <th>Unnamed: 8</th>\n",
       "      <th>Unnamed: 9</th>\n",
       "      <th>...</th>\n",
       "      <th>Unnamed: 29</th>\n",
       "      <th>Unnamed: 30</th>\n",
       "      <th>Unnamed: 31</th>\n",
       "      <th>Unnamed: 32</th>\n",
       "      <th>Unnamed: 33</th>\n",
       "      <th>Unnamed: 34</th>\n",
       "      <th>Unnamed: 35</th>\n",
       "      <th>Unnamed: 36</th>\n",
       "      <th>Unnamed: 37</th>\n",
       "      <th>Unnamed: 38</th>\n",
       "    </tr>\n",
       "  </thead>\n",
       "  <tbody>\n",
       "    <tr>\n",
       "      <th>0</th>\n",
       "      <td>NaN</td>\n",
       "      <td>NaN</td>\n",
       "      <td>NaN</td>\n",
       "      <td>NaN</td>\n",
       "      <td>NaN</td>\n",
       "      <td>NaN</td>\n",
       "      <td>NaN</td>\n",
       "      <td>NaN</td>\n",
       "      <td>NaN</td>\n",
       "      <td>NaN</td>\n",
       "      <td>...</td>\n",
       "      <td>NaN</td>\n",
       "      <td>NaN</td>\n",
       "      <td>NaN</td>\n",
       "      <td>NaN</td>\n",
       "      <td>NaN</td>\n",
       "      <td>NaN</td>\n",
       "      <td>NaN</td>\n",
       "      <td>NaN</td>\n",
       "      <td>NaN</td>\n",
       "      <td>NaN</td>\n",
       "    </tr>\n",
       "    <tr>\n",
       "      <th>1</th>\n",
       "      <td>Sector</td>\n",
       "      <td>Sub Sector</td>\n",
       "      <td>Organization</td>\n",
       "      <td>Operation</td>\n",
       "      <td>Operation Type</td>\n",
       "      <td>Address</td>\n",
       "      <td>City</td>\n",
       "      <td>Postal Code</td>\n",
       "      <td>Total Indoor Space_x</td>\n",
       "      <td>Unit of Measure</td>\n",
       "      <td>...</td>\n",
       "      <td>DistrictHeating_Unit</td>\n",
       "      <td>DistrictHeating_IsRenewable</td>\n",
       "      <td>DistrictCooling_Quantity</td>\n",
       "      <td>DistrictCooling_Unit</td>\n",
       "      <td>DistrictCooling_IsRenewable</td>\n",
       "      <td>GHG Emissions KG</td>\n",
       "      <td>Energy Intensity ekWh_sqft</td>\n",
       "      <td>Energy Intensity ekWh_mega_litre</td>\n",
       "      <td>Energy Intensity GJ_m2</td>\n",
       "      <td>Energy Intensity GJ_mega_litre</td>\n",
       "    </tr>\n",
       "  </tbody>\n",
       "</table>\n",
       "<p>2 rows × 39 columns</p>\n",
       "</div>"
      ],
      "text/plain": [
       "  The GJ/m2 column has been updated to address conversion irregularities.  \\\n",
       "0                                                NaN                        \n",
       "1                                             Sector                        \n",
       "\n",
       "   Unnamed: 1    Unnamed: 2 Unnamed: 3      Unnamed: 4 Unnamed: 5 Unnamed: 6  \\\n",
       "0         NaN           NaN        NaN             NaN        NaN        NaN   \n",
       "1  Sub Sector  Organization  Operation  Operation Type    Address       City   \n",
       "\n",
       "    Unnamed: 7            Unnamed: 8       Unnamed: 9  ...  \\\n",
       "0          NaN                   NaN              NaN  ...   \n",
       "1  Postal Code  Total Indoor Space_x  Unit of Measure  ...   \n",
       "\n",
       "            Unnamed: 29                  Unnamed: 30  \\\n",
       "0                   NaN                          NaN   \n",
       "1  DistrictHeating_Unit  DistrictHeating_IsRenewable   \n",
       "\n",
       "                Unnamed: 31           Unnamed: 32  \\\n",
       "0                       NaN                   NaN   \n",
       "1  DistrictCooling_Quantity  DistrictCooling_Unit   \n",
       "\n",
       "                   Unnamed: 33       Unnamed: 34                 Unnamed: 35  \\\n",
       "0                          NaN               NaN                         NaN   \n",
       "1  DistrictCooling_IsRenewable  GHG Emissions KG  Energy Intensity ekWh_sqft   \n",
       "\n",
       "                        Unnamed: 36             Unnamed: 37  \\\n",
       "0                               NaN                     NaN   \n",
       "1  Energy Intensity ekWh_mega_litre  Energy Intensity GJ_m2   \n",
       "\n",
       "                      Unnamed: 38  \n",
       "0                             NaN  \n",
       "1  Energy Intensity GJ_mega_litre  \n",
       "\n",
       "[2 rows x 39 columns]"
      ]
     },
     "execution_count": 14,
     "metadata": {},
     "output_type": "execute_result"
    }
   ],
   "source": [
    "data_2013 = pd.read_excel('bps_2013_report_english.xlsx')\n",
    "data_2013.head(2)"
   ]
  },
  {
   "cell_type": "code",
   "execution_count": 15,
   "id": "16d79379",
   "metadata": {},
   "outputs": [],
   "source": [
    "data_2013.columns = data_2013.iloc[1]\n",
    "data_2013.drop(data_2013.index[[0,1]], inplace = True)\n",
    "data_2013.reset_index(inplace = True)\n",
    "data_2013.drop(columns = 'index', inplace = True)\n",
    "data_2013['Year'] = 2013"
   ]
  },
  {
   "cell_type": "code",
   "execution_count": 16,
   "id": "7a353b8e",
   "metadata": {},
   "outputs": [
    {
     "data": {
      "text/html": [
       "<div>\n",
       "<style scoped>\n",
       "    .dataframe tbody tr th:only-of-type {\n",
       "        vertical-align: middle;\n",
       "    }\n",
       "\n",
       "    .dataframe tbody tr th {\n",
       "        vertical-align: top;\n",
       "    }\n",
       "\n",
       "    .dataframe thead th {\n",
       "        text-align: right;\n",
       "    }\n",
       "</style>\n",
       "<table border=\"1\" class=\"dataframe\">\n",
       "  <thead>\n",
       "    <tr style=\"text-align: right;\">\n",
       "      <th>1</th>\n",
       "      <th>Sector</th>\n",
       "      <th>Sub Sector</th>\n",
       "      <th>Organization</th>\n",
       "      <th>Operation</th>\n",
       "      <th>Operation Type</th>\n",
       "      <th>Address</th>\n",
       "      <th>City</th>\n",
       "      <th>Postal Code</th>\n",
       "      <th>Total Indoor Space_x</th>\n",
       "      <th>Unit of Measure</th>\n",
       "      <th>...</th>\n",
       "      <th>DistrictHeating_IsRenewable</th>\n",
       "      <th>DistrictCooling_Quantity</th>\n",
       "      <th>DistrictCooling_Unit</th>\n",
       "      <th>DistrictCooling_IsRenewable</th>\n",
       "      <th>GHG Emissions KG</th>\n",
       "      <th>Energy Intensity ekWh_sqft</th>\n",
       "      <th>Energy Intensity ekWh_mega_litre</th>\n",
       "      <th>Energy Intensity GJ_m2</th>\n",
       "      <th>Energy Intensity GJ_mega_litre</th>\n",
       "      <th>Year</th>\n",
       "    </tr>\n",
       "  </thead>\n",
       "  <tbody>\n",
       "    <tr>\n",
       "      <th>0</th>\n",
       "      <td>Hospital</td>\n",
       "      <td>Acute/Chronic Hospital</td>\n",
       "      <td>Alexandra Hospital</td>\n",
       "      <td>Alexandra Hospital</td>\n",
       "      <td>Facilities used for hospital purposes</td>\n",
       "      <td>29 Noxon Street</td>\n",
       "      <td>Ingersoll</td>\n",
       "      <td>N5C 3V6</td>\n",
       "      <td>8474</td>\n",
       "      <td>Square meters</td>\n",
       "      <td>...</td>\n",
       "      <td>NaN</td>\n",
       "      <td>0</td>\n",
       "      <td>NaN</td>\n",
       "      <td>NaN</td>\n",
       "      <td>988988.636052</td>\n",
       "      <td>74.343357</td>\n",
       "      <td>0</td>\n",
       "      <td>2.880812</td>\n",
       "      <td>0</td>\n",
       "      <td>2013</td>\n",
       "    </tr>\n",
       "    <tr>\n",
       "      <th>1</th>\n",
       "      <td>Hospital</td>\n",
       "      <td>Acute/Chronic Hospital</td>\n",
       "      <td>Alexandria Glengarry Memorial Hospital</td>\n",
       "      <td>Glengarry Memorial Hospital</td>\n",
       "      <td>Facilities used for hospital purposes</td>\n",
       "      <td>20260 County Road 43</td>\n",
       "      <td>Alexandria</td>\n",
       "      <td>K0C 1A0</td>\n",
       "      <td>54969</td>\n",
       "      <td>Square feet</td>\n",
       "      <td>...</td>\n",
       "      <td>NaN</td>\n",
       "      <td>0</td>\n",
       "      <td>NaN</td>\n",
       "      <td>NaN</td>\n",
       "      <td>593106.847929</td>\n",
       "      <td>76.632362</td>\n",
       "      <td>0</td>\n",
       "      <td>2.969511</td>\n",
       "      <td>0</td>\n",
       "      <td>2013</td>\n",
       "    </tr>\n",
       "  </tbody>\n",
       "</table>\n",
       "<p>2 rows × 40 columns</p>\n",
       "</div>"
      ],
      "text/plain": [
       "1    Sector              Sub Sector                            Organization  \\\n",
       "0  Hospital  Acute/Chronic Hospital                      Alexandra Hospital   \n",
       "1  Hospital  Acute/Chronic Hospital  Alexandria Glengarry Memorial Hospital   \n",
       "\n",
       "1                    Operation                         Operation Type  \\\n",
       "0           Alexandra Hospital  Facilities used for hospital purposes   \n",
       "1  Glengarry Memorial Hospital  Facilities used for hospital purposes   \n",
       "\n",
       "1               Address        City Postal Code Total Indoor Space_x  \\\n",
       "0       29 Noxon Street   Ingersoll     N5C 3V6                 8474   \n",
       "1  20260 County Road 43  Alexandria     K0C 1A0                54969   \n",
       "\n",
       "1 Unit of Measure  ... DistrictHeating_IsRenewable DistrictCooling_Quantity  \\\n",
       "0   Square meters  ...                         NaN                        0   \n",
       "1     Square feet  ...                         NaN                        0   \n",
       "\n",
       "1 DistrictCooling_Unit DistrictCooling_IsRenewable GHG Emissions KG  \\\n",
       "0                  NaN                         NaN    988988.636052   \n",
       "1                  NaN                         NaN    593106.847929   \n",
       "\n",
       "1 Energy Intensity ekWh_sqft Energy Intensity ekWh_mega_litre  \\\n",
       "0                  74.343357                                0   \n",
       "1                  76.632362                                0   \n",
       "\n",
       "1 Energy Intensity GJ_m2 Energy Intensity GJ_mega_litre  Year  \n",
       "0               2.880812                              0  2013  \n",
       "1               2.969511                              0  2013  \n",
       "\n",
       "[2 rows x 40 columns]"
      ]
     },
     "execution_count": 16,
     "metadata": {},
     "output_type": "execute_result"
    }
   ],
   "source": [
    "data_2013.head(2)"
   ]
  },
  {
   "cell_type": "code",
   "execution_count": 17,
   "id": "0673ff00",
   "metadata": {},
   "outputs": [],
   "source": [
    "data_2013[\"Fuel Oil(LT)\"] = data_2013['FuelOil12_Quantity'] + data_2013['FuelOil46_Quantity']"
   ]
  },
  {
   "cell_type": "code",
   "execution_count": 18,
   "id": "72c45188",
   "metadata": {},
   "outputs": [
    {
     "data": {
      "text/plain": [
       "41"
      ]
     },
     "execution_count": 18,
     "metadata": {},
     "output_type": "execute_result"
    }
   ],
   "source": [
    "len(data_2013.columns)"
   ]
  },
  {
   "cell_type": "code",
   "execution_count": 19,
   "id": "a9642b14",
   "metadata": {
    "scrolled": true
   },
   "outputs": [],
   "source": [
    "data_2013.drop(data_2013[['FuelOil12_Quantity','FuelOil46_Quantity','Unit of Measure',\"Annual Flow (M\",'Electricity_Unit','NaturalGas_Unit','FuelOil12_Unit','FuelOil46_Unit','Propane_Unit','Coal_Unit','Wood_Unit','DistrictHeating_Unit','DistrictHeating_IsRenewable','DistrictCooling_Unit','DistrictCooling_IsRenewable','Number of Portables','Swimming Pool','Energy Intensity ekWh_mega_litre','Energy Intensity GJ_m2','Energy Intensity GJ_mega_litre','Weekly Average Hours']], axis = 1, inplace = True)"
   ]
  },
  {
   "cell_type": "code",
   "execution_count": 20,
   "id": "e734bfde",
   "metadata": {},
   "outputs": [
    {
     "name": "stdout",
     "output_type": "stream",
     "text": [
      "20\n"
     ]
    },
    {
     "data": {
      "text/plain": [
       "Index(['Sector', 'Sub Sector', 'Organization', 'Operation', 'Operation Type',\n",
       "       'Address', 'City', 'Postal Code', 'Total Indoor Space_x',\n",
       "       'Electricity_Quantity', 'NaturalGas_Quantity', 'Propane_Quantity',\n",
       "       'Coal_Quantity', 'Wood_Quantity', 'DistrictHeating_Quantity',\n",
       "       'DistrictCooling_Quantity', 'GHG Emissions KG',\n",
       "       'Energy Intensity ekWh_sqft', 'Year', 'Fuel Oil(LT)'],\n",
       "      dtype='object', name=1)"
      ]
     },
     "execution_count": 20,
     "metadata": {},
     "output_type": "execute_result"
    }
   ],
   "source": [
    "print(len(data_2013.columns))\n",
    "data_2013.columns"
   ]
  },
  {
   "cell_type": "code",
   "execution_count": 21,
   "id": "10742ccb",
   "metadata": {},
   "outputs": [],
   "source": [
    "data_2013.rename(columns={\n",
    "'Operation':'Operation Name',\n",
    "'Total Indoor Space_x':'Total Floor Area',\n",
    "'Electricity_Quantity':'Electricity(kWh)',\n",
    "'NaturalGas_Quantity':'Natural gas(CM)',\n",
    "'Propane_Quantity':'Propane(L)',\n",
    "'Coal_Quantity':'Coal(MT)',\n",
    "'Wood_Quantity':'Wood(MT)',\n",
    "'DistrictHeating_Quantity':'District Heating(GJ)',\n",
    "'DistrictCooling_Quantity':'District Cooling(GJ)',\n",
    "'GHG Emissions KG':'GHG Emissions(KG)',\n",
    "'Energy Intensity ekWh_sqft':'Energy Intensity'},inplace=True)"
   ]
  },
  {
   "cell_type": "code",
   "execution_count": 22,
   "id": "56d24a9f",
   "metadata": {},
   "outputs": [
    {
     "data": {
      "text/plain": [
       "Index(['Sector', 'Sub Sector', 'Organization', 'Operation Name',\n",
       "       'Operation Type', 'Address', 'City', 'Postal Code', 'Total Floor Area',\n",
       "       'Electricity(kWh)', 'Natural gas(CM)', 'Propane(L)', 'Coal(MT)',\n",
       "       'Wood(MT)', 'District Heating(GJ)', 'District Cooling(GJ)',\n",
       "       'GHG Emissions(KG)', 'Energy Intensity', 'Year', 'Fuel Oil(LT)'],\n",
       "      dtype='object', name=1)"
      ]
     },
     "execution_count": 22,
     "metadata": {},
     "output_type": "execute_result"
    }
   ],
   "source": [
    "data_2013.columns"
   ]
  },
  {
   "cell_type": "code",
   "execution_count": 23,
   "id": "88bdfaa3",
   "metadata": {},
   "outputs": [
    {
     "data": {
      "text/plain": [
       "1\n",
       "Sector                   0\n",
       "Sub Sector               0\n",
       "Organization             0\n",
       "Operation Name           0\n",
       "Operation Type           0\n",
       "Address                 11\n",
       "City                     0\n",
       "Postal Code              8\n",
       "Total Floor Area         0\n",
       "Electricity(kWh)         0\n",
       "Natural gas(CM)          0\n",
       "Propane(L)               0\n",
       "Coal(MT)                 0\n",
       "Wood(MT)                 0\n",
       "District Heating(GJ)     0\n",
       "District Cooling(GJ)     0\n",
       "GHG Emissions(KG)        0\n",
       "Energy Intensity         0\n",
       "Year                     0\n",
       "Fuel Oil(LT)             0\n",
       "dtype: int64"
      ]
     },
     "execution_count": 23,
     "metadata": {},
     "output_type": "execute_result"
    }
   ],
   "source": [
    "data_2013.isna().sum()"
   ]
  },
  {
   "cell_type": "code",
   "execution_count": 24,
   "id": "9b047d98",
   "metadata": {},
   "outputs": [
    {
     "data": {
      "text/plain": [
       "(17010, 20)"
      ]
     },
     "execution_count": 24,
     "metadata": {},
     "output_type": "execute_result"
    }
   ],
   "source": [
    "data_2013.shape"
   ]
  },
  {
   "cell_type": "code",
   "execution_count": 25,
   "id": "f5173b00",
   "metadata": {},
   "outputs": [
    {
     "data": {
      "text/plain": [
       "(16999, 20)"
      ]
     },
     "execution_count": 25,
     "metadata": {},
     "output_type": "execute_result"
    }
   ],
   "source": [
    "data_2013.dropna(inplace = True)\n",
    "data_2013.shape"
   ]
  },
  {
   "cell_type": "code",
   "execution_count": 26,
   "id": "0234b505",
   "metadata": {},
   "outputs": [
    {
     "data": {
      "text/plain": [
       "0"
      ]
     },
     "execution_count": 26,
     "metadata": {},
     "output_type": "execute_result"
    }
   ],
   "source": [
    "data_2013.duplicated().sum()"
   ]
  },
  {
   "cell_type": "code",
   "execution_count": null,
   "id": "b490fdb3",
   "metadata": {},
   "outputs": [],
   "source": []
  },
  {
   "cell_type": "code",
   "execution_count": 27,
   "id": "afb46319",
   "metadata": {},
   "outputs": [
    {
     "data": {
      "text/html": [
       "<div>\n",
       "<style scoped>\n",
       "    .dataframe tbody tr th:only-of-type {\n",
       "        vertical-align: middle;\n",
       "    }\n",
       "\n",
       "    .dataframe tbody tr th {\n",
       "        vertical-align: top;\n",
       "    }\n",
       "\n",
       "    .dataframe thead th {\n",
       "        text-align: right;\n",
       "    }\n",
       "</style>\n",
       "<table border=\"1\" class=\"dataframe\">\n",
       "  <thead>\n",
       "    <tr style=\"text-align: right;\">\n",
       "      <th></th>\n",
       "      <th>The GJ/m2 column has been updated to address conversion irregularities.</th>\n",
       "      <th>Unnamed: 1</th>\n",
       "      <th>Unnamed: 2</th>\n",
       "      <th>Unnamed: 3</th>\n",
       "      <th>Unnamed: 4</th>\n",
       "      <th>Unnamed: 5</th>\n",
       "      <th>Unnamed: 6</th>\n",
       "      <th>Unnamed: 7</th>\n",
       "      <th>Unnamed: 8</th>\n",
       "      <th>Unnamed: 9</th>\n",
       "      <th>...</th>\n",
       "      <th>Unnamed: 31</th>\n",
       "      <th>Unnamed: 32</th>\n",
       "      <th>Unnamed: 33</th>\n",
       "      <th>Unnamed: 34</th>\n",
       "      <th>Unnamed: 35</th>\n",
       "      <th>Unnamed: 36</th>\n",
       "      <th>Unnamed: 37</th>\n",
       "      <th>Unnamed: 38</th>\n",
       "      <th>Unnamed: 39</th>\n",
       "      <th>Unnamed: 40</th>\n",
       "    </tr>\n",
       "  </thead>\n",
       "  <tbody>\n",
       "    <tr>\n",
       "      <th>0</th>\n",
       "      <td>NaN</td>\n",
       "      <td>NaN</td>\n",
       "      <td>NaN</td>\n",
       "      <td>NaN</td>\n",
       "      <td>NaN</td>\n",
       "      <td>NaN</td>\n",
       "      <td>NaN</td>\n",
       "      <td>NaN</td>\n",
       "      <td>NaN</td>\n",
       "      <td>NaN</td>\n",
       "      <td>...</td>\n",
       "      <td>NaN</td>\n",
       "      <td>NaN</td>\n",
       "      <td>NaN</td>\n",
       "      <td>NaN</td>\n",
       "      <td>NaN</td>\n",
       "      <td>NaN</td>\n",
       "      <td>NaN</td>\n",
       "      <td>NaN</td>\n",
       "      <td>NaN</td>\n",
       "      <td>NaN</td>\n",
       "    </tr>\n",
       "    <tr>\n",
       "      <th>1</th>\n",
       "      <td>Sector</td>\n",
       "      <td>Sub Sector</td>\n",
       "      <td>Organization</td>\n",
       "      <td>Operation</td>\n",
       "      <td>Operation Type</td>\n",
       "      <td>Address</td>\n",
       "      <td>City</td>\n",
       "      <td>Postal Code</td>\n",
       "      <td>Total Indoor Space_x</td>\n",
       "      <td>Unit of Measure</td>\n",
       "      <td>...</td>\n",
       "      <td>DistrictHeating_RenewableEmissionFactor</td>\n",
       "      <td>DistrictCooling_Quantity</td>\n",
       "      <td>DistrictCooling_Unit</td>\n",
       "      <td>DistrictCooling_IsRenewable</td>\n",
       "      <td>DistrictCooling_RenewableEmissionFactor</td>\n",
       "      <td>GHG Emissions KG</td>\n",
       "      <td>Energy Intensity ekWh_sqft</td>\n",
       "      <td>Energy Intensity ekWh_mega_litre</td>\n",
       "      <td>Energy Intensity GJ_m2</td>\n",
       "      <td>Energy Intensity GJ_mega_litre</td>\n",
       "    </tr>\n",
       "  </tbody>\n",
       "</table>\n",
       "<p>2 rows × 41 columns</p>\n",
       "</div>"
      ],
      "text/plain": [
       "  The GJ/m2 column has been updated to address conversion irregularities.  \\\n",
       "0                                                NaN                        \n",
       "1                                             Sector                        \n",
       "\n",
       "   Unnamed: 1    Unnamed: 2 Unnamed: 3      Unnamed: 4 Unnamed: 5 Unnamed: 6  \\\n",
       "0         NaN           NaN        NaN             NaN        NaN        NaN   \n",
       "1  Sub Sector  Organization  Operation  Operation Type    Address       City   \n",
       "\n",
       "    Unnamed: 7            Unnamed: 8       Unnamed: 9  ...  \\\n",
       "0          NaN                   NaN              NaN  ...   \n",
       "1  Postal Code  Total Indoor Space_x  Unit of Measure  ...   \n",
       "\n",
       "                               Unnamed: 31               Unnamed: 32  \\\n",
       "0                                      NaN                       NaN   \n",
       "1  DistrictHeating_RenewableEmissionFactor  DistrictCooling_Quantity   \n",
       "\n",
       "            Unnamed: 33                  Unnamed: 34  \\\n",
       "0                   NaN                          NaN   \n",
       "1  DistrictCooling_Unit  DistrictCooling_IsRenewable   \n",
       "\n",
       "                               Unnamed: 35       Unnamed: 36  \\\n",
       "0                                      NaN               NaN   \n",
       "1  DistrictCooling_RenewableEmissionFactor  GHG Emissions KG   \n",
       "\n",
       "                  Unnamed: 37                       Unnamed: 38  \\\n",
       "0                         NaN                               NaN   \n",
       "1  Energy Intensity ekWh_sqft  Energy Intensity ekWh_mega_litre   \n",
       "\n",
       "              Unnamed: 39                     Unnamed: 40  \n",
       "0                     NaN                             NaN  \n",
       "1  Energy Intensity GJ_m2  Energy Intensity GJ_mega_litre  \n",
       "\n",
       "[2 rows x 41 columns]"
      ]
     },
     "execution_count": 27,
     "metadata": {},
     "output_type": "execute_result"
    }
   ],
   "source": [
    "data_2014 = pd.read_excel('bps_2014_report_english.xlsx')\n",
    "data_2014.head(2)"
   ]
  },
  {
   "cell_type": "code",
   "execution_count": 28,
   "id": "9f36eda1",
   "metadata": {},
   "outputs": [],
   "source": [
    "data_2014.columns = data_2014.iloc[1]\n",
    "data_2014.drop(data_2014.index[[0,1]], inplace = True)\n",
    "data_2014.reset_index(inplace = True)\n",
    "data_2014.drop(columns = 'index', inplace = True)\n",
    "data_2014['Year'] = 2014"
   ]
  },
  {
   "cell_type": "code",
   "execution_count": 29,
   "id": "9bb364cf",
   "metadata": {},
   "outputs": [],
   "source": [
    "data_2014[\"Fuel Oil(LT)\"] = data_2014['FuelOil12_Quantity'] + data_2014['FuelOil46_Quantity']"
   ]
  },
  {
   "cell_type": "code",
   "execution_count": 30,
   "id": "b15e90f5",
   "metadata": {},
   "outputs": [
    {
     "name": "stdout",
     "output_type": "stream",
     "text": [
      "43\n"
     ]
    },
    {
     "data": {
      "text/plain": [
       "Index(['Sector', 'Sub Sector', 'Organization', 'Operation', 'Operation Type',\n",
       "       'Address', 'City', 'Postal Code', 'Total Indoor Space_x',\n",
       "       'Unit of Measure', 'Weekly Average Hours', 'Annual Flow (M',\n",
       "       'Number of Portables', 'Swimming Pool', 'Electricity_Quantity',\n",
       "       'Electricity_Unit', 'NaturalGas_Quantity', 'NaturalGas_Unit',\n",
       "       'FuelOil12_Quantity', 'FuelOil12_Unit', 'FuelOil46_Quantity',\n",
       "       'FuelOil46_Unit', 'Propane_Quantity', 'Propane_Unit', 'Coal_Quantity',\n",
       "       'Coal_Unit', 'Wood_Quantity', 'Wood_Unit', 'DistrictHeating_Quantity',\n",
       "       'DistrictHeating_Unit', 'DistrictHeating_IsRenewable',\n",
       "       'DistrictHeating_RenewableEmissionFactor', 'DistrictCooling_Quantity',\n",
       "       'DistrictCooling_Unit', 'DistrictCooling_IsRenewable',\n",
       "       'DistrictCooling_RenewableEmissionFactor', 'GHG Emissions KG',\n",
       "       'Energy Intensity ekWh_sqft', 'Energy Intensity ekWh_mega_litre',\n",
       "       'Energy Intensity GJ_m2', 'Energy Intensity GJ_mega_litre', 'Year',\n",
       "       'Fuel Oil(LT)'],\n",
       "      dtype='object', name=1)"
      ]
     },
     "execution_count": 30,
     "metadata": {},
     "output_type": "execute_result"
    }
   ],
   "source": [
    "print(len(data_2014.columns))\n",
    "data_2014.columns"
   ]
  },
  {
   "cell_type": "code",
   "execution_count": 31,
   "id": "6c7c8dcf",
   "metadata": {},
   "outputs": [],
   "source": [
    "data_2014.drop(data_2014[['FuelOil12_Quantity','FuelOil46_Quantity','Unit of Measure',\"Annual Flow (M\",'Electricity_Unit','NaturalGas_Unit','FuelOil12_Unit','FuelOil46_Unit','Propane_Unit','Coal_Unit','Wood_Unit','DistrictHeating_Unit','DistrictHeating_IsRenewable','DistrictHeating_RenewableEmissionFactor','DistrictCooling_Unit','DistrictCooling_IsRenewable','DistrictCooling_RenewableEmissionFactor','Number of Portables','Swimming Pool','Energy Intensity ekWh_mega_litre','Energy Intensity GJ_m2','Energy Intensity GJ_mega_litre','Weekly Average Hours']], axis = 1, inplace = True)"
   ]
  },
  {
   "cell_type": "code",
   "execution_count": 32,
   "id": "695c12dc",
   "metadata": {},
   "outputs": [
    {
     "data": {
      "text/plain": [
       "Index(['Sector', 'Sub Sector', 'Organization', 'Operation', 'Operation Type',\n",
       "       'Address', 'City', 'Postal Code', 'Total Indoor Space_x',\n",
       "       'Electricity_Quantity', 'NaturalGas_Quantity', 'Propane_Quantity',\n",
       "       'Coal_Quantity', 'Wood_Quantity', 'DistrictHeating_Quantity',\n",
       "       'DistrictCooling_Quantity', 'GHG Emissions KG',\n",
       "       'Energy Intensity ekWh_sqft', 'Year', 'Fuel Oil(LT)'],\n",
       "      dtype='object', name=1)"
      ]
     },
     "execution_count": 32,
     "metadata": {},
     "output_type": "execute_result"
    }
   ],
   "source": [
    "len(data_2014.columns)\n",
    "data_2014.columns"
   ]
  },
  {
   "cell_type": "code",
   "execution_count": 33,
   "id": "57fcea36",
   "metadata": {},
   "outputs": [],
   "source": [
    "data_2014.rename(columns={\n",
    "'Operation':'Operation Name',\n",
    "'Total Indoor Space_x':'Total Floor Area',\n",
    "'Electricity_Quantity':'Electricity(kWh)',\n",
    "'NaturalGas_Quantity':'Natural gas(CM)',\n",
    "'Fuel_Oil(LT)':'Fuel Oil(LT)',\n",
    "'Propane_Quantity':'Propane(L)',\n",
    "'Coal_Quantity':'Coal(MT)',\n",
    "'Wood_Quantity':'Wood(MT)',\n",
    "'DistrictHeating_Quantity':'District Heating(GJ)',\n",
    "'DistrictCooling_Quantity':'District Cooling(GJ)',\n",
    "'GHG Emissions KG':'GHG Emissions(KG)',\n",
    "'Energy Intensity ekWh_sqft':'Energy Intensity'},inplace=True)"
   ]
  },
  {
   "cell_type": "code",
   "execution_count": 34,
   "id": "ad34d05a",
   "metadata": {},
   "outputs": [
    {
     "data": {
      "text/plain": [
       "Index(['Sector', 'Sub Sector', 'Organization', 'Operation Name',\n",
       "       'Operation Type', 'Address', 'City', 'Postal Code', 'Total Floor Area',\n",
       "       'Electricity(kWh)', 'Natural gas(CM)', 'Propane(L)', 'Coal(MT)',\n",
       "       'Wood(MT)', 'District Heating(GJ)', 'District Cooling(GJ)',\n",
       "       'GHG Emissions(KG)', 'Energy Intensity', 'Year', 'Fuel Oil(LT)'],\n",
       "      dtype='object', name=1)"
      ]
     },
     "execution_count": 34,
     "metadata": {},
     "output_type": "execute_result"
    }
   ],
   "source": [
    "data_2014.columns"
   ]
  },
  {
   "cell_type": "code",
   "execution_count": 35,
   "id": "451e87f7",
   "metadata": {},
   "outputs": [
    {
     "data": {
      "text/plain": [
       "1\n",
       "Sector                   0\n",
       "Sub Sector               0\n",
       "Organization             0\n",
       "Operation Name           0\n",
       "Operation Type           0\n",
       "Address                 11\n",
       "City                     0\n",
       "Postal Code              8\n",
       "Total Floor Area         0\n",
       "Electricity(kWh)         0\n",
       "Natural gas(CM)         27\n",
       "Propane(L)              67\n",
       "Coal(MT)                67\n",
       "Wood(MT)                67\n",
       "District Heating(GJ)    67\n",
       "District Cooling(GJ)    67\n",
       "GHG Emissions(KG)        0\n",
       "Energy Intensity         0\n",
       "Year                     0\n",
       "Fuel Oil(LT)            67\n",
       "dtype: int64"
      ]
     },
     "execution_count": 35,
     "metadata": {},
     "output_type": "execute_result"
    }
   ],
   "source": [
    "data_2014.isna().sum()"
   ]
  },
  {
   "cell_type": "code",
   "execution_count": 36,
   "id": "2eb7593d",
   "metadata": {},
   "outputs": [
    {
     "data": {
      "text/plain": [
       "(17224, 20)"
      ]
     },
     "execution_count": 36,
     "metadata": {},
     "output_type": "execute_result"
    }
   ],
   "source": [
    "data_2014.shape"
   ]
  },
  {
   "cell_type": "code",
   "execution_count": 37,
   "id": "f00e8088",
   "metadata": {},
   "outputs": [
    {
     "data": {
      "text/plain": [
       "(17146, 20)"
      ]
     },
     "execution_count": 37,
     "metadata": {},
     "output_type": "execute_result"
    }
   ],
   "source": [
    "data_2014.dropna(inplace = True)\n",
    "data_2014.shape"
   ]
  },
  {
   "cell_type": "code",
   "execution_count": 38,
   "id": "8fa372f7",
   "metadata": {},
   "outputs": [
    {
     "data": {
      "text/plain": [
       "1\n",
       "Sector                  0\n",
       "Sub Sector              0\n",
       "Organization            0\n",
       "Operation Name          0\n",
       "Operation Type          0\n",
       "Address                 0\n",
       "City                    0\n",
       "Postal Code             0\n",
       "Total Floor Area        0\n",
       "Electricity(kWh)        0\n",
       "Natural gas(CM)         0\n",
       "Propane(L)              0\n",
       "Coal(MT)                0\n",
       "Wood(MT)                0\n",
       "District Heating(GJ)    0\n",
       "District Cooling(GJ)    0\n",
       "GHG Emissions(KG)       0\n",
       "Energy Intensity        0\n",
       "Year                    0\n",
       "Fuel Oil(LT)            0\n",
       "dtype: int64"
      ]
     },
     "execution_count": 38,
     "metadata": {},
     "output_type": "execute_result"
    }
   ],
   "source": [
    "data_2014.isna().sum()"
   ]
  },
  {
   "cell_type": "code",
   "execution_count": 39,
   "id": "0d85cad2",
   "metadata": {},
   "outputs": [
    {
     "data": {
      "text/plain": [
       "0"
      ]
     },
     "execution_count": 39,
     "metadata": {},
     "output_type": "execute_result"
    }
   ],
   "source": [
    "data_2014.duplicated().sum()"
   ]
  },
  {
   "cell_type": "code",
   "execution_count": null,
   "id": "a4357609",
   "metadata": {},
   "outputs": [],
   "source": []
  },
  {
   "cell_type": "code",
   "execution_count": null,
   "id": "574712a5",
   "metadata": {},
   "outputs": [],
   "source": []
  },
  {
   "cell_type": "code",
   "execution_count": 40,
   "id": "e924a676",
   "metadata": {},
   "outputs": [
    {
     "data": {
      "text/html": [
       "<div>\n",
       "<style scoped>\n",
       "    .dataframe tbody tr th:only-of-type {\n",
       "        vertical-align: middle;\n",
       "    }\n",
       "\n",
       "    .dataframe tbody tr th {\n",
       "        vertical-align: top;\n",
       "    }\n",
       "\n",
       "    .dataframe thead th {\n",
       "        text-align: right;\n",
       "    }\n",
       "</style>\n",
       "<table border=\"1\" class=\"dataframe\">\n",
       "  <thead>\n",
       "    <tr style=\"text-align: right;\">\n",
       "      <th></th>\n",
       "      <th>The GJ/m2 column has been updated to address conversion irregularities.</th>\n",
       "      <th>Unnamed: 1</th>\n",
       "      <th>Unnamed: 2</th>\n",
       "      <th>Unnamed: 3</th>\n",
       "      <th>Unnamed: 4</th>\n",
       "      <th>Unnamed: 5</th>\n",
       "      <th>Unnamed: 6</th>\n",
       "      <th>Unnamed: 7</th>\n",
       "      <th>Unnamed: 8</th>\n",
       "      <th>Unnamed: 9</th>\n",
       "      <th>...</th>\n",
       "      <th>Unnamed: 31</th>\n",
       "      <th>Unnamed: 32</th>\n",
       "      <th>Unnamed: 33</th>\n",
       "      <th>Unnamed: 34</th>\n",
       "      <th>Unnamed: 35</th>\n",
       "      <th>Unnamed: 36</th>\n",
       "      <th>Unnamed: 37</th>\n",
       "      <th>Unnamed: 38</th>\n",
       "      <th>Unnamed: 39</th>\n",
       "      <th>Unnamed: 40</th>\n",
       "    </tr>\n",
       "  </thead>\n",
       "  <tbody>\n",
       "    <tr>\n",
       "      <th>0</th>\n",
       "      <td>NaN</td>\n",
       "      <td>NaN</td>\n",
       "      <td>NaN</td>\n",
       "      <td>NaN</td>\n",
       "      <td>NaN</td>\n",
       "      <td>NaN</td>\n",
       "      <td>NaN</td>\n",
       "      <td>NaN</td>\n",
       "      <td>NaN</td>\n",
       "      <td>NaN</td>\n",
       "      <td>...</td>\n",
       "      <td>NaN</td>\n",
       "      <td>NaN</td>\n",
       "      <td>NaN</td>\n",
       "      <td>NaN</td>\n",
       "      <td>NaN</td>\n",
       "      <td>NaN</td>\n",
       "      <td>NaN</td>\n",
       "      <td>NaN</td>\n",
       "      <td>NaN</td>\n",
       "      <td>NaN</td>\n",
       "    </tr>\n",
       "    <tr>\n",
       "      <th>1</th>\n",
       "      <td>Sector</td>\n",
       "      <td>SubSector</td>\n",
       "      <td>Organization</td>\n",
       "      <td>Operation</td>\n",
       "      <td>Operation Type</td>\n",
       "      <td>Address</td>\n",
       "      <td>City</td>\n",
       "      <td>Postal Code</td>\n",
       "      <td>Total Indoor Space_x</td>\n",
       "      <td>Unit of Measure</td>\n",
       "      <td>...</td>\n",
       "      <td>DistrictHeating_RenewableEmissionFactor</td>\n",
       "      <td>DistrictCooling_Quantity</td>\n",
       "      <td>DistrictCooling_Unit</td>\n",
       "      <td>DistrictCooling_IsRenewable</td>\n",
       "      <td>DistrictCooling_RenewableEmissionFactor</td>\n",
       "      <td>GHG Emissions KG</td>\n",
       "      <td>Energy Intensity ekWh_sqft</td>\n",
       "      <td>Energy Intensity ekWh_mega_litre</td>\n",
       "      <td>Energy Intensity GJ_m2</td>\n",
       "      <td>Energy Intensity GJ_mega_litre</td>\n",
       "    </tr>\n",
       "  </tbody>\n",
       "</table>\n",
       "<p>2 rows × 41 columns</p>\n",
       "</div>"
      ],
      "text/plain": [
       "  The GJ/m2 column has been updated to address conversion irregularities.  \\\n",
       "0                                                NaN                        \n",
       "1                                             Sector                        \n",
       "\n",
       "  Unnamed: 1    Unnamed: 2 Unnamed: 3      Unnamed: 4 Unnamed: 5 Unnamed: 6  \\\n",
       "0        NaN           NaN        NaN             NaN        NaN        NaN   \n",
       "1  SubSector  Organization  Operation  Operation Type    Address       City   \n",
       "\n",
       "    Unnamed: 7            Unnamed: 8       Unnamed: 9  ...  \\\n",
       "0          NaN                   NaN              NaN  ...   \n",
       "1  Postal Code  Total Indoor Space_x  Unit of Measure  ...   \n",
       "\n",
       "                               Unnamed: 31               Unnamed: 32  \\\n",
       "0                                      NaN                       NaN   \n",
       "1  DistrictHeating_RenewableEmissionFactor  DistrictCooling_Quantity   \n",
       "\n",
       "            Unnamed: 33                  Unnamed: 34  \\\n",
       "0                   NaN                          NaN   \n",
       "1  DistrictCooling_Unit  DistrictCooling_IsRenewable   \n",
       "\n",
       "                               Unnamed: 35       Unnamed: 36  \\\n",
       "0                                      NaN               NaN   \n",
       "1  DistrictCooling_RenewableEmissionFactor  GHG Emissions KG   \n",
       "\n",
       "                  Unnamed: 37                       Unnamed: 38  \\\n",
       "0                         NaN                               NaN   \n",
       "1  Energy Intensity ekWh_sqft  Energy Intensity ekWh_mega_litre   \n",
       "\n",
       "              Unnamed: 39                     Unnamed: 40  \n",
       "0                     NaN                             NaN  \n",
       "1  Energy Intensity GJ_m2  Energy Intensity GJ_mega_litre  \n",
       "\n",
       "[2 rows x 41 columns]"
      ]
     },
     "execution_count": 40,
     "metadata": {},
     "output_type": "execute_result"
    }
   ],
   "source": [
    "data_2015 = pd.read_excel('bps_2015_report_english.xlsx')\n",
    "data_2015.head(2)"
   ]
  },
  {
   "cell_type": "code",
   "execution_count": 41,
   "id": "cb3b8b48",
   "metadata": {},
   "outputs": [],
   "source": [
    "data_2015.columns = data_2015.iloc[1]\n",
    "data_2015.drop(data_2015.index[[0,1]], inplace = True)\n",
    "data_2015.reset_index(inplace = True)\n",
    "data_2015.drop(columns = 'index', inplace = True)\n",
    "data_2015['Year'] = 2015"
   ]
  },
  {
   "cell_type": "code",
   "execution_count": 42,
   "id": "116b2683",
   "metadata": {},
   "outputs": [
    {
     "data": {
      "text/html": [
       "<div>\n",
       "<style scoped>\n",
       "    .dataframe tbody tr th:only-of-type {\n",
       "        vertical-align: middle;\n",
       "    }\n",
       "\n",
       "    .dataframe tbody tr th {\n",
       "        vertical-align: top;\n",
       "    }\n",
       "\n",
       "    .dataframe thead th {\n",
       "        text-align: right;\n",
       "    }\n",
       "</style>\n",
       "<table border=\"1\" class=\"dataframe\">\n",
       "  <thead>\n",
       "    <tr style=\"text-align: right;\">\n",
       "      <th>1</th>\n",
       "      <th>Sector</th>\n",
       "      <th>SubSector</th>\n",
       "      <th>Organization</th>\n",
       "      <th>Operation</th>\n",
       "      <th>Operation Type</th>\n",
       "      <th>Address</th>\n",
       "      <th>City</th>\n",
       "      <th>Postal Code</th>\n",
       "      <th>Total Indoor Space_x</th>\n",
       "      <th>Unit of Measure</th>\n",
       "      <th>...</th>\n",
       "      <th>DistrictCooling_Quantity</th>\n",
       "      <th>DistrictCooling_Unit</th>\n",
       "      <th>DistrictCooling_IsRenewable</th>\n",
       "      <th>DistrictCooling_RenewableEmissionFactor</th>\n",
       "      <th>GHG Emissions KG</th>\n",
       "      <th>Energy Intensity ekWh_sqft</th>\n",
       "      <th>Energy Intensity ekWh_mega_litre</th>\n",
       "      <th>Energy Intensity GJ_m2</th>\n",
       "      <th>Energy Intensity GJ_mega_litre</th>\n",
       "      <th>Year</th>\n",
       "    </tr>\n",
       "  </thead>\n",
       "  <tbody>\n",
       "    <tr>\n",
       "      <th>0</th>\n",
       "      <td>Public Hospital</td>\n",
       "      <td>Acute/Chronic Hospital</td>\n",
       "      <td>Alexandra Hospital</td>\n",
       "      <td>Alexandra Hospital, Ingersoll</td>\n",
       "      <td>Facilities used for hospital purposes</td>\n",
       "      <td>29 Noxon Street</td>\n",
       "      <td>Ingersoll</td>\n",
       "      <td>N5C 3V6</td>\n",
       "      <td>8474</td>\n",
       "      <td>Square meters</td>\n",
       "      <td>...</td>\n",
       "      <td>0</td>\n",
       "      <td>NaN</td>\n",
       "      <td>NaN</td>\n",
       "      <td>0</td>\n",
       "      <td>768494.191148</td>\n",
       "      <td>64.505982</td>\n",
       "      <td>0</td>\n",
       "      <td>2.499613</td>\n",
       "      <td>0</td>\n",
       "      <td>2015</td>\n",
       "    </tr>\n",
       "    <tr>\n",
       "      <th>1</th>\n",
       "      <td>Public Hospital</td>\n",
       "      <td>Acute/Chronic Hospital</td>\n",
       "      <td>Alexandria Glengarry Memorial Hospital</td>\n",
       "      <td>Glengarry Memorial Hospital</td>\n",
       "      <td>Facilities used for hospital purposes</td>\n",
       "      <td>20260 County Road 43</td>\n",
       "      <td>Alexandria</td>\n",
       "      <td>K0C 1A0</td>\n",
       "      <td>54969</td>\n",
       "      <td>Square feet</td>\n",
       "      <td>...</td>\n",
       "      <td>0</td>\n",
       "      <td>NaN</td>\n",
       "      <td>NaN</td>\n",
       "      <td>0</td>\n",
       "      <td>591993.944424</td>\n",
       "      <td>81.9991</td>\n",
       "      <td>0</td>\n",
       "      <td>3.177473</td>\n",
       "      <td>0</td>\n",
       "      <td>2015</td>\n",
       "    </tr>\n",
       "  </tbody>\n",
       "</table>\n",
       "<p>2 rows × 42 columns</p>\n",
       "</div>"
      ],
      "text/plain": [
       "1           Sector               SubSector  \\\n",
       "0  Public Hospital  Acute/Chronic Hospital   \n",
       "1  Public Hospital  Acute/Chronic Hospital   \n",
       "\n",
       "1                            Organization                      Operation  \\\n",
       "0                      Alexandra Hospital  Alexandra Hospital, Ingersoll   \n",
       "1  Alexandria Glengarry Memorial Hospital    Glengarry Memorial Hospital   \n",
       "\n",
       "1                         Operation Type               Address        City  \\\n",
       "0  Facilities used for hospital purposes       29 Noxon Street   Ingersoll   \n",
       "1  Facilities used for hospital purposes  20260 County Road 43  Alexandria   \n",
       "\n",
       "1 Postal Code Total Indoor Space_x Unit of Measure  ...  \\\n",
       "0     N5C 3V6                 8474   Square meters  ...   \n",
       "1     K0C 1A0                54969     Square feet  ...   \n",
       "\n",
       "1 DistrictCooling_Quantity DistrictCooling_Unit DistrictCooling_IsRenewable  \\\n",
       "0                        0                  NaN                         NaN   \n",
       "1                        0                  NaN                         NaN   \n",
       "\n",
       "1 DistrictCooling_RenewableEmissionFactor GHG Emissions KG  \\\n",
       "0                                       0    768494.191148   \n",
       "1                                       0    591993.944424   \n",
       "\n",
       "1 Energy Intensity ekWh_sqft Energy Intensity ekWh_mega_litre  \\\n",
       "0                  64.505982                                0   \n",
       "1                    81.9991                                0   \n",
       "\n",
       "1 Energy Intensity GJ_m2 Energy Intensity GJ_mega_litre  Year  \n",
       "0               2.499613                              0  2015  \n",
       "1               3.177473                              0  2015  \n",
       "\n",
       "[2 rows x 42 columns]"
      ]
     },
     "execution_count": 42,
     "metadata": {},
     "output_type": "execute_result"
    }
   ],
   "source": [
    "data_2015.head(2)"
   ]
  },
  {
   "cell_type": "code",
   "execution_count": 43,
   "id": "60aee822",
   "metadata": {},
   "outputs": [],
   "source": [
    "data_2015[\"Fuel Oil(LT)\"] = data_2015['FuelOil12_Quantity'] + data_2015['FuelOil46_Quantity']"
   ]
  },
  {
   "cell_type": "code",
   "execution_count": 44,
   "id": "71f9016d",
   "metadata": {},
   "outputs": [
    {
     "name": "stdout",
     "output_type": "stream",
     "text": [
      "43\n"
     ]
    },
    {
     "data": {
      "text/plain": [
       "Index(['Sector', 'SubSector', 'Organization', 'Operation', 'Operation Type',\n",
       "       'Address', 'City', 'Postal Code', 'Total Indoor Space_x',\n",
       "       'Unit of Measure', 'Weekly Average Hours', 'Annual Flow (M',\n",
       "       'Number of Portables', 'Swimming Pool', 'Electricity_Quantity',\n",
       "       'Electricity_Unit', 'NaturalGas_Quantity', 'NaturalGas_Unit',\n",
       "       'FuelOil12_Quantity', 'FuelOil12_Unit', 'FuelOil46_Quantity',\n",
       "       'FuelOil46_Unit', 'Propane_Quantity', 'Propane_Unit', 'Coal_Quantity',\n",
       "       'Coal_Unit', 'Wood_Quantity', 'Wood_Unit', 'DistrictHeating_Quantity',\n",
       "       'DistrictHeating_Unit', 'DistrictHeating_IsRenewable',\n",
       "       'DistrictHeating_RenewableEmissionFactor', 'DistrictCooling_Quantity',\n",
       "       'DistrictCooling_Unit', 'DistrictCooling_IsRenewable',\n",
       "       'DistrictCooling_RenewableEmissionFactor', 'GHG Emissions KG',\n",
       "       'Energy Intensity ekWh_sqft', 'Energy Intensity ekWh_mega_litre',\n",
       "       'Energy Intensity GJ_m2', 'Energy Intensity GJ_mega_litre', 'Year',\n",
       "       'Fuel Oil(LT)'],\n",
       "      dtype='object', name=1)"
      ]
     },
     "execution_count": 44,
     "metadata": {},
     "output_type": "execute_result"
    }
   ],
   "source": [
    "print(len(data_2015.columns))\n",
    "data_2015.columns"
   ]
  },
  {
   "cell_type": "code",
   "execution_count": 45,
   "id": "d9441b44",
   "metadata": {},
   "outputs": [],
   "source": [
    "data_2015.drop(data_2015[['FuelOil12_Quantity','FuelOil46_Quantity','Unit of Measure',\"Annual Flow (M\",'Electricity_Unit','NaturalGas_Unit','FuelOil12_Unit','FuelOil46_Unit','Propane_Unit','Coal_Unit','Wood_Unit','DistrictHeating_Unit','DistrictHeating_IsRenewable','DistrictHeating_RenewableEmissionFactor','DistrictCooling_Unit','DistrictCooling_IsRenewable','DistrictCooling_RenewableEmissionFactor','Number of Portables','Swimming Pool','Energy Intensity ekWh_mega_litre','Energy Intensity GJ_m2','Energy Intensity GJ_mega_litre','Weekly Average Hours']], axis = 1, inplace = True)"
   ]
  },
  {
   "cell_type": "code",
   "execution_count": 46,
   "id": "b920d75f",
   "metadata": {},
   "outputs": [
    {
     "name": "stdout",
     "output_type": "stream",
     "text": [
      "20\n"
     ]
    },
    {
     "data": {
      "text/plain": [
       "Index(['Sector', 'SubSector', 'Organization', 'Operation', 'Operation Type',\n",
       "       'Address', 'City', 'Postal Code', 'Total Indoor Space_x',\n",
       "       'Electricity_Quantity', 'NaturalGas_Quantity', 'Propane_Quantity',\n",
       "       'Coal_Quantity', 'Wood_Quantity', 'DistrictHeating_Quantity',\n",
       "       'DistrictCooling_Quantity', 'GHG Emissions KG',\n",
       "       'Energy Intensity ekWh_sqft', 'Year', 'Fuel Oil(LT)'],\n",
       "      dtype='object', name=1)"
      ]
     },
     "execution_count": 46,
     "metadata": {},
     "output_type": "execute_result"
    }
   ],
   "source": [
    "print(len(data_2015.columns))\n",
    "data_2015.columns"
   ]
  },
  {
   "cell_type": "code",
   "execution_count": 47,
   "id": "796b60c4",
   "metadata": {},
   "outputs": [],
   "source": [
    "data_2015.rename(columns={\n",
    "'SubSector':'Sub Sector',\n",
    "'Operation':'Operation Name',\n",
    "'Total Indoor Space_x':'Total Floor Area',\n",
    "'Electricity_Quantity':'Electricity(kWh)',\n",
    "'NaturalGas_Quantity':'Natural gas(CM)',\n",
    "'Fuel_Oil(LT)':'Fuel Oil(LT)',\n",
    "'Propane_Quantity':'Propane(L)',\n",
    "'Coal_Quantity':'Coal(MT)',\n",
    "'Wood_Quantity':'Wood(MT)',\n",
    "'DistrictHeating_Quantity':'District Heating(GJ)',\n",
    "'DistrictCooling_Quantity':'District Cooling(GJ)',\n",
    "'GHG Emissions KG':'GHG Emissions(KG)',\n",
    "'Energy Intensity ekWh_sqft':'Energy Intensity'},inplace=True)"
   ]
  },
  {
   "cell_type": "code",
   "execution_count": 48,
   "id": "590d7a81",
   "metadata": {
    "scrolled": true
   },
   "outputs": [
    {
     "data": {
      "text/plain": [
       "Index(['Sector', 'Sub Sector', 'Organization', 'Operation Name',\n",
       "       'Operation Type', 'Address', 'City', 'Postal Code', 'Total Floor Area',\n",
       "       'Electricity(kWh)', 'Natural gas(CM)', 'Propane(L)', 'Coal(MT)',\n",
       "       'Wood(MT)', 'District Heating(GJ)', 'District Cooling(GJ)',\n",
       "       'GHG Emissions(KG)', 'Energy Intensity', 'Year', 'Fuel Oil(LT)'],\n",
       "      dtype='object', name=1)"
      ]
     },
     "execution_count": 48,
     "metadata": {},
     "output_type": "execute_result"
    }
   ],
   "source": [
    "data_2015.columns"
   ]
  },
  {
   "cell_type": "code",
   "execution_count": 49,
   "id": "aab7e25c",
   "metadata": {},
   "outputs": [
    {
     "data": {
      "text/plain": [
       "1\n",
       "Sector                   0\n",
       "Sub Sector               0\n",
       "Organization             0\n",
       "Operation Name           0\n",
       "Operation Type           0\n",
       "Address                 12\n",
       "City                     0\n",
       "Postal Code             37\n",
       "Total Floor Area         0\n",
       "Electricity(kWh)         0\n",
       "Natural gas(CM)          0\n",
       "Propane(L)               0\n",
       "Coal(MT)                 0\n",
       "Wood(MT)                 0\n",
       "District Heating(GJ)     0\n",
       "District Cooling(GJ)     0\n",
       "GHG Emissions(KG)        0\n",
       "Energy Intensity         0\n",
       "Year                     0\n",
       "Fuel Oil(LT)             0\n",
       "dtype: int64"
      ]
     },
     "execution_count": 49,
     "metadata": {},
     "output_type": "execute_result"
    }
   ],
   "source": [
    "data_2015.isna().sum()"
   ]
  },
  {
   "cell_type": "code",
   "execution_count": 50,
   "id": "f52adcf1",
   "metadata": {},
   "outputs": [
    {
     "name": "stdout",
     "output_type": "stream",
     "text": [
      "(17663, 20)\n"
     ]
    },
    {
     "data": {
      "text/plain": [
       "(17623, 20)"
      ]
     },
     "execution_count": 50,
     "metadata": {},
     "output_type": "execute_result"
    }
   ],
   "source": [
    "print(data_2015.shape)\n",
    "data_2015.dropna(inplace = True)\n",
    "data_2015.shape"
   ]
  },
  {
   "cell_type": "code",
   "execution_count": 51,
   "id": "a3f184f8",
   "metadata": {},
   "outputs": [
    {
     "data": {
      "text/plain": [
       "0"
      ]
     },
     "execution_count": 51,
     "metadata": {},
     "output_type": "execute_result"
    }
   ],
   "source": [
    "data_2015.duplicated().sum()"
   ]
  },
  {
   "cell_type": "code",
   "execution_count": null,
   "id": "5b7f4734",
   "metadata": {},
   "outputs": [],
   "source": []
  },
  {
   "cell_type": "code",
   "execution_count": null,
   "id": "6d211104",
   "metadata": {},
   "outputs": [],
   "source": []
  },
  {
   "cell_type": "code",
   "execution_count": 52,
   "id": "a2735cbb",
   "metadata": {},
   "outputs": [
    {
     "data": {
      "text/html": [
       "<div>\n",
       "<style scoped>\n",
       "    .dataframe tbody tr th:only-of-type {\n",
       "        vertical-align: middle;\n",
       "    }\n",
       "\n",
       "    .dataframe tbody tr th {\n",
       "        vertical-align: top;\n",
       "    }\n",
       "\n",
       "    .dataframe thead th {\n",
       "        text-align: right;\n",
       "    }\n",
       "</style>\n",
       "<table border=\"1\" class=\"dataframe\">\n",
       "  <thead>\n",
       "    <tr style=\"text-align: right;\">\n",
       "      <th></th>\n",
       "      <th>Sector</th>\n",
       "      <th>Sub Sector</th>\n",
       "      <th>Organization</th>\n",
       "      <th>Operation</th>\n",
       "      <th>Operation Type</th>\n",
       "      <th>Address</th>\n",
       "      <th>City</th>\n",
       "      <th>Postal Code</th>\n",
       "      <th>Total Indoor Space_x</th>\n",
       "      <th>Unit of Measure</th>\n",
       "      <th>...</th>\n",
       "      <th>DistrictHeating_RenewableEmissionFactor</th>\n",
       "      <th>DistrictCooling_Quantity</th>\n",
       "      <th>DistrictCooling_Unit</th>\n",
       "      <th>DistrictCooling_IsRenewable</th>\n",
       "      <th>DistrictCooling_RenewableEmissionFactor</th>\n",
       "      <th>GHG Emissions KG</th>\n",
       "      <th>Energy Intensity ekWh_sqft</th>\n",
       "      <th>Energy Intensity ekWh_mega_litre</th>\n",
       "      <th>Energy Intensity GJ_m2</th>\n",
       "      <th>Energy Intensity GJ_mega_litre</th>\n",
       "    </tr>\n",
       "  </thead>\n",
       "  <tbody>\n",
       "    <tr>\n",
       "      <th>0</th>\n",
       "      <td>Public Hospital</td>\n",
       "      <td>Acute/Chronic Hospital</td>\n",
       "      <td>Alexandra Hospital</td>\n",
       "      <td>Alexandra Hospital, Ingersoll</td>\n",
       "      <td>Facilities used for hospital purposes</td>\n",
       "      <td>29 Noxon Street</td>\n",
       "      <td>Ingersoll</td>\n",
       "      <td>N5C 3V6</td>\n",
       "      <td>8474.0</td>\n",
       "      <td>Square meters</td>\n",
       "      <td>...</td>\n",
       "      <td>0.0</td>\n",
       "      <td>0.0</td>\n",
       "      <td>NaN</td>\n",
       "      <td>NaN</td>\n",
       "      <td>0.0</td>\n",
       "      <td>882840.286320</td>\n",
       "      <td>72.433643</td>\n",
       "      <td>0.0</td>\n",
       "      <td>2.806804</td>\n",
       "      <td>0.0</td>\n",
       "    </tr>\n",
       "    <tr>\n",
       "      <th>1</th>\n",
       "      <td>Public Hospital</td>\n",
       "      <td>Acute/Chronic Hospital</td>\n",
       "      <td>Alexandria Glengarry Memorial Hospital</td>\n",
       "      <td>Glengarry Memorial Hospital</td>\n",
       "      <td>Facilities used for hospital purposes</td>\n",
       "      <td>20260 County Road 43</td>\n",
       "      <td>Alexandria</td>\n",
       "      <td>K0C 1A0</td>\n",
       "      <td>54969.0</td>\n",
       "      <td>Square feet</td>\n",
       "      <td>...</td>\n",
       "      <td>0.0</td>\n",
       "      <td>0.0</td>\n",
       "      <td>NaN</td>\n",
       "      <td>NaN</td>\n",
       "      <td>0.0</td>\n",
       "      <td>452486.561296</td>\n",
       "      <td>53.026440</td>\n",
       "      <td>0.0</td>\n",
       "      <td>2.054775</td>\n",
       "      <td>0.0</td>\n",
       "    </tr>\n",
       "  </tbody>\n",
       "</table>\n",
       "<p>2 rows × 41 columns</p>\n",
       "</div>"
      ],
      "text/plain": [
       "            Sector              Sub Sector  \\\n",
       "0  Public Hospital  Acute/Chronic Hospital   \n",
       "1  Public Hospital  Acute/Chronic Hospital   \n",
       "\n",
       "                             Organization                      Operation  \\\n",
       "0                      Alexandra Hospital  Alexandra Hospital, Ingersoll   \n",
       "1  Alexandria Glengarry Memorial Hospital    Glengarry Memorial Hospital   \n",
       "\n",
       "                          Operation Type               Address        City  \\\n",
       "0  Facilities used for hospital purposes       29 Noxon Street   Ingersoll   \n",
       "1  Facilities used for hospital purposes  20260 County Road 43  Alexandria   \n",
       "\n",
       "  Postal Code  Total Indoor Space_x Unit of Measure  ...  \\\n",
       "0     N5C 3V6                8474.0   Square meters  ...   \n",
       "1     K0C 1A0               54969.0     Square feet  ...   \n",
       "\n",
       "   DistrictHeating_RenewableEmissionFactor  DistrictCooling_Quantity  \\\n",
       "0                                      0.0                       0.0   \n",
       "1                                      0.0                       0.0   \n",
       "\n",
       "   DistrictCooling_Unit DistrictCooling_IsRenewable  \\\n",
       "0                   NaN                         NaN   \n",
       "1                   NaN                         NaN   \n",
       "\n",
       "   DistrictCooling_RenewableEmissionFactor GHG Emissions KG  \\\n",
       "0                                      0.0    882840.286320   \n",
       "1                                      0.0    452486.561296   \n",
       "\n",
       "   Energy Intensity ekWh_sqft Energy Intensity ekWh_mega_litre  \\\n",
       "0                   72.433643                              0.0   \n",
       "1                   53.026440                              0.0   \n",
       "\n",
       "   Energy Intensity GJ_m2 Energy Intensity GJ_mega_litre  \n",
       "0                2.806804                            0.0  \n",
       "1                2.054775                            0.0  \n",
       "\n",
       "[2 rows x 41 columns]"
      ]
     },
     "execution_count": 52,
     "metadata": {},
     "output_type": "execute_result"
    }
   ],
   "source": [
    "data_2016 = pd.read_excel('bps_2016_report_english.xlsx')\n",
    "data_2016.head(2)"
   ]
  },
  {
   "cell_type": "code",
   "execution_count": 53,
   "id": "e8530b77",
   "metadata": {},
   "outputs": [],
   "source": [
    "data_2016['Year'] = 2016"
   ]
  },
  {
   "cell_type": "code",
   "execution_count": 54,
   "id": "bb6ede4b",
   "metadata": {},
   "outputs": [],
   "source": [
    "data_2016[\"Fuel Oil(LT)\"] = data_2016['FuelOil12_Quantity'] + data_2016['FuelOil46_Quantity']"
   ]
  },
  {
   "cell_type": "code",
   "execution_count": 55,
   "id": "1d0d6d0a",
   "metadata": {},
   "outputs": [
    {
     "name": "stdout",
     "output_type": "stream",
     "text": [
      "43\n"
     ]
    },
    {
     "data": {
      "text/plain": [
       "Index(['Sector', 'Sub Sector', 'Organization', 'Operation', 'Operation Type',\n",
       "       'Address', 'City', 'Postal Code', 'Total Indoor Space_x',\n",
       "       'Unit of Measure', 'Weekly Average Hours', 'Annual Flow (M',\n",
       "       'Number of Portables', 'Swimming Pool', 'Electricity_Quantity',\n",
       "       'Electricity_Unit', 'NaturalGas_Quantity', 'NaturalGas_Unit',\n",
       "       'FuelOil12_Quantity', 'FuelOil12_Unit', 'FuelOil46_Quantity',\n",
       "       'FuelOil46_Unit', 'Propane_Quantity', 'Propane_Unit', 'Coal_Quantity',\n",
       "       'Coal_Unit', 'Wood_Quantity', 'Wood_Unit', 'DistrictHeating_Quantity',\n",
       "       'DistrictHeating_Unit', 'DistrictHeating_IsRenewable',\n",
       "       'DistrictHeating_RenewableEmissionFactor', 'DistrictCooling_Quantity',\n",
       "       'DistrictCooling_Unit', 'DistrictCooling_IsRenewable',\n",
       "       'DistrictCooling_RenewableEmissionFactor', 'GHG Emissions KG',\n",
       "       'Energy Intensity ekWh_sqft', 'Energy Intensity ekWh_mega_litre',\n",
       "       'Energy Intensity GJ_m2', 'Energy Intensity GJ_mega_litre', 'Year',\n",
       "       'Fuel Oil(LT)'],\n",
       "      dtype='object')"
      ]
     },
     "execution_count": 55,
     "metadata": {},
     "output_type": "execute_result"
    }
   ],
   "source": [
    "print(len(data_2016.columns))\n",
    "data_2016.columns"
   ]
  },
  {
   "cell_type": "code",
   "execution_count": 56,
   "id": "087259cc",
   "metadata": {},
   "outputs": [],
   "source": [
    "data_2016.drop(data_2016[['FuelOil12_Quantity','FuelOil46_Quantity','Unit of Measure',\"Annual Flow (M\",'Electricity_Unit','NaturalGas_Unit','FuelOil12_Unit','FuelOil46_Unit','Propane_Unit','Coal_Unit','Wood_Unit','DistrictHeating_Unit','DistrictHeating_IsRenewable','DistrictHeating_RenewableEmissionFactor','DistrictCooling_Unit','DistrictCooling_IsRenewable','DistrictCooling_RenewableEmissionFactor','Number of Portables','Swimming Pool','Energy Intensity ekWh_mega_litre','Energy Intensity GJ_m2','Energy Intensity GJ_mega_litre','Weekly Average Hours']], axis = 1, inplace = True)"
   ]
  },
  {
   "cell_type": "code",
   "execution_count": 57,
   "id": "d09a2991",
   "metadata": {},
   "outputs": [
    {
     "name": "stdout",
     "output_type": "stream",
     "text": [
      "20\n"
     ]
    },
    {
     "data": {
      "text/plain": [
       "Index(['Sector', 'Sub Sector', 'Organization', 'Operation', 'Operation Type',\n",
       "       'Address', 'City', 'Postal Code', 'Total Indoor Space_x',\n",
       "       'Electricity_Quantity', 'NaturalGas_Quantity', 'Propane_Quantity',\n",
       "       'Coal_Quantity', 'Wood_Quantity', 'DistrictHeating_Quantity',\n",
       "       'DistrictCooling_Quantity', 'GHG Emissions KG',\n",
       "       'Energy Intensity ekWh_sqft', 'Year', 'Fuel Oil(LT)'],\n",
       "      dtype='object')"
      ]
     },
     "execution_count": 57,
     "metadata": {},
     "output_type": "execute_result"
    }
   ],
   "source": [
    "print(len(data_2016.columns))\n",
    "data_2016.columns"
   ]
  },
  {
   "cell_type": "code",
   "execution_count": 58,
   "id": "ff8cefe8",
   "metadata": {},
   "outputs": [],
   "source": [
    "data_2016.rename(columns={\n",
    "'Operation':'Operation Name',\n",
    "'Total Indoor Space_x':'Total Floor Area',\n",
    "'Electricity_Quantity':'Electricity(kWh)',\n",
    "'NaturalGas_Quantity':'Natural gas(CM)',\n",
    "'Propane_Quantity':'Propane(L)',\n",
    "'Coal_Quantity':'Coal(MT)',\n",
    "'Wood_Quantity':'Wood(MT)',\n",
    "'DistrictHeating_Quantity':'District Heating(GJ)',\n",
    "'DistrictCooling_Quantity':'District Cooling(GJ)',\n",
    "'GHG Emissions KG':'GHG Emissions(KG)',\n",
    "'Energy Intensity ekWh_sqft':'Energy Intensity'},inplace=True)"
   ]
  },
  {
   "cell_type": "code",
   "execution_count": 59,
   "id": "c4854b53",
   "metadata": {
    "scrolled": true
   },
   "outputs": [
    {
     "data": {
      "text/plain": [
       "Index(['Sector', 'Sub Sector', 'Organization', 'Operation Name',\n",
       "       'Operation Type', 'Address', 'City', 'Postal Code', 'Total Floor Area',\n",
       "       'Electricity(kWh)', 'Natural gas(CM)', 'Propane(L)', 'Coal(MT)',\n",
       "       'Wood(MT)', 'District Heating(GJ)', 'District Cooling(GJ)',\n",
       "       'GHG Emissions(KG)', 'Energy Intensity', 'Year', 'Fuel Oil(LT)'],\n",
       "      dtype='object')"
      ]
     },
     "execution_count": 59,
     "metadata": {},
     "output_type": "execute_result"
    }
   ],
   "source": [
    "data_2016.columns"
   ]
  },
  {
   "cell_type": "code",
   "execution_count": 60,
   "id": "a1f0fe7c",
   "metadata": {},
   "outputs": [
    {
     "data": {
      "text/plain": [
       "Sector                   0\n",
       "Sub Sector               0\n",
       "Organization             0\n",
       "Operation Name           0\n",
       "Operation Type           0\n",
       "Address                 15\n",
       "City                     0\n",
       "Postal Code             36\n",
       "Total Floor Area         0\n",
       "Electricity(kWh)         0\n",
       "Natural gas(CM)          0\n",
       "Propane(L)               0\n",
       "Coal(MT)                 0\n",
       "Wood(MT)                 0\n",
       "District Heating(GJ)     0\n",
       "District Cooling(GJ)     0\n",
       "GHG Emissions(KG)        0\n",
       "Energy Intensity         0\n",
       "Year                     0\n",
       "Fuel Oil(LT)             0\n",
       "dtype: int64"
      ]
     },
     "execution_count": 60,
     "metadata": {},
     "output_type": "execute_result"
    }
   ],
   "source": [
    "data_2016.isna().sum()"
   ]
  },
  {
   "cell_type": "code",
   "execution_count": 61,
   "id": "993059e6",
   "metadata": {},
   "outputs": [
    {
     "name": "stdout",
     "output_type": "stream",
     "text": [
      "(17564, 20)\n"
     ]
    },
    {
     "data": {
      "text/plain": [
       "(17525, 20)"
      ]
     },
     "execution_count": 61,
     "metadata": {},
     "output_type": "execute_result"
    }
   ],
   "source": [
    "print(data_2016.shape)\n",
    "data_2016.dropna(inplace = True)\n",
    "data_2016.shape"
   ]
  },
  {
   "cell_type": "code",
   "execution_count": 62,
   "id": "a01598ed",
   "metadata": {},
   "outputs": [
    {
     "data": {
      "text/plain": [
       "0"
      ]
     },
     "execution_count": 62,
     "metadata": {},
     "output_type": "execute_result"
    }
   ],
   "source": [
    "data_2016.duplicated().sum()"
   ]
  },
  {
   "cell_type": "code",
   "execution_count": null,
   "id": "e65e8209",
   "metadata": {},
   "outputs": [],
   "source": []
  },
  {
   "cell_type": "code",
   "execution_count": null,
   "id": "a11dfd07",
   "metadata": {},
   "outputs": [],
   "source": []
  },
  {
   "cell_type": "code",
   "execution_count": 63,
   "id": "67183620",
   "metadata": {},
   "outputs": [
    {
     "data": {
      "text/html": [
       "<div>\n",
       "<style scoped>\n",
       "    .dataframe tbody tr th:only-of-type {\n",
       "        vertical-align: middle;\n",
       "    }\n",
       "\n",
       "    .dataframe tbody tr th {\n",
       "        vertical-align: top;\n",
       "    }\n",
       "\n",
       "    .dataframe thead th {\n",
       "        text-align: right;\n",
       "    }\n",
       "</style>\n",
       "<table border=\"1\" class=\"dataframe\">\n",
       "  <thead>\n",
       "    <tr style=\"text-align: right;\">\n",
       "      <th></th>\n",
       "      <th>Sector</th>\n",
       "      <th>SubSector</th>\n",
       "      <th>Organization</th>\n",
       "      <th>Operation</th>\n",
       "      <th>Operation Type</th>\n",
       "      <th>Address</th>\n",
       "      <th>City</th>\n",
       "      <th>Postal Code</th>\n",
       "      <th>Total Indoor Space_x</th>\n",
       "      <th>Unit of Measure</th>\n",
       "      <th>...</th>\n",
       "      <th>DistrictHeating_RenewableEmissionFactor</th>\n",
       "      <th>DistrictCooling_Quantity</th>\n",
       "      <th>DistrictCooling_Unit</th>\n",
       "      <th>DistrictCooling_IsRenewable</th>\n",
       "      <th>DistrictCooling_RenewableEmissionFactor</th>\n",
       "      <th>GHG Emissions KG</th>\n",
       "      <th>Energy Intensity ekWh_sqft</th>\n",
       "      <th>Energy Intensity ekWh_mega_litre</th>\n",
       "      <th>Energy Intensity GJ_m2</th>\n",
       "      <th>Energy Intensity GJ_mega_litre</th>\n",
       "    </tr>\n",
       "  </thead>\n",
       "  <tbody>\n",
       "    <tr>\n",
       "      <th>0</th>\n",
       "      <td>Public Hospital</td>\n",
       "      <td>Acute/Chronic Hospital</td>\n",
       "      <td>Alexandra Hospital</td>\n",
       "      <td>Alexandra Hospital, Ingersoll</td>\n",
       "      <td>Facilities used for hospital purposes</td>\n",
       "      <td>29 Noxon Street</td>\n",
       "      <td>Ingersoll</td>\n",
       "      <td>N5C 3V6</td>\n",
       "      <td>8474.0</td>\n",
       "      <td>Square meters</td>\n",
       "      <td>...</td>\n",
       "      <td>0.0</td>\n",
       "      <td>0.0</td>\n",
       "      <td>NaN</td>\n",
       "      <td>NaN</td>\n",
       "      <td>0.0</td>\n",
       "      <td>818719.109374</td>\n",
       "      <td>69.475690</td>\n",
       "      <td>0.0</td>\n",
       "      <td>2.692183</td>\n",
       "      <td>0.0</td>\n",
       "    </tr>\n",
       "    <tr>\n",
       "      <th>1</th>\n",
       "      <td>Public Hospital</td>\n",
       "      <td>Acute/Chronic Hospital</td>\n",
       "      <td>Alexandria Glengarry Memorial Hospital</td>\n",
       "      <td>Glengarry Memorial Hospital</td>\n",
       "      <td>Facilities used for hospital purposes</td>\n",
       "      <td>20260 County Road 43</td>\n",
       "      <td>Alexandria</td>\n",
       "      <td>K0C 1A0</td>\n",
       "      <td>54969.0</td>\n",
       "      <td>Square feet</td>\n",
       "      <td>...</td>\n",
       "      <td>0.0</td>\n",
       "      <td>0.0</td>\n",
       "      <td>NaN</td>\n",
       "      <td>NaN</td>\n",
       "      <td>0.0</td>\n",
       "      <td>490906.833780</td>\n",
       "      <td>74.317397</td>\n",
       "      <td>0.0</td>\n",
       "      <td>2.879799</td>\n",
       "      <td>0.0</td>\n",
       "    </tr>\n",
       "  </tbody>\n",
       "</table>\n",
       "<p>2 rows × 41 columns</p>\n",
       "</div>"
      ],
      "text/plain": [
       "            Sector               SubSector  \\\n",
       "0  Public Hospital  Acute/Chronic Hospital   \n",
       "1  Public Hospital  Acute/Chronic Hospital   \n",
       "\n",
       "                             Organization                      Operation  \\\n",
       "0                      Alexandra Hospital  Alexandra Hospital, Ingersoll   \n",
       "1  Alexandria Glengarry Memorial Hospital    Glengarry Memorial Hospital   \n",
       "\n",
       "                          Operation Type               Address        City  \\\n",
       "0  Facilities used for hospital purposes       29 Noxon Street   Ingersoll   \n",
       "1  Facilities used for hospital purposes  20260 County Road 43  Alexandria   \n",
       "\n",
       "  Postal Code  Total Indoor Space_x Unit of Measure  ...  \\\n",
       "0     N5C 3V6                8474.0   Square meters  ...   \n",
       "1     K0C 1A0               54969.0     Square feet  ...   \n",
       "\n",
       "   DistrictHeating_RenewableEmissionFactor  DistrictCooling_Quantity  \\\n",
       "0                                      0.0                       0.0   \n",
       "1                                      0.0                       0.0   \n",
       "\n",
       "   DistrictCooling_Unit DistrictCooling_IsRenewable  \\\n",
       "0                   NaN                         NaN   \n",
       "1                   NaN                         NaN   \n",
       "\n",
       "   DistrictCooling_RenewableEmissionFactor GHG Emissions KG  \\\n",
       "0                                      0.0    818719.109374   \n",
       "1                                      0.0    490906.833780   \n",
       "\n",
       "   Energy Intensity ekWh_sqft Energy Intensity ekWh_mega_litre  \\\n",
       "0                   69.475690                              0.0   \n",
       "1                   74.317397                              0.0   \n",
       "\n",
       "   Energy Intensity GJ_m2 Energy Intensity GJ_mega_litre  \n",
       "0                2.692183                            0.0  \n",
       "1                2.879799                            0.0  \n",
       "\n",
       "[2 rows x 41 columns]"
      ]
     },
     "execution_count": 63,
     "metadata": {},
     "output_type": "execute_result"
    }
   ],
   "source": [
    "data_2017 = pd.read_excel('2017_energy_consumption.xlsx')\n",
    "data_2017.head(2)"
   ]
  },
  {
   "cell_type": "code",
   "execution_count": 64,
   "id": "b8c1a8aa",
   "metadata": {},
   "outputs": [],
   "source": [
    "data_2017['Year'] = 2017"
   ]
  },
  {
   "cell_type": "code",
   "execution_count": 65,
   "id": "5b4821d0",
   "metadata": {},
   "outputs": [],
   "source": [
    "data_2017[\"Fuel Oil(LT)\"] = data_2017['FuelOil12_Quantity'] + data_2017['FuelOil46_Quantity']"
   ]
  },
  {
   "cell_type": "code",
   "execution_count": 66,
   "id": "f49ec599",
   "metadata": {},
   "outputs": [
    {
     "name": "stdout",
     "output_type": "stream",
     "text": [
      "43\n"
     ]
    },
    {
     "data": {
      "text/plain": [
       "Index(['Sector', 'SubSector', 'Organization', 'Operation', 'Operation Type',\n",
       "       'Address', 'City', 'Postal Code', 'Total Indoor Space_x',\n",
       "       'Unit of Measure', 'Weekly Average Hours', 'Annual Flow (M',\n",
       "       'Number of Portables', 'Swimming Pool', 'Electricity_Quantity',\n",
       "       'Electricity_Unit', 'NaturalGas_Quantity', 'NaturalGas_Unit',\n",
       "       'FuelOil12_Quantity', 'FuelOil12_Unit', 'FuelOil46_Quantity',\n",
       "       'FuelOil46_Unit', 'Propane_Quantity', 'Propane_Unit', 'Coal_Quantity',\n",
       "       'Coal_Unit', 'Wood_Quantity', 'Wood_Unit', 'DistrictHeating_Quantity',\n",
       "       'DistrictHeating_Unit', 'DistrictHeating_IsRenewable',\n",
       "       'DistrictHeating_RenewableEmissionFactor', 'DistrictCooling_Quantity',\n",
       "       'DistrictCooling_Unit', 'DistrictCooling_IsRenewable',\n",
       "       'DistrictCooling_RenewableEmissionFactor', 'GHG Emissions KG',\n",
       "       'Energy Intensity ekWh_sqft', 'Energy Intensity ekWh_mega_litre',\n",
       "       'Energy Intensity GJ_m2', 'Energy Intensity GJ_mega_litre', 'Year',\n",
       "       'Fuel Oil(LT)'],\n",
       "      dtype='object')"
      ]
     },
     "execution_count": 66,
     "metadata": {},
     "output_type": "execute_result"
    }
   ],
   "source": [
    "print(len(data_2017.columns))\n",
    "data_2017.columns"
   ]
  },
  {
   "cell_type": "code",
   "execution_count": 67,
   "id": "08c0333b",
   "metadata": {},
   "outputs": [],
   "source": [
    "data_2017.drop(data_2017[['FuelOil12_Quantity','FuelOil46_Quantity','Unit of Measure',\"Annual Flow (M\",'Electricity_Unit','NaturalGas_Unit','FuelOil12_Unit','FuelOil46_Unit','Propane_Unit','Coal_Unit','Wood_Unit','DistrictHeating_Unit','DistrictHeating_IsRenewable','DistrictHeating_RenewableEmissionFactor','DistrictCooling_Unit','DistrictCooling_IsRenewable','DistrictCooling_RenewableEmissionFactor','Number of Portables','Swimming Pool','Energy Intensity ekWh_mega_litre','Energy Intensity GJ_m2','Energy Intensity GJ_mega_litre','Weekly Average Hours']], axis = 1, inplace = True)"
   ]
  },
  {
   "cell_type": "code",
   "execution_count": 68,
   "id": "4d179a9f",
   "metadata": {},
   "outputs": [
    {
     "name": "stdout",
     "output_type": "stream",
     "text": [
      "20\n"
     ]
    },
    {
     "data": {
      "text/plain": [
       "Index(['Sector', 'SubSector', 'Organization', 'Operation', 'Operation Type',\n",
       "       'Address', 'City', 'Postal Code', 'Total Indoor Space_x',\n",
       "       'Electricity_Quantity', 'NaturalGas_Quantity', 'Propane_Quantity',\n",
       "       'Coal_Quantity', 'Wood_Quantity', 'DistrictHeating_Quantity',\n",
       "       'DistrictCooling_Quantity', 'GHG Emissions KG',\n",
       "       'Energy Intensity ekWh_sqft', 'Year', 'Fuel Oil(LT)'],\n",
       "      dtype='object')"
      ]
     },
     "execution_count": 68,
     "metadata": {},
     "output_type": "execute_result"
    }
   ],
   "source": [
    "print(len(data_2017.columns))\n",
    "data_2017.columns"
   ]
  },
  {
   "cell_type": "code",
   "execution_count": 69,
   "id": "fb4300dd",
   "metadata": {},
   "outputs": [],
   "source": [
    "data_2017.rename(columns={\n",
    "'SubSector':'Sub Sector',\n",
    "'Operation':'Operation Name',\n",
    "'Total Indoor Space_x':'Total Floor Area',\n",
    "'Electricity_Quantity':'Electricity(kWh)',\n",
    "'NaturalGas_Quantity':'Natural gas(CM)',\n",
    "'Propane_Quantity':'Propane(L)',\n",
    "'Coal_Quantity':'Coal(MT)',\n",
    "'Wood_Quantity':'Wood(MT)',\n",
    "'DistrictHeating_Quantity':'District Heating(GJ)',\n",
    "'DistrictCooling_Quantity':'District Cooling(GJ)',\n",
    "'GHG Emissions KG':'GHG Emissions(KG)',\n",
    "'Energy Intensity ekWh_sqft':'Energy Intensity'},inplace=True)"
   ]
  },
  {
   "cell_type": "code",
   "execution_count": 70,
   "id": "50842abe",
   "metadata": {
    "scrolled": true
   },
   "outputs": [
    {
     "data": {
      "text/plain": [
       "Index(['Sector', 'Sub Sector', 'Organization', 'Operation Name',\n",
       "       'Operation Type', 'Address', 'City', 'Postal Code', 'Total Floor Area',\n",
       "       'Electricity(kWh)', 'Natural gas(CM)', 'Propane(L)', 'Coal(MT)',\n",
       "       'Wood(MT)', 'District Heating(GJ)', 'District Cooling(GJ)',\n",
       "       'GHG Emissions(KG)', 'Energy Intensity', 'Year', 'Fuel Oil(LT)'],\n",
       "      dtype='object')"
      ]
     },
     "execution_count": 70,
     "metadata": {},
     "output_type": "execute_result"
    }
   ],
   "source": [
    "data_2017.columns"
   ]
  },
  {
   "cell_type": "code",
   "execution_count": 71,
   "id": "c580254d",
   "metadata": {},
   "outputs": [
    {
     "name": "stdout",
     "output_type": "stream",
     "text": [
      "(16949, 20)\n"
     ]
    },
    {
     "data": {
      "text/plain": [
       "(16912, 20)"
      ]
     },
     "execution_count": 71,
     "metadata": {},
     "output_type": "execute_result"
    }
   ],
   "source": [
    "print(data_2017.shape)\n",
    "data_2017.dropna(inplace = True)\n",
    "data_2017.shape"
   ]
  },
  {
   "cell_type": "code",
   "execution_count": 72,
   "id": "9559bb40",
   "metadata": {},
   "outputs": [
    {
     "data": {
      "text/plain": [
       "0"
      ]
     },
     "execution_count": 72,
     "metadata": {},
     "output_type": "execute_result"
    }
   ],
   "source": [
    "data_2017.duplicated().sum()"
   ]
  },
  {
   "cell_type": "code",
   "execution_count": null,
   "id": "ab5c0c02",
   "metadata": {},
   "outputs": [],
   "source": []
  },
  {
   "cell_type": "code",
   "execution_count": null,
   "id": "0347348a",
   "metadata": {},
   "outputs": [],
   "source": []
  },
  {
   "cell_type": "code",
   "execution_count": null,
   "id": "61e23fec",
   "metadata": {},
   "outputs": [],
   "source": []
  },
  {
   "cell_type": "code",
   "execution_count": 73,
   "id": "4b145a5c",
   "metadata": {},
   "outputs": [
    {
     "data": {
      "text/html": [
       "<div>\n",
       "<style scoped>\n",
       "    .dataframe tbody tr th:only-of-type {\n",
       "        vertical-align: middle;\n",
       "    }\n",
       "\n",
       "    .dataframe tbody tr th {\n",
       "        vertical-align: top;\n",
       "    }\n",
       "\n",
       "    .dataframe thead th {\n",
       "        text-align: right;\n",
       "    }\n",
       "</style>\n",
       "<table border=\"1\" class=\"dataframe\">\n",
       "  <thead>\n",
       "    <tr style=\"text-align: right;\">\n",
       "      <th></th>\n",
       "      <th>Sector</th>\n",
       "      <th>SubSector</th>\n",
       "      <th>Organization</th>\n",
       "      <th>Operation</th>\n",
       "      <th>Operation Type</th>\n",
       "      <th>Address</th>\n",
       "      <th>City</th>\n",
       "      <th>Postal Code</th>\n",
       "      <th>Total Indoor Space_x</th>\n",
       "      <th>Unit of Measure</th>\n",
       "      <th>...</th>\n",
       "      <th>DistrictHeating_RenewableEmissionFactor</th>\n",
       "      <th>DistrictCooling_Quantity</th>\n",
       "      <th>DistrictCooling_Unit</th>\n",
       "      <th>DistrictCooling_IsRenewable</th>\n",
       "      <th>DistrictCooling_RenewableEmissionFactor</th>\n",
       "      <th>GHG Emissions KG</th>\n",
       "      <th>Energy Intensity ekWh_sqft</th>\n",
       "      <th>Energy Intensity ekWh_mega_litre</th>\n",
       "      <th>Energy Intensity GJ_m2</th>\n",
       "      <th>Energy Intensity GJ_mega_litre</th>\n",
       "    </tr>\n",
       "  </thead>\n",
       "  <tbody>\n",
       "    <tr>\n",
       "      <th>0</th>\n",
       "      <td>Public Hospital</td>\n",
       "      <td>Acute/Chronic Hospital</td>\n",
       "      <td>Alexandra Hospital</td>\n",
       "      <td>Alexandra Hospital, Ingersoll</td>\n",
       "      <td>Facilities used for hospital purposes</td>\n",
       "      <td>29 Noxon Street</td>\n",
       "      <td>Ingersoll</td>\n",
       "      <td>N5C 3V6</td>\n",
       "      <td>8474.0</td>\n",
       "      <td>Square meters</td>\n",
       "      <td>...</td>\n",
       "      <td>0.0</td>\n",
       "      <td>0.0</td>\n",
       "      <td>NaN</td>\n",
       "      <td>NaN</td>\n",
       "      <td>0.0</td>\n",
       "      <td>888399.643901</td>\n",
       "      <td>72.686736</td>\n",
       "      <td>0.0</td>\n",
       "      <td>2.816611</td>\n",
       "      <td>0.0</td>\n",
       "    </tr>\n",
       "    <tr>\n",
       "      <th>1</th>\n",
       "      <td>School Board</td>\n",
       "      <td>School Board</td>\n",
       "      <td>Algoma District School Board</td>\n",
       "      <td>Adult Ed/Con Ed - (Alex Henry)</td>\n",
       "      <td>School</td>\n",
       "      <td>232 Northern Ave E</td>\n",
       "      <td>Sault Ste. Marie</td>\n",
       "      <td>P6B4H6</td>\n",
       "      <td>130923.0</td>\n",
       "      <td>Square feet</td>\n",
       "      <td>...</td>\n",
       "      <td>0.0</td>\n",
       "      <td>0.0</td>\n",
       "      <td>NaN</td>\n",
       "      <td>NaN</td>\n",
       "      <td>0.0</td>\n",
       "      <td>270965.739786</td>\n",
       "      <td>16.085611</td>\n",
       "      <td>0.0</td>\n",
       "      <td>0.623317</td>\n",
       "      <td>0.0</td>\n",
       "    </tr>\n",
       "  </tbody>\n",
       "</table>\n",
       "<p>2 rows × 41 columns</p>\n",
       "</div>"
      ],
      "text/plain": [
       "            Sector               SubSector                  Organization  \\\n",
       "0  Public Hospital  Acute/Chronic Hospital            Alexandra Hospital   \n",
       "1     School Board            School Board  Algoma District School Board   \n",
       "\n",
       "                        Operation                         Operation Type  \\\n",
       "0   Alexandra Hospital, Ingersoll  Facilities used for hospital purposes   \n",
       "1  Adult Ed/Con Ed - (Alex Henry)                                 School   \n",
       "\n",
       "              Address              City Postal Code  Total Indoor Space_x  \\\n",
       "0     29 Noxon Street         Ingersoll     N5C 3V6                8474.0   \n",
       "1  232 Northern Ave E  Sault Ste. Marie      P6B4H6              130923.0   \n",
       "\n",
       "  Unit of Measure  ...  DistrictHeating_RenewableEmissionFactor  \\\n",
       "0   Square meters  ...                                      0.0   \n",
       "1     Square feet  ...                                      0.0   \n",
       "\n",
       "   DistrictCooling_Quantity  DistrictCooling_Unit DistrictCooling_IsRenewable  \\\n",
       "0                       0.0                   NaN                         NaN   \n",
       "1                       0.0                   NaN                         NaN   \n",
       "\n",
       "   DistrictCooling_RenewableEmissionFactor GHG Emissions KG  \\\n",
       "0                                      0.0    888399.643901   \n",
       "1                                      0.0    270965.739786   \n",
       "\n",
       "   Energy Intensity ekWh_sqft Energy Intensity ekWh_mega_litre  \\\n",
       "0                   72.686736                              0.0   \n",
       "1                   16.085611                              0.0   \n",
       "\n",
       "   Energy Intensity GJ_m2 Energy Intensity GJ_mega_litre  \n",
       "0                2.816611                            0.0  \n",
       "1                0.623317                            0.0  \n",
       "\n",
       "[2 rows x 41 columns]"
      ]
     },
     "execution_count": 73,
     "metadata": {},
     "output_type": "execute_result"
    }
   ],
   "source": [
    "data_2018 = pd.read_excel('2018_final_data_set.xlsx')\n",
    "data_2018.head(2)"
   ]
  },
  {
   "cell_type": "code",
   "execution_count": 74,
   "id": "2971a629",
   "metadata": {},
   "outputs": [],
   "source": [
    "data_2018['Year'] = 2018"
   ]
  },
  {
   "cell_type": "code",
   "execution_count": 75,
   "id": "aa5d7263",
   "metadata": {},
   "outputs": [],
   "source": [
    "data_2018[\"Fuel Oil(LT)\"] = data_2018['FuelOil12_Quantity'] + data_2018['FuelOil46_Quantity']"
   ]
  },
  {
   "cell_type": "code",
   "execution_count": 76,
   "id": "706778f1",
   "metadata": {},
   "outputs": [
    {
     "name": "stdout",
     "output_type": "stream",
     "text": [
      "43\n"
     ]
    },
    {
     "data": {
      "text/plain": [
       "Index(['Sector', 'SubSector', 'Organization', 'Operation', 'Operation Type',\n",
       "       'Address', 'City', 'Postal Code', 'Total Indoor Space_x',\n",
       "       'Unit of Measure', 'Weekly Average Hours', 'Annual Flow (M',\n",
       "       'Number of Portables', 'Swimming Pool', 'Electricity_Quantity',\n",
       "       'Electricity_Unit', 'NaturalGas_Quantity', 'NaturalGas_Unit',\n",
       "       'FuelOil12_Quantity', 'FuelOil12_Unit', 'FuelOil46_Quantity',\n",
       "       'FuelOil46_Unit', 'Propane_Quantity', 'Propane_Unit', 'Coal_Quantity',\n",
       "       'Coal_Unit', 'Wood_Quantity', 'Wood_Unit', 'DistrictHeating_Quantity',\n",
       "       'DistrictHeating_Unit', 'DistrictHeating_IsRenewable',\n",
       "       'DistrictHeating_RenewableEmissionFactor', 'DistrictCooling_Quantity',\n",
       "       'DistrictCooling_Unit', 'DistrictCooling_IsRenewable',\n",
       "       'DistrictCooling_RenewableEmissionFactor', 'GHG Emissions KG',\n",
       "       'Energy Intensity ekWh_sqft', 'Energy Intensity ekWh_mega_litre',\n",
       "       'Energy Intensity GJ_m2', 'Energy Intensity GJ_mega_litre', 'Year',\n",
       "       'Fuel Oil(LT)'],\n",
       "      dtype='object')"
      ]
     },
     "execution_count": 76,
     "metadata": {},
     "output_type": "execute_result"
    }
   ],
   "source": [
    "print(len(data_2018.columns))\n",
    "data_2018.columns"
   ]
  },
  {
   "cell_type": "code",
   "execution_count": 77,
   "id": "736918dd",
   "metadata": {},
   "outputs": [],
   "source": [
    "data_2018.drop(data_2018[['FuelOil12_Quantity','FuelOil46_Quantity','Unit of Measure',\"Annual Flow (M\",'Electricity_Unit','NaturalGas_Unit','FuelOil12_Unit','FuelOil46_Unit','Propane_Unit','Coal_Unit','Wood_Unit','DistrictHeating_Unit','DistrictHeating_IsRenewable','DistrictHeating_RenewableEmissionFactor','DistrictCooling_Unit','DistrictCooling_IsRenewable','DistrictCooling_RenewableEmissionFactor','Number of Portables','Swimming Pool','Energy Intensity ekWh_mega_litre','Energy Intensity GJ_m2','Energy Intensity GJ_mega_litre','Weekly Average Hours']], axis = 1, inplace = True)"
   ]
  },
  {
   "cell_type": "code",
   "execution_count": 78,
   "id": "eabfdf53",
   "metadata": {},
   "outputs": [
    {
     "name": "stdout",
     "output_type": "stream",
     "text": [
      "20\n"
     ]
    },
    {
     "data": {
      "text/plain": [
       "Index(['Sector', 'SubSector', 'Organization', 'Operation', 'Operation Type',\n",
       "       'Address', 'City', 'Postal Code', 'Total Indoor Space_x',\n",
       "       'Electricity_Quantity', 'NaturalGas_Quantity', 'Propane_Quantity',\n",
       "       'Coal_Quantity', 'Wood_Quantity', 'DistrictHeating_Quantity',\n",
       "       'DistrictCooling_Quantity', 'GHG Emissions KG',\n",
       "       'Energy Intensity ekWh_sqft', 'Year', 'Fuel Oil(LT)'],\n",
       "      dtype='object')"
      ]
     },
     "execution_count": 78,
     "metadata": {},
     "output_type": "execute_result"
    }
   ],
   "source": [
    "print(len(data_2018.columns))\n",
    "data_2018.columns"
   ]
  },
  {
   "cell_type": "code",
   "execution_count": 79,
   "id": "1b547c26",
   "metadata": {},
   "outputs": [],
   "source": [
    "data_2018.rename(columns={\n",
    "'SubSector':'Sub Sector',\n",
    "'Operation':'Operation Name',\n",
    "'Total Indoor Space_x':'Total Floor Area',\n",
    "'Electricity_Quantity':'Electricity(kWh)',\n",
    "'NaturalGas_Quantity':'Natural gas(CM)',\n",
    "'Propane_Quantity':'Propane(L)',\n",
    "'Coal_Quantity':'Coal(MT)',\n",
    "'Wood_Quantity':'Wood(MT)',\n",
    "'DistrictHeating_Quantity':'District Heating(GJ)',\n",
    "'DistrictCooling_Quantity':'District Cooling(GJ)',\n",
    "'GHG Emissions KG':'GHG Emissions(KG)',\n",
    "'Energy Intensity ekWh_sqft':'Energy Intensity'},inplace=True)"
   ]
  },
  {
   "cell_type": "code",
   "execution_count": 80,
   "id": "13a49a1a",
   "metadata": {
    "scrolled": true
   },
   "outputs": [
    {
     "data": {
      "text/plain": [
       "Index(['Sector', 'Sub Sector', 'Organization', 'Operation Name',\n",
       "       'Operation Type', 'Address', 'City', 'Postal Code', 'Total Floor Area',\n",
       "       'Electricity(kWh)', 'Natural gas(CM)', 'Propane(L)', 'Coal(MT)',\n",
       "       'Wood(MT)', 'District Heating(GJ)', 'District Cooling(GJ)',\n",
       "       'GHG Emissions(KG)', 'Energy Intensity', 'Year', 'Fuel Oil(LT)'],\n",
       "      dtype='object')"
      ]
     },
     "execution_count": 80,
     "metadata": {},
     "output_type": "execute_result"
    }
   ],
   "source": [
    "data_2018.columns"
   ]
  },
  {
   "cell_type": "code",
   "execution_count": 81,
   "id": "e74613d1",
   "metadata": {},
   "outputs": [
    {
     "name": "stdout",
     "output_type": "stream",
     "text": [
      "(16653, 20)\n"
     ]
    },
    {
     "data": {
      "text/plain": [
       "(16064, 20)"
      ]
     },
     "execution_count": 81,
     "metadata": {},
     "output_type": "execute_result"
    }
   ],
   "source": [
    "print(data_2018.shape)\n",
    "data_2018.dropna(inplace = True)\n",
    "data_2018.shape"
   ]
  },
  {
   "cell_type": "code",
   "execution_count": 82,
   "id": "f3eecba7",
   "metadata": {},
   "outputs": [
    {
     "data": {
      "text/plain": [
       "0"
      ]
     },
     "execution_count": 82,
     "metadata": {},
     "output_type": "execute_result"
    }
   ],
   "source": [
    "data_2018.duplicated().sum()"
   ]
  },
  {
   "cell_type": "code",
   "execution_count": null,
   "id": "5801cf57",
   "metadata": {},
   "outputs": [],
   "source": []
  },
  {
   "cell_type": "code",
   "execution_count": null,
   "id": "a69a4189",
   "metadata": {},
   "outputs": [],
   "source": []
  },
  {
   "cell_type": "code",
   "execution_count": 83,
   "id": "a14115a8",
   "metadata": {},
   "outputs": [
    {
     "data": {
      "text/html": [
       "<div>\n",
       "<style scoped>\n",
       "    .dataframe tbody tr th:only-of-type {\n",
       "        vertical-align: middle;\n",
       "    }\n",
       "\n",
       "    .dataframe tbody tr th {\n",
       "        vertical-align: top;\n",
       "    }\n",
       "\n",
       "    .dataframe thead th {\n",
       "        text-align: right;\n",
       "    }\n",
       "</style>\n",
       "<table border=\"1\" class=\"dataframe\">\n",
       "  <thead>\n",
       "    <tr style=\"text-align: right;\">\n",
       "      <th></th>\n",
       "      <th>Sector</th>\n",
       "      <th>SubSector</th>\n",
       "      <th>Organization</th>\n",
       "      <th>Operation</th>\n",
       "      <th>Operation Type</th>\n",
       "      <th>Address</th>\n",
       "      <th>City</th>\n",
       "      <th>Postal Code</th>\n",
       "      <th>Total Indoor Space_x</th>\n",
       "      <th>Unit of Measure</th>\n",
       "      <th>...</th>\n",
       "      <th>DistrictHeating_RenewableEmissionFactor</th>\n",
       "      <th>DistrictCooling_Quantity</th>\n",
       "      <th>DistrictCooling_Unit</th>\n",
       "      <th>DistrictCooling_IsRenewable</th>\n",
       "      <th>DistrictCooling_RenewableEmissionFactor</th>\n",
       "      <th>GHG Emissions KG</th>\n",
       "      <th>Energy Intensity ekWh_sqft</th>\n",
       "      <th>Energy Intensity ekWh_mega_litre</th>\n",
       "      <th>Energy Intensity GJ_m2</th>\n",
       "      <th>Energy Intensity GJ_mega_litre</th>\n",
       "    </tr>\n",
       "  </thead>\n",
       "  <tbody>\n",
       "    <tr>\n",
       "      <th>0</th>\n",
       "      <td>Public Hospital</td>\n",
       "      <td>Acute/Chronic Hospital</td>\n",
       "      <td>Alexandra Hospital</td>\n",
       "      <td>Alexandra Hospital, Ingersoll</td>\n",
       "      <td>Facilities used for hospital purposes</td>\n",
       "      <td>29 Noxon Street</td>\n",
       "      <td>Ingersoll</td>\n",
       "      <td>N5C 3V6</td>\n",
       "      <td>8474.0</td>\n",
       "      <td>Square meters</td>\n",
       "      <td>...</td>\n",
       "      <td>0.0</td>\n",
       "      <td>0.0</td>\n",
       "      <td>NaN</td>\n",
       "      <td>NaN</td>\n",
       "      <td>0.0</td>\n",
       "      <td>904038.214491</td>\n",
       "      <td>72.721431</td>\n",
       "      <td>0.0</td>\n",
       "      <td>2.817955</td>\n",
       "      <td>0.0</td>\n",
       "    </tr>\n",
       "    <tr>\n",
       "      <th>1</th>\n",
       "      <td>Public Hospital</td>\n",
       "      <td>Acute/Chronic Hospital</td>\n",
       "      <td>Alexandria Glengarry Memorial Hospital</td>\n",
       "      <td>Glengarry Memorial Hospital</td>\n",
       "      <td>Facilities used for hospital purposes</td>\n",
       "      <td>20260 County Road 43</td>\n",
       "      <td>Alexandria</td>\n",
       "      <td>K0C 1A0</td>\n",
       "      <td>54969.0</td>\n",
       "      <td>Square feet</td>\n",
       "      <td>...</td>\n",
       "      <td>0.0</td>\n",
       "      <td>0.0</td>\n",
       "      <td>NaN</td>\n",
       "      <td>NaN</td>\n",
       "      <td>0.0</td>\n",
       "      <td>483223.250177</td>\n",
       "      <td>50.161246</td>\n",
       "      <td>0.0</td>\n",
       "      <td>1.943748</td>\n",
       "      <td>0.0</td>\n",
       "    </tr>\n",
       "  </tbody>\n",
       "</table>\n",
       "<p>2 rows × 41 columns</p>\n",
       "</div>"
      ],
      "text/plain": [
       "            Sector               SubSector  \\\n",
       "0  Public Hospital  Acute/Chronic Hospital   \n",
       "1  Public Hospital  Acute/Chronic Hospital   \n",
       "\n",
       "                             Organization                      Operation  \\\n",
       "0                      Alexandra Hospital  Alexandra Hospital, Ingersoll   \n",
       "1  Alexandria Glengarry Memorial Hospital    Glengarry Memorial Hospital   \n",
       "\n",
       "                          Operation Type               Address        City  \\\n",
       "0  Facilities used for hospital purposes       29 Noxon Street   Ingersoll   \n",
       "1  Facilities used for hospital purposes  20260 County Road 43  Alexandria   \n",
       "\n",
       "  Postal Code  Total Indoor Space_x Unit of Measure  ...  \\\n",
       "0     N5C 3V6                8474.0   Square meters  ...   \n",
       "1     K0C 1A0               54969.0     Square feet  ...   \n",
       "\n",
       "   DistrictHeating_RenewableEmissionFactor  DistrictCooling_Quantity  \\\n",
       "0                                      0.0                       0.0   \n",
       "1                                      0.0                       0.0   \n",
       "\n",
       "   DistrictCooling_Unit DistrictCooling_IsRenewable  \\\n",
       "0                   NaN                         NaN   \n",
       "1                   NaN                         NaN   \n",
       "\n",
       "   DistrictCooling_RenewableEmissionFactor GHG Emissions KG  \\\n",
       "0                                      0.0    904038.214491   \n",
       "1                                      0.0    483223.250177   \n",
       "\n",
       "   Energy Intensity ekWh_sqft Energy Intensity ekWh_mega_litre  \\\n",
       "0                   72.721431                              0.0   \n",
       "1                   50.161246                              0.0   \n",
       "\n",
       "   Energy Intensity GJ_m2 Energy Intensity GJ_mega_litre  \n",
       "0                2.817955                            0.0  \n",
       "1                1.943748                            0.0  \n",
       "\n",
       "[2 rows x 41 columns]"
      ]
     },
     "execution_count": 83,
     "metadata": {},
     "output_type": "execute_result"
    }
   ],
   "source": [
    "data_2019 = pd.read_excel('2019_final_data_set.xlsx')\n",
    "data_2019.head(2)"
   ]
  },
  {
   "cell_type": "code",
   "execution_count": 84,
   "id": "422fe1f0",
   "metadata": {},
   "outputs": [],
   "source": [
    "data_2019['Year'] = 2019"
   ]
  },
  {
   "cell_type": "code",
   "execution_count": 85,
   "id": "35bab86d",
   "metadata": {},
   "outputs": [],
   "source": [
    "data_2019[\"Fuel Oil(LT)\"] = data_2019['FuelOil12_Quantity'] + data_2019['FuelOil46_Quantity']"
   ]
  },
  {
   "cell_type": "code",
   "execution_count": 86,
   "id": "f9a5f0bd",
   "metadata": {},
   "outputs": [
    {
     "name": "stdout",
     "output_type": "stream",
     "text": [
      "43\n"
     ]
    },
    {
     "data": {
      "text/plain": [
       "Index(['Sector', 'SubSector', 'Organization', 'Operation', 'Operation Type',\n",
       "       'Address', 'City', 'Postal Code', 'Total Indoor Space_x',\n",
       "       'Unit of Measure', 'Weekly Average Hours', 'Annual Flow (M',\n",
       "       'Number of Portables', 'Swimming Pool', 'Electricity_Quantity',\n",
       "       'Electricity_Unit', 'NaturalGas_Quantity', 'NaturalGas_Unit',\n",
       "       'FuelOil12_Quantity', 'FuelOil12_Unit', 'FuelOil46_Quantity',\n",
       "       'FuelOil46_Unit', 'Propane_Quantity', 'Propane_Unit', 'Coal_Quantity',\n",
       "       'Coal_Unit', 'Wood_Quantity', 'Wood_Unit', 'DistrictHeating_Quantity',\n",
       "       'DistrictHeating_Unit', 'DistrictHeating_IsRenewable',\n",
       "       'DistrictHeating_RenewableEmissionFactor', 'DistrictCooling_Quantity',\n",
       "       'DistrictCooling_Unit', 'DistrictCooling_IsRenewable',\n",
       "       'DistrictCooling_RenewableEmissionFactor', 'GHG Emissions KG',\n",
       "       'Energy Intensity ekWh_sqft', 'Energy Intensity ekWh_mega_litre',\n",
       "       'Energy Intensity GJ_m2', 'Energy Intensity GJ_mega_litre', 'Year',\n",
       "       'Fuel Oil(LT)'],\n",
       "      dtype='object')"
      ]
     },
     "execution_count": 86,
     "metadata": {},
     "output_type": "execute_result"
    }
   ],
   "source": [
    "print(len(data_2019.columns))\n",
    "data_2019.columns"
   ]
  },
  {
   "cell_type": "code",
   "execution_count": 87,
   "id": "52c4dc8f",
   "metadata": {},
   "outputs": [],
   "source": [
    "data_2019.drop(data_2019[['Weekly Average Hours','FuelOil12_Quantity','FuelOil46_Quantity','Unit of Measure',\"Annual Flow (M\",'Electricity_Unit','NaturalGas_Unit','FuelOil12_Unit','FuelOil46_Unit','Propane_Unit','Coal_Unit','Wood_Unit','DistrictHeating_Unit','DistrictHeating_IsRenewable','DistrictHeating_RenewableEmissionFactor','DistrictCooling_Unit','DistrictCooling_IsRenewable','DistrictCooling_RenewableEmissionFactor','Number of Portables','Swimming Pool','Energy Intensity ekWh_mega_litre','Energy Intensity GJ_m2','Energy Intensity GJ_mega_litre']], axis = 1, inplace = True)"
   ]
  },
  {
   "cell_type": "code",
   "execution_count": 88,
   "id": "3f805242",
   "metadata": {},
   "outputs": [
    {
     "name": "stdout",
     "output_type": "stream",
     "text": [
      "20\n"
     ]
    },
    {
     "data": {
      "text/plain": [
       "Index(['Sector', 'SubSector', 'Organization', 'Operation', 'Operation Type',\n",
       "       'Address', 'City', 'Postal Code', 'Total Indoor Space_x',\n",
       "       'Electricity_Quantity', 'NaturalGas_Quantity', 'Propane_Quantity',\n",
       "       'Coal_Quantity', 'Wood_Quantity', 'DistrictHeating_Quantity',\n",
       "       'DistrictCooling_Quantity', 'GHG Emissions KG',\n",
       "       'Energy Intensity ekWh_sqft', 'Year', 'Fuel Oil(LT)'],\n",
       "      dtype='object')"
      ]
     },
     "execution_count": 88,
     "metadata": {},
     "output_type": "execute_result"
    }
   ],
   "source": [
    "print(len(data_2019.columns))\n",
    "data_2019.columns"
   ]
  },
  {
   "cell_type": "code",
   "execution_count": 89,
   "id": "8010e9cc",
   "metadata": {},
   "outputs": [],
   "source": [
    "data_2019.rename(columns={\n",
    "'SubSector':'Sub Sector',\n",
    "'Operation':'Operation Name',\n",
    "'Total Indoor Space_x':'Total Floor Area',\n",
    "'Electricity_Quantity':'Electricity(kWh)',\n",
    "'NaturalGas_Quantity':'Natural gas(CM)',\n",
    "'Propane_Quantity':'Propane(L)',\n",
    "'Coal_Quantity':'Coal(MT)',\n",
    "'Wood_Quantity':'Wood(MT)',\n",
    "'DistrictHeating_Quantity':'District Heating(GJ)',\n",
    "'DistrictCooling_Quantity':'District Cooling(GJ)',\n",
    "'GHG Emissions KG':'GHG Emissions(KG)',\n",
    "'Energy Intensity ekWh_sqft':'Energy Intensity'},inplace=True)"
   ]
  },
  {
   "cell_type": "code",
   "execution_count": 90,
   "id": "62668e21",
   "metadata": {
    "scrolled": true
   },
   "outputs": [
    {
     "data": {
      "text/plain": [
       "Index(['Sector', 'Sub Sector', 'Organization', 'Operation Name',\n",
       "       'Operation Type', 'Address', 'City', 'Postal Code', 'Total Floor Area',\n",
       "       'Electricity(kWh)', 'Natural gas(CM)', 'Propane(L)', 'Coal(MT)',\n",
       "       'Wood(MT)', 'District Heating(GJ)', 'District Cooling(GJ)',\n",
       "       'GHG Emissions(KG)', 'Energy Intensity', 'Year', 'Fuel Oil(LT)'],\n",
       "      dtype='object')"
      ]
     },
     "execution_count": 90,
     "metadata": {},
     "output_type": "execute_result"
    }
   ],
   "source": [
    "data_2019.columns"
   ]
  },
  {
   "cell_type": "code",
   "execution_count": 91,
   "id": "4aa99065",
   "metadata": {},
   "outputs": [
    {
     "name": "stdout",
     "output_type": "stream",
     "text": [
      "(17208, 20)\n"
     ]
    },
    {
     "data": {
      "text/plain": [
       "(17164, 20)"
      ]
     },
     "execution_count": 91,
     "metadata": {},
     "output_type": "execute_result"
    }
   ],
   "source": [
    "print(data_2019.shape)\n",
    "data_2019.dropna(inplace = True)\n",
    "data_2019.shape"
   ]
  },
  {
   "cell_type": "code",
   "execution_count": 92,
   "id": "03ca6898",
   "metadata": {},
   "outputs": [
    {
     "data": {
      "text/plain": [
       "0"
      ]
     },
     "execution_count": 92,
     "metadata": {},
     "output_type": "execute_result"
    }
   ],
   "source": [
    "data_2019.duplicated().sum()"
   ]
  },
  {
   "cell_type": "code",
   "execution_count": null,
   "id": "c838bcc8",
   "metadata": {},
   "outputs": [],
   "source": []
  },
  {
   "cell_type": "code",
   "execution_count": null,
   "id": "4b6d4023",
   "metadata": {},
   "outputs": [],
   "source": []
  },
  {
   "cell_type": "code",
   "execution_count": 93,
   "id": "17a5d7a4",
   "metadata": {},
   "outputs": [
    {
     "data": {
      "text/html": [
       "<div>\n",
       "<style scoped>\n",
       "    .dataframe tbody tr th:only-of-type {\n",
       "        vertical-align: middle;\n",
       "    }\n",
       "\n",
       "    .dataframe tbody tr th {\n",
       "        vertical-align: top;\n",
       "    }\n",
       "\n",
       "    .dataframe thead th {\n",
       "        text-align: right;\n",
       "    }\n",
       "</style>\n",
       "<table border=\"1\" class=\"dataframe\">\n",
       "  <thead>\n",
       "    <tr style=\"text-align: right;\">\n",
       "      <th></th>\n",
       "      <th>Sector</th>\n",
       "      <th>SubSector</th>\n",
       "      <th>Organization</th>\n",
       "      <th>Operation</th>\n",
       "      <th>Operation Type</th>\n",
       "      <th>Address</th>\n",
       "      <th>City</th>\n",
       "      <th>Postal Code</th>\n",
       "      <th>Total Indoor Space_x</th>\n",
       "      <th>Unit of Measure</th>\n",
       "      <th>...</th>\n",
       "      <th>DistrictHeating_RenewableEmissionFactor</th>\n",
       "      <th>DistrictCooling_Quantity</th>\n",
       "      <th>DistrictCooling_Unit</th>\n",
       "      <th>DistrictCooling_IsRenewable</th>\n",
       "      <th>DistrictCooling_RenewableEmissionFactor</th>\n",
       "      <th>GHG Emissions KG</th>\n",
       "      <th>Energy Intensity ekWh_sqft</th>\n",
       "      <th>Energy Intensity ekWh_mega_litre</th>\n",
       "      <th>Energy Intensity GJ_m2</th>\n",
       "      <th>Energy Intensity GJ_mega_litre</th>\n",
       "    </tr>\n",
       "  </thead>\n",
       "  <tbody>\n",
       "    <tr>\n",
       "      <th>0</th>\n",
       "      <td>Public Hospital</td>\n",
       "      <td>Acute/Chronic Hospital</td>\n",
       "      <td>Alexandra Hospital</td>\n",
       "      <td>Alexandra Hospital, Ingersoll</td>\n",
       "      <td>Facilities used for hospital purposes</td>\n",
       "      <td>29 Noxon Street</td>\n",
       "      <td>Ingersoll</td>\n",
       "      <td>N5C 3V6</td>\n",
       "      <td>91213.2886</td>\n",
       "      <td>Square feet</td>\n",
       "      <td>...</td>\n",
       "      <td>0.0</td>\n",
       "      <td>0.0</td>\n",
       "      <td>NaN</td>\n",
       "      <td>NaN</td>\n",
       "      <td>0.0</td>\n",
       "      <td>850748.303252</td>\n",
       "      <td>71.059125</td>\n",
       "      <td>0.0</td>\n",
       "      <td>2.753541</td>\n",
       "      <td>0.0</td>\n",
       "    </tr>\n",
       "    <tr>\n",
       "      <th>1</th>\n",
       "      <td>School Board</td>\n",
       "      <td>School Board</td>\n",
       "      <td>Algoma District School Board</td>\n",
       "      <td>Ben R McMullin PS</td>\n",
       "      <td>School</td>\n",
       "      <td>24 Paradise Ave</td>\n",
       "      <td>Sault Ste. Marie</td>\n",
       "      <td>P6B 5K2</td>\n",
       "      <td>22098.3100</td>\n",
       "      <td>Square feet</td>\n",
       "      <td>...</td>\n",
       "      <td>0.0</td>\n",
       "      <td>0.0</td>\n",
       "      <td>NaN</td>\n",
       "      <td>NaN</td>\n",
       "      <td>0.0</td>\n",
       "      <td>77791.063715</td>\n",
       "      <td>25.206437</td>\n",
       "      <td>0.0</td>\n",
       "      <td>0.976749</td>\n",
       "      <td>0.0</td>\n",
       "    </tr>\n",
       "  </tbody>\n",
       "</table>\n",
       "<p>2 rows × 41 columns</p>\n",
       "</div>"
      ],
      "text/plain": [
       "            Sector               SubSector                  Organization  \\\n",
       "0  Public Hospital  Acute/Chronic Hospital            Alexandra Hospital   \n",
       "1     School Board            School Board  Algoma District School Board   \n",
       "\n",
       "                       Operation                         Operation Type  \\\n",
       "0  Alexandra Hospital, Ingersoll  Facilities used for hospital purposes   \n",
       "1              Ben R McMullin PS                                 School   \n",
       "\n",
       "           Address              City Postal Code  Total Indoor Space_x  \\\n",
       "0  29 Noxon Street         Ingersoll     N5C 3V6            91213.2886   \n",
       "1  24 Paradise Ave  Sault Ste. Marie     P6B 5K2            22098.3100   \n",
       "\n",
       "  Unit of Measure  ...  DistrictHeating_RenewableEmissionFactor  \\\n",
       "0     Square feet  ...                                      0.0   \n",
       "1     Square feet  ...                                      0.0   \n",
       "\n",
       "   DistrictCooling_Quantity  DistrictCooling_Unit DistrictCooling_IsRenewable  \\\n",
       "0                       0.0                   NaN                         NaN   \n",
       "1                       0.0                   NaN                         NaN   \n",
       "\n",
       "   DistrictCooling_RenewableEmissionFactor GHG Emissions KG  \\\n",
       "0                                      0.0    850748.303252   \n",
       "1                                      0.0     77791.063715   \n",
       "\n",
       "   Energy Intensity ekWh_sqft Energy Intensity ekWh_mega_litre  \\\n",
       "0                   71.059125                              0.0   \n",
       "1                   25.206437                              0.0   \n",
       "\n",
       "   Energy Intensity GJ_m2 Energy Intensity GJ_mega_litre  \n",
       "0                2.753541                            0.0  \n",
       "1                0.976749                            0.0  \n",
       "\n",
       "[2 rows x 41 columns]"
      ]
     },
     "execution_count": 93,
     "metadata": {},
     "output_type": "execute_result"
    }
   ],
   "source": [
    "data_2020 = pd.read_excel('2020_final_data_set.xlsx')\n",
    "data_2020.head(2)"
   ]
  },
  {
   "cell_type": "code",
   "execution_count": 94,
   "id": "d299d983",
   "metadata": {},
   "outputs": [],
   "source": [
    "data_2020['Year'] = 2020"
   ]
  },
  {
   "cell_type": "code",
   "execution_count": 95,
   "id": "3baf15de",
   "metadata": {},
   "outputs": [],
   "source": [
    "data_2020[\"Fuel Oil(LT)\"] = data_2020['FuelOil12_Quantity'] + data_2020['FuelOil46_Quantity']"
   ]
  },
  {
   "cell_type": "code",
   "execution_count": 96,
   "id": "d1fac92e",
   "metadata": {},
   "outputs": [
    {
     "name": "stdout",
     "output_type": "stream",
     "text": [
      "43\n"
     ]
    },
    {
     "data": {
      "text/plain": [
       "Index(['Sector', 'SubSector', 'Organization', 'Operation', 'Operation Type',\n",
       "       'Address', 'City', 'Postal Code', 'Total Indoor Space_x',\n",
       "       'Unit of Measure', 'Weekly Average Hours', 'Annual Flow (M)',\n",
       "       'Number of Portables', 'Swimming Pool', 'Electricity_Quantity',\n",
       "       'Electricity_Unit', 'NaturalGas_Quantity', 'NaturalGas_Unit',\n",
       "       'FuelOil12_Quantity', 'FuelOil12_Unit', 'FuelOil46_Quantity',\n",
       "       'FuelOil46_Unit', 'Propane_Quantity', 'Propane_Unit', 'Coal_Quantity',\n",
       "       'Coal_Unit', 'Wood_Quantity', 'Wood_Unit', 'DistrictHeating_Quantity',\n",
       "       'DistrictHeating_Unit', 'DistrictHeating_IsRenewable',\n",
       "       'DistrictHeating_RenewableEmissionFactor', 'DistrictCooling_Quantity',\n",
       "       'DistrictCooling_Unit', 'DistrictCooling_IsRenewable',\n",
       "       'DistrictCooling_RenewableEmissionFactor', 'GHG Emissions KG',\n",
       "       'Energy Intensity ekWh_sqft', 'Energy Intensity ekWh_mega_litre',\n",
       "       'Energy Intensity GJ_m2', 'Energy Intensity GJ_mega_litre', 'Year',\n",
       "       'Fuel Oil(LT)'],\n",
       "      dtype='object')"
      ]
     },
     "execution_count": 96,
     "metadata": {},
     "output_type": "execute_result"
    }
   ],
   "source": [
    "print(len(data_2020.columns))\n",
    "data_2020.columns"
   ]
  },
  {
   "cell_type": "code",
   "execution_count": 97,
   "id": "3615e0c1",
   "metadata": {},
   "outputs": [],
   "source": [
    "data_2020.drop(data_2020[['Weekly Average Hours','FuelOil12_Quantity','FuelOil46_Quantity','Unit of Measure',\"Annual Flow (M)\",'Electricity_Unit','NaturalGas_Unit','FuelOil12_Unit','FuelOil46_Unit','Propane_Unit','Coal_Unit','Wood_Unit','DistrictHeating_Unit','DistrictHeating_IsRenewable','DistrictHeating_RenewableEmissionFactor','DistrictCooling_Unit','DistrictCooling_IsRenewable','DistrictCooling_RenewableEmissionFactor','Number of Portables','Swimming Pool','Energy Intensity ekWh_mega_litre','Energy Intensity GJ_m2','Energy Intensity GJ_mega_litre']], axis = 1, inplace = True)"
   ]
  },
  {
   "cell_type": "code",
   "execution_count": 98,
   "id": "92954213",
   "metadata": {},
   "outputs": [
    {
     "name": "stdout",
     "output_type": "stream",
     "text": [
      "20\n"
     ]
    },
    {
     "data": {
      "text/plain": [
       "Index(['Sector', 'SubSector', 'Organization', 'Operation', 'Operation Type',\n",
       "       'Address', 'City', 'Postal Code', 'Total Indoor Space_x',\n",
       "       'Electricity_Quantity', 'NaturalGas_Quantity', 'Propane_Quantity',\n",
       "       'Coal_Quantity', 'Wood_Quantity', 'DistrictHeating_Quantity',\n",
       "       'DistrictCooling_Quantity', 'GHG Emissions KG',\n",
       "       'Energy Intensity ekWh_sqft', 'Year', 'Fuel Oil(LT)'],\n",
       "      dtype='object')"
      ]
     },
     "execution_count": 98,
     "metadata": {},
     "output_type": "execute_result"
    }
   ],
   "source": [
    "print(len(data_2020.columns))\n",
    "data_2020.columns"
   ]
  },
  {
   "cell_type": "code",
   "execution_count": 99,
   "id": "8de5d3a2",
   "metadata": {},
   "outputs": [],
   "source": [
    "data_2020.rename(columns={\n",
    "'SubSector':'Sub Sector',\n",
    "'Operation':'Operation Name',\n",
    "'Total Indoor Space_x':'Total Floor Area',\n",
    "'Electricity_Quantity':'Electricity(kWh)',\n",
    "'NaturalGas_Quantity':'Natural gas(CM)',\n",
    "'Propane_Quantity':'Propane(L)',\n",
    "'Coal_Quantity':'Coal(MT)',\n",
    "'Wood_Quantity':'Wood(MT)',\n",
    "'DistrictHeating_Quantity':'District Heating(GJ)',\n",
    "'DistrictCooling_Quantity':'District Cooling(GJ)',\n",
    "'GHG Emissions KG':'GHG Emissions(KG)',\n",
    "'Energy Intensity ekWh_sqft':'Energy Intensity'},inplace=True)"
   ]
  },
  {
   "cell_type": "code",
   "execution_count": 100,
   "id": "9cf41f48",
   "metadata": {},
   "outputs": [
    {
     "data": {
      "text/plain": [
       "Index(['Sector', 'Sub Sector', 'Organization', 'Operation Name',\n",
       "       'Operation Type', 'Address', 'City', 'Postal Code', 'Total Floor Area',\n",
       "       'Electricity(kWh)', 'Natural gas(CM)', 'Propane(L)', 'Coal(MT)',\n",
       "       'Wood(MT)', 'District Heating(GJ)', 'District Cooling(GJ)',\n",
       "       'GHG Emissions(KG)', 'Energy Intensity', 'Year', 'Fuel Oil(LT)'],\n",
       "      dtype='object')"
      ]
     },
     "execution_count": 100,
     "metadata": {},
     "output_type": "execute_result"
    }
   ],
   "source": [
    "data_2020.columns"
   ]
  },
  {
   "cell_type": "code",
   "execution_count": 101,
   "id": "632b7138",
   "metadata": {},
   "outputs": [
    {
     "name": "stdout",
     "output_type": "stream",
     "text": [
      "(16848, 20)\n"
     ]
    },
    {
     "data": {
      "text/plain": [
       "(16834, 20)"
      ]
     },
     "execution_count": 101,
     "metadata": {},
     "output_type": "execute_result"
    }
   ],
   "source": [
    "print(data_2020.shape)\n",
    "data_2020.dropna(inplace = True)\n",
    "data_2020.shape"
   ]
  },
  {
   "cell_type": "code",
   "execution_count": 102,
   "id": "1774b2c7",
   "metadata": {},
   "outputs": [
    {
     "data": {
      "text/plain": [
       "0"
      ]
     },
     "execution_count": 102,
     "metadata": {},
     "output_type": "execute_result"
    }
   ],
   "source": [
    "data_2020.duplicated().sum()"
   ]
  },
  {
   "cell_type": "code",
   "execution_count": null,
   "id": "523f6801",
   "metadata": {},
   "outputs": [],
   "source": []
  },
  {
   "cell_type": "code",
   "execution_count": null,
   "id": "926af757",
   "metadata": {},
   "outputs": [],
   "source": []
  },
  {
   "cell_type": "code",
   "execution_count": 103,
   "id": "99108628",
   "metadata": {},
   "outputs": [
    {
     "data": {
      "text/html": [
       "<div>\n",
       "<style scoped>\n",
       "    .dataframe tbody tr th:only-of-type {\n",
       "        vertical-align: middle;\n",
       "    }\n",
       "\n",
       "    .dataframe tbody tr th {\n",
       "        vertical-align: top;\n",
       "    }\n",
       "\n",
       "    .dataframe thead th {\n",
       "        text-align: right;\n",
       "    }\n",
       "</style>\n",
       "<table border=\"1\" class=\"dataframe\">\n",
       "  <thead>\n",
       "    <tr style=\"text-align: right;\">\n",
       "      <th></th>\n",
       "      <th>Sector</th>\n",
       "      <th>Subsector</th>\n",
       "      <th>Organization</th>\n",
       "      <th>Property Name</th>\n",
       "      <th>Primary Property Type - Self Selected</th>\n",
       "      <th>Portfolio Manager Property ID</th>\n",
       "      <th>Portfolio Manager Parent Property ID</th>\n",
       "      <th>Parent Property Name</th>\n",
       "      <th>Year Ending</th>\n",
       "      <th>Address</th>\n",
       "      <th>...</th>\n",
       "      <th>Total (Location-Based) GHG Emissions Intensity (kgCO2e/m²)</th>\n",
       "      <th>Drinking Water Treatment &amp; Distribution - Average Flow (m³PD)</th>\n",
       "      <th>Wastewater Treatment Plant - Average Influent Flow (m³PD)</th>\n",
       "      <th>Address 2</th>\n",
       "      <th>List of All Property Use Types (GFA) (m²)</th>\n",
       "      <th>Largest Property Use Type</th>\n",
       "      <th>Report Submission Date</th>\n",
       "      <th>Calculated with new source factors (Yes/No)</th>\n",
       "      <th>Data Quality Checker Run?</th>\n",
       "      <th>Data Quality Checker - Date Run</th>\n",
       "    </tr>\n",
       "  </thead>\n",
       "  <tbody>\n",
       "    <tr>\n",
       "      <th>0</th>\n",
       "      <td>Municipal</td>\n",
       "      <td>Municipality</td>\n",
       "      <td>The Corporation of the City of Markham</td>\n",
       "      <td>Fire Station #91</td>\n",
       "      <td>Fire Station</td>\n",
       "      <td>3634451</td>\n",
       "      <td>Not Applicable: Standalone Property</td>\n",
       "      <td>Not Applicable: Standalone Property</td>\n",
       "      <td>2021-12-31</td>\n",
       "      <td>7801 Bayview Avenue</td>\n",
       "      <td>...</td>\n",
       "      <td>50.5</td>\n",
       "      <td>Not Available</td>\n",
       "      <td>Not Available</td>\n",
       "      <td>Not Available</td>\n",
       "      <td>Fire Station (775.6)</td>\n",
       "      <td>Fire Station</td>\n",
       "      <td>2023-06-26 10:23:22</td>\n",
       "      <td>No</td>\n",
       "      <td>No</td>\n",
       "      <td>Not Available</td>\n",
       "    </tr>\n",
       "    <tr>\n",
       "      <th>1</th>\n",
       "      <td>Municipal</td>\n",
       "      <td>Municipality</td>\n",
       "      <td>The Corporation of the City of Markham</td>\n",
       "      <td>Fire Station #92</td>\n",
       "      <td>Fire Station</td>\n",
       "      <td>3634452</td>\n",
       "      <td>Not Applicable: Standalone Property</td>\n",
       "      <td>Not Applicable: Standalone Property</td>\n",
       "      <td>2021-12-31</td>\n",
       "      <td>10 Riviera Dr</td>\n",
       "      <td>...</td>\n",
       "      <td>51.2</td>\n",
       "      <td>Not Available</td>\n",
       "      <td>Not Available</td>\n",
       "      <td>Not Available</td>\n",
       "      <td>Fire Station (1431.5)</td>\n",
       "      <td>Fire Station</td>\n",
       "      <td>2023-06-26 10:23:22</td>\n",
       "      <td>No</td>\n",
       "      <td>No</td>\n",
       "      <td>Not Available</td>\n",
       "    </tr>\n",
       "  </tbody>\n",
       "</table>\n",
       "<p>2 rows × 58 columns</p>\n",
       "</div>"
      ],
      "text/plain": [
       "      Sector     Subsector                            Organization  \\\n",
       "0  Municipal  Municipality  The Corporation of the City of Markham   \n",
       "1  Municipal  Municipality  The Corporation of the City of Markham   \n",
       "\n",
       "      Property Name Primary Property Type - Self Selected  \\\n",
       "0  Fire Station #91                          Fire Station   \n",
       "1  Fire Station #92                          Fire Station   \n",
       "\n",
       "   Portfolio Manager Property ID Portfolio Manager Parent Property ID  \\\n",
       "0                        3634451  Not Applicable: Standalone Property   \n",
       "1                        3634452  Not Applicable: Standalone Property   \n",
       "\n",
       "                  Parent Property Name Year Ending              Address  ...  \\\n",
       "0  Not Applicable: Standalone Property  2021-12-31  7801 Bayview Avenue  ...   \n",
       "1  Not Applicable: Standalone Property  2021-12-31        10 Riviera Dr  ...   \n",
       "\n",
       "  Total (Location-Based) GHG Emissions Intensity (kgCO2e/m²)  \\\n",
       "0                                               50.5           \n",
       "1                                               51.2           \n",
       "\n",
       "  Drinking Water Treatment & Distribution - Average Flow (m³PD)  \\\n",
       "0                                      Not Available              \n",
       "1                                      Not Available              \n",
       "\n",
       "   Wastewater Treatment Plant - Average Influent Flow (m³PD)      Address 2  \\\n",
       "0                                      Not Available          Not Available   \n",
       "1                                      Not Available          Not Available   \n",
       "\n",
       "  List of All Property Use Types (GFA) (m²) Largest Property Use Type  \\\n",
       "0                      Fire Station (775.6)              Fire Station   \n",
       "1                     Fire Station (1431.5)              Fire Station   \n",
       "\n",
       "  Report Submission Date Calculated with new source factors (Yes/No)  \\\n",
       "0    2023-06-26 10:23:22                                          No   \n",
       "1    2023-06-26 10:23:22                                          No   \n",
       "\n",
       "  Data Quality Checker Run? Data Quality Checker - Date Run  \n",
       "0                        No                   Not Available  \n",
       "1                        No                   Not Available  \n",
       "\n",
       "[2 rows x 58 columns]"
      ]
     },
     "execution_count": 103,
     "metadata": {},
     "output_type": "execute_result"
    }
   ],
   "source": [
    "data_2021 = pd.read_excel('2021_final_bps_dataset.xlsx')\n",
    "data_2021.head(2)"
   ]
  },
  {
   "cell_type": "code",
   "execution_count": 104,
   "id": "be2c8e33",
   "metadata": {},
   "outputs": [],
   "source": [
    "data_2021['Year'] = 2021\n",
    "data_2021['Coal(MT)'] = 0"
   ]
  },
  {
   "cell_type": "code",
   "execution_count": 105,
   "id": "0edbba87",
   "metadata": {
    "scrolled": true
   },
   "outputs": [],
   "source": [
    "data_2021.loc[data_2021['Fuel Oil #1 Use (GJ)'] == 'Not Available','Fuel Oil #1 Use (GJ)'] = 0\n",
    "\n",
    "data_2021.loc[data_2021['Fuel Oil #2 Use (GJ)'] == 'Not Available','Fuel Oil #2 Use (GJ)'] = 0\n",
    "\n",
    "data_2021.loc[data_2021['Fuel Oil #4 Use (GJ)'] == 'Not Available','Fuel Oil #4 Use (GJ)'] = 0\n",
    "\n",
    "data_2021.loc[data_2021['Fuel Oil #5 & 6 Use (GJ)'] == 'Not Available','Fuel Oil #5 & 6 Use (GJ)'] = 0\n",
    "\n",
    "data_2021.replace('Not Available', 0, inplace=True)\n",
    "\n",
    "data_2021['Fuel Oil(LT)'] = data_2021['Fuel Oil #1 Use (GJ)'] + data_2021['Fuel Oil #2 Use (GJ)'] + data_2021['Fuel Oil #4 Use (GJ)'] + data_2021['Fuel Oil #5 & 6 Use (GJ)']\n"
   ]
  },
  {
   "cell_type": "code",
   "execution_count": 106,
   "id": "63cae46a",
   "metadata": {},
   "outputs": [
    {
     "data": {
      "text/plain": [
       "Index(['Sector', 'Subsector', 'Organization', 'Property Name',\n",
       "       'Primary Property Type - Self Selected',\n",
       "       'Portfolio Manager Property ID', 'Portfolio Manager Parent Property ID',\n",
       "       'Parent Property Name', 'Year Ending', 'Address', 'City', 'Postal Code',\n",
       "       'Property GFA - Self-Reported (m²)', 'Number of Buildings',\n",
       "       'Custom Property ID 1 - Name', 'Custom Property ID 1 - Value',\n",
       "       'Custom Property ID 2 - Name', 'Custom Property ID 2 - Value',\n",
       "       'Custom Property ID 3 - Name', 'Custom Property ID 3 - Value',\n",
       "       'Electricity Use - Grid Purchase (kWh)',\n",
       "       'Electricity Use - Grid Purchase (GJ)', 'Natural Gas Use (therms)',\n",
       "       'Natural Gas Use (GJ)', 'Fuel Oil #1 Use (GJ)', 'Fuel Oil #2 Use (GJ)',\n",
       "       'Fuel Oil #4 Use (GJ)', 'Fuel Oil #5 & 6 Use (GJ)',\n",
       "       'Diesel #2 Use (GJ)', 'Kerosene Use (GJ)', 'Propane Use (GJ)',\n",
       "       'District Steam Use (GJ)', 'District Hot Water Use (GJ)',\n",
       "       'District Chilled Water Use (GJ)', 'Wood Use (GJ)',\n",
       "       'Site Energy Use (GJ)', 'Source Energy Use (GJ)', 'Site EUI (GJ/m²)',\n",
       "       'Site EUI (ekWh/sqft)', 'Source EUI (GJ/m²)', 'Source EUI (ekWh/sqft)',\n",
       "       'Weather Normalized Site Energy Use (GJ)',\n",
       "       'Weather Normalized Source Energy Use (GJ)',\n",
       "       'Weather Normalized Site EUI (GJ/m²)',\n",
       "       'Weather Normalized Site EUI (ekWh/sqft)',\n",
       "       'Weather Normalized Source EUI (GJ/m²)',\n",
       "       'Weather Normalized Source EUI (ekWh/sqft)',\n",
       "       'Total (Location-Based) GHG Emissions (Metric Tons CO2e)',\n",
       "       'Total (Location-Based) GHG Emissions Intensity (kgCO2e/m²)',\n",
       "       'Drinking Water Treatment & Distribution - Average Flow (m³PD)',\n",
       "       'Wastewater Treatment Plant - Average Influent Flow (m³PD)',\n",
       "       'Address 2', 'List of All Property Use Types (GFA) (m²)',\n",
       "       'Largest Property Use Type', 'Report Submission Date',\n",
       "       'Calculated with new source factors (Yes/No)',\n",
       "       'Data Quality Checker Run?', 'Data Quality Checker - Date Run', 'Year',\n",
       "       'Coal(MT)', 'Fuel Oil(LT)'],\n",
       "      dtype='object')"
      ]
     },
     "execution_count": 106,
     "metadata": {},
     "output_type": "execute_result"
    }
   ],
   "source": [
    "data_2021.columns"
   ]
  },
  {
   "cell_type": "code",
   "execution_count": 107,
   "id": "404f1b50",
   "metadata": {},
   "outputs": [
    {
     "data": {
      "text/plain": [
       "(15232, 20)"
      ]
     },
     "execution_count": 107,
     "metadata": {},
     "output_type": "execute_result"
    }
   ],
   "source": [
    "data_2021 = data_2021[['Sector', 'Subsector', 'Organization', 'Property Name','Primary Property Type - Self Selected',\n",
    "           'Address', 'City', 'Postal Code','Property GFA - Self-Reported (m²)','Electricity Use - Grid Purchase (kWh)',\n",
    "          'Natural Gas Use (GJ)','Fuel Oil(LT)','Propane Use (GJ)', 'District Chilled Water Use (GJ)',\n",
    "          'District Hot Water Use (GJ)','Wood Use (GJ)','Total (Location-Based) GHG Emissions Intensity (kgCO2e/m²)',\n",
    "        'Source EUI (ekWh/sqft)',\"Year\",'Coal(MT)']]\n",
    "data_2021.shape"
   ]
  },
  {
   "cell_type": "code",
   "execution_count": 108,
   "id": "22d1d9e8",
   "metadata": {},
   "outputs": [],
   "source": [
    "data_2021.rename(columns={\n",
    "'Subsector':'Sub Sector',\n",
    "'Property Name':'Operation Name',\n",
    "'Primary Property Type - Self Selected':'Operation Type',\n",
    "'Property GFA - Self-Reported (m²)':'Total Floor Area',\n",
    "'Electricity Use - Grid Purchase (kWh)':'Electricity(kWh)',\n",
    "'Natural Gas Use (GJ)':'Natural gas(CM)',\n",
    "'Propane Use (GJ)':'Propane(L)',\n",
    "'Wood Use (GJ)':'Wood(MT)',\n",
    "'District Hot Water Use (GJ)':'District Heating(GJ)',\n",
    "'District Chilled Water Use (GJ)':'District Cooling(GJ)',\n",
    "'Total (Location-Based) GHG Emissions Intensity (kgCO2e/m²)':'GHG Emissions(KG)',\n",
    "'Source EUI (ekWh/sqft)':'Energy Intensity'},inplace=True)\n"
   ]
  },
  {
   "cell_type": "code",
   "execution_count": 109,
   "id": "593dd053",
   "metadata": {
    "scrolled": true
   },
   "outputs": [
    {
     "data": {
      "text/plain": [
       "Index(['Sector', 'Sub Sector', 'Organization', 'Operation Name',\n",
       "       'Operation Type', 'Address', 'City', 'Postal Code', 'Total Floor Area',\n",
       "       'Electricity(kWh)', 'Natural gas(CM)', 'Fuel Oil(LT)', 'Propane(L)',\n",
       "       'District Cooling(GJ)', 'District Heating(GJ)', 'Wood(MT)',\n",
       "       'GHG Emissions(KG)', 'Energy Intensity', 'Year', 'Coal(MT)'],\n",
       "      dtype='object')"
      ]
     },
     "execution_count": 109,
     "metadata": {},
     "output_type": "execute_result"
    }
   ],
   "source": [
    "data_2021.columns"
   ]
  },
  {
   "cell_type": "code",
   "execution_count": 110,
   "id": "b581e5c4",
   "metadata": {},
   "outputs": [],
   "source": [
    "data_2021['Fuel Oil(LT)'] = data_2021['Fuel Oil(LT)'].astype('float')\n",
    "data_2021['Natural gas(CM)'] = data_2021['Natural gas(CM)'].astype('float')\n",
    "data_2021['Wood(MT)'] = data_2021['Wood(MT)'].astype('float')\n",
    "data_2021['Propane(L)'] = data_2021['Propane(L)'].astype('float')"
   ]
  },
  {
   "cell_type": "code",
   "execution_count": 111,
   "id": "f5cf4dba",
   "metadata": {},
   "outputs": [],
   "source": [
    "def wood(x):\n",
    "    return x*0.23901\n",
    "data_2021['Wood(MT)']=data_2021['Wood(MT)'].apply(wood)\n",
    "\n",
    "def natural_gas(x):\n",
    "    return x*25.5\n",
    "data_2021['Natural gas(CM)']=data_2021['Natural gas(CM)'].apply(natural_gas)\n",
    "\n",
    "def fule_oil(x):\n",
    "    return x*27\n",
    "data_2021['Fuel Oil(LT)']=data_2021['Fuel Oil(LT)'].apply(fule_oil)\n",
    "\n",
    "def propane(x):\n",
    "    return x*39\n",
    "data_2021['Propane(L)']=data_2021['Propane(L)'].apply(propane)"
   ]
  },
  {
   "cell_type": "code",
   "execution_count": 112,
   "id": "56d34133",
   "metadata": {
    "scrolled": false
   },
   "outputs": [
    {
     "data": {
      "text/plain": [
       "Sector                  0\n",
       "Sub Sector              0\n",
       "Organization            0\n",
       "Operation Name          0\n",
       "Operation Type          0\n",
       "Address                 2\n",
       "City                    0\n",
       "Postal Code             5\n",
       "Total Floor Area        0\n",
       "Electricity(kWh)        0\n",
       "Natural gas(CM)         0\n",
       "Fuel Oil(LT)            0\n",
       "Propane(L)              0\n",
       "District Cooling(GJ)    0\n",
       "District Heating(GJ)    0\n",
       "Wood(MT)                0\n",
       "GHG Emissions(KG)       0\n",
       "Energy Intensity        0\n",
       "Year                    0\n",
       "Coal(MT)                0\n",
       "dtype: int64"
      ]
     },
     "execution_count": 112,
     "metadata": {},
     "output_type": "execute_result"
    }
   ],
   "source": [
    "data_2021.isna().sum()"
   ]
  },
  {
   "cell_type": "code",
   "execution_count": 113,
   "id": "ee5eb717",
   "metadata": {},
   "outputs": [],
   "source": [
    "data_2021.dropna(subset=['Address', 'Postal Code'], inplace=True)"
   ]
  },
  {
   "cell_type": "code",
   "execution_count": 114,
   "id": "1ccc3e5b",
   "metadata": {},
   "outputs": [],
   "source": [
    "data_2021.duplicated().sum()\n",
    "data_2021.drop_duplicates(inplace=True)"
   ]
  },
  {
   "cell_type": "code",
   "execution_count": 115,
   "id": "e0eebb30",
   "metadata": {},
   "outputs": [
    {
     "data": {
      "text/plain": [
       "169453"
      ]
     },
     "execution_count": 115,
     "metadata": {},
     "output_type": "execute_result"
    }
   ],
   "source": [
    "(data_2012.shape[0] + data_2013.shape[0] + data_2014.shape[0] + data_2015.shape[0] + data_2016.shape[0] + \n",
    " data_2017.shape[0] + data_2018.shape[0] + data_2019.shape[0] + data_2020.shape[0] + data_2021.shape[0])\n"
   ]
  },
  {
   "cell_type": "code",
   "execution_count": 116,
   "id": "530233cf",
   "metadata": {
    "scrolled": true
   },
   "outputs": [
    {
     "data": {
      "text/html": [
       "<div>\n",
       "<style scoped>\n",
       "    .dataframe tbody tr th:only-of-type {\n",
       "        vertical-align: middle;\n",
       "    }\n",
       "\n",
       "    .dataframe tbody tr th {\n",
       "        vertical-align: top;\n",
       "    }\n",
       "\n",
       "    .dataframe thead th {\n",
       "        text-align: right;\n",
       "    }\n",
       "</style>\n",
       "<table border=\"1\" class=\"dataframe\">\n",
       "  <thead>\n",
       "    <tr style=\"text-align: right;\">\n",
       "      <th></th>\n",
       "      <th>Sector</th>\n",
       "      <th>Sub Sector</th>\n",
       "      <th>Organization</th>\n",
       "      <th>Operation Name</th>\n",
       "      <th>Operation Type</th>\n",
       "      <th>Address</th>\n",
       "      <th>City</th>\n",
       "      <th>Postal Code</th>\n",
       "      <th>Total Floor Area</th>\n",
       "      <th>Electricity(kWh)</th>\n",
       "      <th>Natural gas(CM)</th>\n",
       "      <th>Propane(L)</th>\n",
       "      <th>Coal(MT)</th>\n",
       "      <th>Wood(MT)</th>\n",
       "      <th>District Heating(GJ)</th>\n",
       "      <th>District Cooling(GJ)</th>\n",
       "      <th>GHG Emissions(KG)</th>\n",
       "      <th>Energy Intensity</th>\n",
       "      <th>Year</th>\n",
       "      <th>Fuel Oil(LT)</th>\n",
       "    </tr>\n",
       "  </thead>\n",
       "  <tbody>\n",
       "    <tr>\n",
       "      <th>0</th>\n",
       "      <td>Public Hospital</td>\n",
       "      <td>Acute/Chronic</td>\n",
       "      <td>Alexandra Hospital</td>\n",
       "      <td>Alexandra Hospital</td>\n",
       "      <td>Facilities used for hospital purposes</td>\n",
       "      <td>29 Noxon Street</td>\n",
       "      <td>Ingersoll</td>\n",
       "      <td>N5C3V6</td>\n",
       "      <td>4660.7</td>\n",
       "      <td>1143005.6</td>\n",
       "      <td>220977.35</td>\n",
       "      <td>0.0</td>\n",
       "      <td>0.0</td>\n",
       "      <td>0.0</td>\n",
       "      <td>0.0</td>\n",
       "      <td>0.0</td>\n",
       "      <td>527560.002122</td>\n",
       "      <td>69.59709</td>\n",
       "      <td>2012</td>\n",
       "      <td>0.0</td>\n",
       "    </tr>\n",
       "    <tr>\n",
       "      <th>1</th>\n",
       "      <td>Public Hospital</td>\n",
       "      <td>Acute/Chronic</td>\n",
       "      <td>Alexandra Hospital</td>\n",
       "      <td>Alexandra Hospital</td>\n",
       "      <td>Administrative offices and related facilities</td>\n",
       "      <td>29 Noxon Street</td>\n",
       "      <td>Ingersoll</td>\n",
       "      <td>N5C3V6</td>\n",
       "      <td>3813.3</td>\n",
       "      <td>935186.4</td>\n",
       "      <td>180799.65</td>\n",
       "      <td>0.0</td>\n",
       "      <td>0.0</td>\n",
       "      <td>0.0</td>\n",
       "      <td>0.0</td>\n",
       "      <td>0.0</td>\n",
       "      <td>431640.001737</td>\n",
       "      <td>69.59709</td>\n",
       "      <td>2012</td>\n",
       "      <td>0.0</td>\n",
       "    </tr>\n",
       "    <tr>\n",
       "      <th>2</th>\n",
       "      <td>Public Hospital</td>\n",
       "      <td>Acute/Chronic</td>\n",
       "      <td>Alexandria Glengarry Memorial Hospital</td>\n",
       "      <td>Glengarry Memorial Hospital</td>\n",
       "      <td>Facilities used for hospital purposes</td>\n",
       "      <td>20260 County Road 43</td>\n",
       "      <td>Alexandria</td>\n",
       "      <td>K0C1A0</td>\n",
       "      <td>51016.0</td>\n",
       "      <td>1669887.909185</td>\n",
       "      <td>225403.4984</td>\n",
       "      <td>0.0</td>\n",
       "      <td>0.0</td>\n",
       "      <td>0.0</td>\n",
       "      <td>0.0</td>\n",
       "      <td>0.0</td>\n",
       "      <td>586529.974768</td>\n",
       "      <td>79.689235</td>\n",
       "      <td>2012</td>\n",
       "      <td>0.0</td>\n",
       "    </tr>\n",
       "    <tr>\n",
       "      <th>3</th>\n",
       "      <td>Public Hospital</td>\n",
       "      <td>Acute/Chronic</td>\n",
       "      <td>Alexandria Glengarry Memorial Hospital</td>\n",
       "      <td>Glengarry Memorial Hospital</td>\n",
       "      <td>Administrative offices and related facilities</td>\n",
       "      <td>20260 County Road 43</td>\n",
       "      <td>Alexandria</td>\n",
       "      <td>K0C1A0</td>\n",
       "      <td>3953.0</td>\n",
       "      <td>129392.090815</td>\n",
       "      <td>17466.5016</td>\n",
       "      <td>0.0</td>\n",
       "      <td>0.0</td>\n",
       "      <td>0.0</td>\n",
       "      <td>0.0</td>\n",
       "      <td>0.0</td>\n",
       "      <td>45449.455922</td>\n",
       "      <td>79.691924</td>\n",
       "      <td>2012</td>\n",
       "      <td>0.0</td>\n",
       "    </tr>\n",
       "    <tr>\n",
       "      <th>4</th>\n",
       "      <td>School Board</td>\n",
       "      <td>School Board</td>\n",
       "      <td>Algoma District School Board</td>\n",
       "      <td>Adult Ed - Blind River (WC Eaket)</td>\n",
       "      <td>Schools</td>\n",
       "      <td>147 Woodward Ave</td>\n",
       "      <td>Blind River</td>\n",
       "      <td>P0R1B0</td>\n",
       "      <td>1128.811234</td>\n",
       "      <td>10932.67</td>\n",
       "      <td>27262.4</td>\n",
       "      <td>0.0</td>\n",
       "      <td>0.0</td>\n",
       "      <td>0.0</td>\n",
       "      <td>0.0</td>\n",
       "      <td>0.0</td>\n",
       "      <td>52593.003152</td>\n",
       "      <td>266.361078</td>\n",
       "      <td>2012</td>\n",
       "      <td>0.0</td>\n",
       "    </tr>\n",
       "    <tr>\n",
       "      <th>...</th>\n",
       "      <td>...</td>\n",
       "      <td>...</td>\n",
       "      <td>...</td>\n",
       "      <td>...</td>\n",
       "      <td>...</td>\n",
       "      <td>...</td>\n",
       "      <td>...</td>\n",
       "      <td>...</td>\n",
       "      <td>...</td>\n",
       "      <td>...</td>\n",
       "      <td>...</td>\n",
       "      <td>...</td>\n",
       "      <td>...</td>\n",
       "      <td>...</td>\n",
       "      <td>...</td>\n",
       "      <td>...</td>\n",
       "      <td>...</td>\n",
       "      <td>...</td>\n",
       "      <td>...</td>\n",
       "      <td>...</td>\n",
       "    </tr>\n",
       "    <tr>\n",
       "      <th>169448</th>\n",
       "      <td>School Boards</td>\n",
       "      <td>School Boards</td>\n",
       "      <td>Conseil scolaire de district catholique du Cen...</td>\n",
       "      <td>Saint-Joseph-d'Orléans</td>\n",
       "      <td>K-12 School</td>\n",
       "      <td>6664, rue Carrière</td>\n",
       "      <td>Orleans</td>\n",
       "      <td>K1C 1J4</td>\n",
       "      <td>4850.5</td>\n",
       "      <td>371748.9</td>\n",
       "      <td>78942.9</td>\n",
       "      <td>0.0</td>\n",
       "      <td>0.0</td>\n",
       "      <td>0.0</td>\n",
       "      <td>0.0</td>\n",
       "      <td>0.0</td>\n",
       "      <td>27.2</td>\n",
       "      <td>24.258065</td>\n",
       "      <td>2021</td>\n",
       "      <td>0.0</td>\n",
       "    </tr>\n",
       "    <tr>\n",
       "      <th>169449</th>\n",
       "      <td>School Boards</td>\n",
       "      <td>School Boards</td>\n",
       "      <td>Conseil scolaire de district catholique du Cen...</td>\n",
       "      <td>Saint-Rémi</td>\n",
       "      <td>K-12 School</td>\n",
       "      <td>100, pr. Walden</td>\n",
       "      <td>Kanata</td>\n",
       "      <td>K2L 0G8</td>\n",
       "      <td>4811.2</td>\n",
       "      <td>394378.0</td>\n",
       "      <td>38459.1</td>\n",
       "      <td>0.0</td>\n",
       "      <td>0.0</td>\n",
       "      <td>0.0</td>\n",
       "      <td>0.0</td>\n",
       "      <td>0.0</td>\n",
       "      <td>18.3</td>\n",
       "      <td>22.967742</td>\n",
       "      <td>2021</td>\n",
       "      <td>0.0</td>\n",
       "    </tr>\n",
       "    <tr>\n",
       "      <th>169450</th>\n",
       "      <td>School Boards</td>\n",
       "      <td>School Boards</td>\n",
       "      <td>Conseil scolaire de district catholique du Cen...</td>\n",
       "      <td>Centre éducatif</td>\n",
       "      <td>Office</td>\n",
       "      <td>4000, rue Labelle</td>\n",
       "      <td>Ottawa</td>\n",
       "      <td>K1J 1A1</td>\n",
       "      <td>4764.5</td>\n",
       "      <td>611184.0</td>\n",
       "      <td>27259.5</td>\n",
       "      <td>0.0</td>\n",
       "      <td>0.0</td>\n",
       "      <td>0.0</td>\n",
       "      <td>0.0</td>\n",
       "      <td>0.0</td>\n",
       "      <td>14.9</td>\n",
       "      <td>27.870968</td>\n",
       "      <td>2021</td>\n",
       "      <td>0.0</td>\n",
       "    </tr>\n",
       "    <tr>\n",
       "      <th>169451</th>\n",
       "      <td>School Boards</td>\n",
       "      <td>School Boards</td>\n",
       "      <td>Conseil scolaire de district catholique du Cen...</td>\n",
       "      <td>Samuel Genest</td>\n",
       "      <td>K-12 School</td>\n",
       "      <td>704, ch. Carson</td>\n",
       "      <td>Ottawa</td>\n",
       "      <td>K1K 2H3</td>\n",
       "      <td>19891.9</td>\n",
       "      <td>1774313.8</td>\n",
       "      <td>271490.85</td>\n",
       "      <td>0.0</td>\n",
       "      <td>0.0</td>\n",
       "      <td>0.0</td>\n",
       "      <td>0.0</td>\n",
       "      <td>0.0</td>\n",
       "      <td>29.4</td>\n",
       "      <td>29.677419</td>\n",
       "      <td>2021</td>\n",
       "      <td>0.0</td>\n",
       "    </tr>\n",
       "    <tr>\n",
       "      <th>169452</th>\n",
       "      <td>School Boards</td>\n",
       "      <td>School Boards</td>\n",
       "      <td>Conseil scolaire de district catholique du Cen...</td>\n",
       "      <td>Terre-des-Jeunes</td>\n",
       "      <td>K-12 School</td>\n",
       "      <td>1303, ch. Fellows</td>\n",
       "      <td>Ottawa</td>\n",
       "      <td>K2C 2V8</td>\n",
       "      <td>6204.8</td>\n",
       "      <td>381238.0</td>\n",
       "      <td>60937.35</td>\n",
       "      <td>0.0</td>\n",
       "      <td>0.0</td>\n",
       "      <td>0.0</td>\n",
       "      <td>0.0</td>\n",
       "      <td>0.0</td>\n",
       "      <td>21.1</td>\n",
       "      <td>20.903226</td>\n",
       "      <td>2021</td>\n",
       "      <td>0.0</td>\n",
       "    </tr>\n",
       "  </tbody>\n",
       "</table>\n",
       "<p>169453 rows × 20 columns</p>\n",
       "</div>"
      ],
      "text/plain": [
       "                 Sector     Sub Sector  \\\n",
       "0       Public Hospital  Acute/Chronic   \n",
       "1       Public Hospital  Acute/Chronic   \n",
       "2       Public Hospital  Acute/Chronic   \n",
       "3       Public Hospital  Acute/Chronic   \n",
       "4          School Board   School Board   \n",
       "...                 ...            ...   \n",
       "169448    School Boards  School Boards   \n",
       "169449    School Boards  School Boards   \n",
       "169450    School Boards  School Boards   \n",
       "169451    School Boards  School Boards   \n",
       "169452    School Boards  School Boards   \n",
       "\n",
       "                                             Organization  \\\n",
       "0                                      Alexandra Hospital   \n",
       "1                                      Alexandra Hospital   \n",
       "2                  Alexandria Glengarry Memorial Hospital   \n",
       "3                  Alexandria Glengarry Memorial Hospital   \n",
       "4                            Algoma District School Board   \n",
       "...                                                   ...   \n",
       "169448  Conseil scolaire de district catholique du Cen...   \n",
       "169449  Conseil scolaire de district catholique du Cen...   \n",
       "169450  Conseil scolaire de district catholique du Cen...   \n",
       "169451  Conseil scolaire de district catholique du Cen...   \n",
       "169452  Conseil scolaire de district catholique du Cen...   \n",
       "\n",
       "                           Operation Name  \\\n",
       "0                      Alexandra Hospital   \n",
       "1                      Alexandra Hospital   \n",
       "2             Glengarry Memorial Hospital   \n",
       "3             Glengarry Memorial Hospital   \n",
       "4       Adult Ed - Blind River (WC Eaket)   \n",
       "...                                   ...   \n",
       "169448             Saint-Joseph-d'Orléans   \n",
       "169449                         Saint-Rémi   \n",
       "169450                    Centre éducatif   \n",
       "169451                      Samuel Genest   \n",
       "169452                   Terre-des-Jeunes   \n",
       "\n",
       "                                       Operation Type               Address  \\\n",
       "0               Facilities used for hospital purposes       29 Noxon Street   \n",
       "1       Administrative offices and related facilities       29 Noxon Street   \n",
       "2               Facilities used for hospital purposes  20260 County Road 43   \n",
       "3       Administrative offices and related facilities  20260 County Road 43   \n",
       "4                                             Schools      147 Woodward Ave   \n",
       "...                                               ...                   ...   \n",
       "169448                                    K-12 School    6664, rue Carrière   \n",
       "169449                                    K-12 School      100, pr. Walden    \n",
       "169450                                         Office     4000, rue Labelle   \n",
       "169451                                    K-12 School       704, ch. Carson   \n",
       "169452                                    K-12 School     1303, ch. Fellows   \n",
       "\n",
       "               City Postal Code Total Floor Area Electricity(kWh)  \\\n",
       "0         Ingersoll      N5C3V6           4660.7        1143005.6   \n",
       "1         Ingersoll      N5C3V6           3813.3         935186.4   \n",
       "2        Alexandria      K0C1A0          51016.0   1669887.909185   \n",
       "3        Alexandria      K0C1A0           3953.0    129392.090815   \n",
       "4       Blind River      P0R1B0      1128.811234         10932.67   \n",
       "...             ...         ...              ...              ...   \n",
       "169448      Orleans     K1C 1J4           4850.5         371748.9   \n",
       "169449       Kanata     K2L 0G8           4811.2         394378.0   \n",
       "169450       Ottawa     K1J 1A1           4764.5         611184.0   \n",
       "169451       Ottawa     K1K 2H3          19891.9        1774313.8   \n",
       "169452       Ottawa     K2C 2V8           6204.8         381238.0   \n",
       "\n",
       "       Natural gas(CM) Propane(L) Coal(MT) Wood(MT) District Heating(GJ)  \\\n",
       "0            220977.35        0.0      0.0      0.0                  0.0   \n",
       "1            180799.65        0.0      0.0      0.0                  0.0   \n",
       "2          225403.4984        0.0      0.0      0.0                  0.0   \n",
       "3           17466.5016        0.0      0.0      0.0                  0.0   \n",
       "4              27262.4        0.0      0.0      0.0                  0.0   \n",
       "...                ...        ...      ...      ...                  ...   \n",
       "169448         78942.9        0.0      0.0      0.0                  0.0   \n",
       "169449         38459.1        0.0      0.0      0.0                  0.0   \n",
       "169450         27259.5        0.0      0.0      0.0                  0.0   \n",
       "169451       271490.85        0.0      0.0      0.0                  0.0   \n",
       "169452        60937.35        0.0      0.0      0.0                  0.0   \n",
       "\n",
       "       District Cooling(GJ) GHG Emissions(KG) Energy Intensity  Year  \\\n",
       "0                       0.0     527560.002122         69.59709  2012   \n",
       "1                       0.0     431640.001737         69.59709  2012   \n",
       "2                       0.0     586529.974768        79.689235  2012   \n",
       "3                       0.0      45449.455922        79.691924  2012   \n",
       "4                       0.0      52593.003152       266.361078  2012   \n",
       "...                     ...               ...              ...   ...   \n",
       "169448                  0.0              27.2        24.258065  2021   \n",
       "169449                  0.0              18.3        22.967742  2021   \n",
       "169450                  0.0              14.9        27.870968  2021   \n",
       "169451                  0.0              29.4        29.677419  2021   \n",
       "169452                  0.0              21.1        20.903226  2021   \n",
       "\n",
       "       Fuel Oil(LT)  \n",
       "0               0.0  \n",
       "1               0.0  \n",
       "2               0.0  \n",
       "3               0.0  \n",
       "4               0.0  \n",
       "...             ...  \n",
       "169448          0.0  \n",
       "169449          0.0  \n",
       "169450          0.0  \n",
       "169451          0.0  \n",
       "169452          0.0  \n",
       "\n",
       "[169453 rows x 20 columns]"
      ]
     },
     "execution_count": 116,
     "metadata": {},
     "output_type": "execute_result"
    }
   ],
   "source": [
    "import warnings\n",
    "warnings.filterwarnings(\"ignore\")\n",
    "\n",
    "# data = pd.concat([data_2012,data_2013,data_2014,data_2015,data_2016,data_2017,data_2018,data_2019,data_2020,data_2021])\n",
    "data = pd.merge(pd.merge(pd.merge(pd.merge(pd.merge(pd.merge(pd.merge(pd.merge(pd.merge(data_2012, data_2013, how='outer'), data_2014, how='outer'), data_2015, how='outer'), data_2016, how='outer'), data_2017, how='outer'), data_2018, how='outer'), data_2019, how='outer'), data_2020, how='outer'), data_2021, how='outer')\n",
    "data"
   ]
  },
  {
   "cell_type": "code",
   "execution_count": 117,
   "id": "06bcf975",
   "metadata": {
    "scrolled": true
   },
   "outputs": [
    {
     "data": {
      "text/plain": [
       "Sector                  0\n",
       "Sub Sector              0\n",
       "Organization            0\n",
       "Operation Name          0\n",
       "Operation Type          0\n",
       "Address                 0\n",
       "City                    0\n",
       "Postal Code             0\n",
       "Total Floor Area        0\n",
       "Electricity(kWh)        0\n",
       "Natural gas(CM)         0\n",
       "Propane(L)              0\n",
       "Coal(MT)                0\n",
       "Wood(MT)                0\n",
       "District Heating(GJ)    0\n",
       "District Cooling(GJ)    0\n",
       "GHG Emissions(KG)       0\n",
       "Energy Intensity        0\n",
       "Year                    0\n",
       "Fuel Oil(LT)            0\n",
       "dtype: int64"
      ]
     },
     "execution_count": 117,
     "metadata": {},
     "output_type": "execute_result"
    }
   ],
   "source": [
    "data.isna().sum()"
   ]
  },
  {
   "cell_type": "code",
   "execution_count": 118,
   "id": "321132f5",
   "metadata": {},
   "outputs": [
    {
     "data": {
      "text/plain": [
       "0"
      ]
     },
     "execution_count": 118,
     "metadata": {},
     "output_type": "execute_result"
    }
   ],
   "source": [
    "data.duplicated().sum()"
   ]
  },
  {
   "cell_type": "code",
   "execution_count": 119,
   "id": "1d4b24ec",
   "metadata": {},
   "outputs": [
    {
     "data": {
      "text/plain": [
       "array(['Public Hospital', 'School Board', 'Municipal',\n",
       "       'Post-secondary Educational Institution', 'Hospital',\n",
       "       'Post-Secondary Institution', 'Municipality',\n",
       "       'Post-Secondary Educational Institution', 'Postsecondary',\n",
       "       'School Boards'], dtype=object)"
      ]
     },
     "execution_count": 119,
     "metadata": {},
     "output_type": "execute_result"
    }
   ],
   "source": [
    "data['Sector'].unique()"
   ]
  },
  {
   "cell_type": "code",
   "execution_count": 120,
   "id": "5582caf1",
   "metadata": {
    "scrolled": true
   },
   "outputs": [],
   "source": [
    "data.loc[(data['Sector'] == 'Post-secondary Educational Institution')|(data['Sector'] == 'Post-Secondary Institution')|(data['Sector'] == 'Postsecondary'),'Sector'] = 'Post-Secondary Educational Institution'\n",
    "data.loc[data['Sector'] == 'School Boards','Sector'] = 'School Board'\n",
    "data.loc[data['Sector'] == 'Hospital','Sector'] = 'Public Hospital'"
   ]
  },
  {
   "cell_type": "code",
   "execution_count": 121,
   "id": "a39ea63e",
   "metadata": {},
   "outputs": [
    {
     "data": {
      "text/plain": [
       "array(['Acute/Chronic', 'School Board', 'Municipality', 'College',\n",
       "       'Acute', 'University ', 'University', 'college', 'School Boards',\n",
       "       'Chronic', 'Acute/Chronic Hospital', 'Municipal Service Board',\n",
       "       'Acute Hospital', 'Chronic Hospital', 'Township'], dtype=object)"
      ]
     },
     "execution_count": 121,
     "metadata": {},
     "output_type": "execute_result"
    }
   ],
   "source": [
    "data['Sub Sector'].unique()"
   ]
  },
  {
   "cell_type": "code",
   "execution_count": 122,
   "id": "da331e31",
   "metadata": {},
   "outputs": [],
   "source": [
    "data.loc[data['Sub Sector'] == 'School Boards','Sub Sector'] = 'School Board'\n",
    "data.loc[data['Sub Sector'] == 'Acute/Chronic','Sub Sector'] = 'Acute/Chronic Hospital'\n",
    "data.loc[data['Sub Sector'] == 'Chronic','Sub Sector'] = 'Chronic Hospital'\n",
    "data.loc[data['Sub Sector'] == 'Acute','Sub Sector'] = 'Acute Hospital'\n",
    "data.loc[data['Sub Sector'] == 'college','Sub Sector'] = 'College'\n",
    "data.loc[data['Sub Sector'] == 'University ','Sub Sector'] = 'University'"
   ]
  },
  {
   "cell_type": "code",
   "execution_count": 123,
   "id": "00591883",
   "metadata": {},
   "outputs": [
    {
     "data": {
      "text/plain": [
       "(169453, 20)"
      ]
     },
     "execution_count": 123,
     "metadata": {},
     "output_type": "execute_result"
    }
   ],
   "source": [
    "data.shape"
   ]
  },
  {
   "cell_type": "code",
   "execution_count": 124,
   "id": "0a906442",
   "metadata": {},
   "outputs": [],
   "source": [
    "data.to_csv('Energy_Consumption.csv',index = False)"
   ]
  },
  {
   "cell_type": "code",
   "execution_count": 125,
   "id": "4c08a232",
   "metadata": {
    "scrolled": false
   },
   "outputs": [
    {
     "data": {
      "text/html": [
       "<div>\n",
       "<style scoped>\n",
       "    .dataframe tbody tr th:only-of-type {\n",
       "        vertical-align: middle;\n",
       "    }\n",
       "\n",
       "    .dataframe tbody tr th {\n",
       "        vertical-align: top;\n",
       "    }\n",
       "\n",
       "    .dataframe thead th {\n",
       "        text-align: right;\n",
       "    }\n",
       "</style>\n",
       "<table border=\"1\" class=\"dataframe\">\n",
       "  <thead>\n",
       "    <tr style=\"text-align: right;\">\n",
       "      <th></th>\n",
       "      <th>Sector</th>\n",
       "      <th>Sub Sector</th>\n",
       "      <th>Organization</th>\n",
       "      <th>Operation Name</th>\n",
       "      <th>Operation Type</th>\n",
       "      <th>Address</th>\n",
       "      <th>City</th>\n",
       "      <th>Postal Code</th>\n",
       "      <th>Total Floor Area</th>\n",
       "      <th>Electricity(kWh)</th>\n",
       "      <th>Natural gas(CM)</th>\n",
       "      <th>Propane(L)</th>\n",
       "      <th>Coal(MT)</th>\n",
       "      <th>Wood(MT)</th>\n",
       "      <th>District Heating(GJ)</th>\n",
       "      <th>District Cooling(GJ)</th>\n",
       "      <th>GHG Emissions(KG)</th>\n",
       "      <th>Energy Intensity</th>\n",
       "      <th>Year</th>\n",
       "      <th>Fuel Oil(LT)</th>\n",
       "    </tr>\n",
       "  </thead>\n",
       "  <tbody>\n",
       "    <tr>\n",
       "      <th>0</th>\n",
       "      <td>Public Hospital</td>\n",
       "      <td>Acute/Chronic Hospital</td>\n",
       "      <td>Alexandra Hospital</td>\n",
       "      <td>Alexandra Hospital</td>\n",
       "      <td>Facilities used for hospital purposes</td>\n",
       "      <td>29 Noxon Street</td>\n",
       "      <td>Ingersoll</td>\n",
       "      <td>N5C3V6</td>\n",
       "      <td>4660.700000</td>\n",
       "      <td>1.143006e+06</td>\n",
       "      <td>220977.3500</td>\n",
       "      <td>0.0</td>\n",
       "      <td>0.0</td>\n",
       "      <td>0.0</td>\n",
       "      <td>0.0</td>\n",
       "      <td>0.0</td>\n",
       "      <td>527560.002122</td>\n",
       "      <td>69.597090</td>\n",
       "      <td>2012</td>\n",
       "      <td>0.0</td>\n",
       "    </tr>\n",
       "    <tr>\n",
       "      <th>1</th>\n",
       "      <td>Public Hospital</td>\n",
       "      <td>Acute/Chronic Hospital</td>\n",
       "      <td>Alexandra Hospital</td>\n",
       "      <td>Alexandra Hospital</td>\n",
       "      <td>Administrative offices and related facilities</td>\n",
       "      <td>29 Noxon Street</td>\n",
       "      <td>Ingersoll</td>\n",
       "      <td>N5C3V6</td>\n",
       "      <td>3813.300000</td>\n",
       "      <td>9.351864e+05</td>\n",
       "      <td>180799.6500</td>\n",
       "      <td>0.0</td>\n",
       "      <td>0.0</td>\n",
       "      <td>0.0</td>\n",
       "      <td>0.0</td>\n",
       "      <td>0.0</td>\n",
       "      <td>431640.001737</td>\n",
       "      <td>69.597090</td>\n",
       "      <td>2012</td>\n",
       "      <td>0.0</td>\n",
       "    </tr>\n",
       "    <tr>\n",
       "      <th>2</th>\n",
       "      <td>Public Hospital</td>\n",
       "      <td>Acute/Chronic Hospital</td>\n",
       "      <td>Alexandria Glengarry Memorial Hospital</td>\n",
       "      <td>Glengarry Memorial Hospital</td>\n",
       "      <td>Facilities used for hospital purposes</td>\n",
       "      <td>20260 County Road 43</td>\n",
       "      <td>Alexandria</td>\n",
       "      <td>K0C1A0</td>\n",
       "      <td>51016.000000</td>\n",
       "      <td>1.669888e+06</td>\n",
       "      <td>225403.4984</td>\n",
       "      <td>0.0</td>\n",
       "      <td>0.0</td>\n",
       "      <td>0.0</td>\n",
       "      <td>0.0</td>\n",
       "      <td>0.0</td>\n",
       "      <td>586529.974768</td>\n",
       "      <td>79.689235</td>\n",
       "      <td>2012</td>\n",
       "      <td>0.0</td>\n",
       "    </tr>\n",
       "    <tr>\n",
       "      <th>3</th>\n",
       "      <td>Public Hospital</td>\n",
       "      <td>Acute/Chronic Hospital</td>\n",
       "      <td>Alexandria Glengarry Memorial Hospital</td>\n",
       "      <td>Glengarry Memorial Hospital</td>\n",
       "      <td>Administrative offices and related facilities</td>\n",
       "      <td>20260 County Road 43</td>\n",
       "      <td>Alexandria</td>\n",
       "      <td>K0C1A0</td>\n",
       "      <td>3953.000000</td>\n",
       "      <td>1.293921e+05</td>\n",
       "      <td>17466.5016</td>\n",
       "      <td>0.0</td>\n",
       "      <td>0.0</td>\n",
       "      <td>0.0</td>\n",
       "      <td>0.0</td>\n",
       "      <td>0.0</td>\n",
       "      <td>45449.455922</td>\n",
       "      <td>79.691924</td>\n",
       "      <td>2012</td>\n",
       "      <td>0.0</td>\n",
       "    </tr>\n",
       "    <tr>\n",
       "      <th>4</th>\n",
       "      <td>School Board</td>\n",
       "      <td>School Board</td>\n",
       "      <td>Algoma District School Board</td>\n",
       "      <td>Adult Ed - Blind River (WC Eaket)</td>\n",
       "      <td>Schools</td>\n",
       "      <td>147 Woodward Ave</td>\n",
       "      <td>Blind River</td>\n",
       "      <td>P0R1B0</td>\n",
       "      <td>1128.811234</td>\n",
       "      <td>1.093267e+04</td>\n",
       "      <td>27262.4000</td>\n",
       "      <td>0.0</td>\n",
       "      <td>0.0</td>\n",
       "      <td>0.0</td>\n",
       "      <td>0.0</td>\n",
       "      <td>0.0</td>\n",
       "      <td>52593.003152</td>\n",
       "      <td>266.361078</td>\n",
       "      <td>2012</td>\n",
       "      <td>0.0</td>\n",
       "    </tr>\n",
       "    <tr>\n",
       "      <th>...</th>\n",
       "      <td>...</td>\n",
       "      <td>...</td>\n",
       "      <td>...</td>\n",
       "      <td>...</td>\n",
       "      <td>...</td>\n",
       "      <td>...</td>\n",
       "      <td>...</td>\n",
       "      <td>...</td>\n",
       "      <td>...</td>\n",
       "      <td>...</td>\n",
       "      <td>...</td>\n",
       "      <td>...</td>\n",
       "      <td>...</td>\n",
       "      <td>...</td>\n",
       "      <td>...</td>\n",
       "      <td>...</td>\n",
       "      <td>...</td>\n",
       "      <td>...</td>\n",
       "      <td>...</td>\n",
       "      <td>...</td>\n",
       "    </tr>\n",
       "    <tr>\n",
       "      <th>169448</th>\n",
       "      <td>School Board</td>\n",
       "      <td>School Board</td>\n",
       "      <td>Conseil scolaire de district catholique du Cen...</td>\n",
       "      <td>Saint-Joseph-d'Orléans</td>\n",
       "      <td>K-12 School</td>\n",
       "      <td>6664, rue Carrière</td>\n",
       "      <td>Orleans</td>\n",
       "      <td>K1C 1J4</td>\n",
       "      <td>4850.500000</td>\n",
       "      <td>3.717489e+05</td>\n",
       "      <td>78942.9000</td>\n",
       "      <td>0.0</td>\n",
       "      <td>0.0</td>\n",
       "      <td>0.0</td>\n",
       "      <td>0.0</td>\n",
       "      <td>0.0</td>\n",
       "      <td>27.200000</td>\n",
       "      <td>24.258065</td>\n",
       "      <td>2021</td>\n",
       "      <td>0.0</td>\n",
       "    </tr>\n",
       "    <tr>\n",
       "      <th>169449</th>\n",
       "      <td>School Board</td>\n",
       "      <td>School Board</td>\n",
       "      <td>Conseil scolaire de district catholique du Cen...</td>\n",
       "      <td>Saint-Rémi</td>\n",
       "      <td>K-12 School</td>\n",
       "      <td>100, pr. Walden</td>\n",
       "      <td>Kanata</td>\n",
       "      <td>K2L 0G8</td>\n",
       "      <td>4811.200000</td>\n",
       "      <td>3.943780e+05</td>\n",
       "      <td>38459.1000</td>\n",
       "      <td>0.0</td>\n",
       "      <td>0.0</td>\n",
       "      <td>0.0</td>\n",
       "      <td>0.0</td>\n",
       "      <td>0.0</td>\n",
       "      <td>18.300000</td>\n",
       "      <td>22.967742</td>\n",
       "      <td>2021</td>\n",
       "      <td>0.0</td>\n",
       "    </tr>\n",
       "    <tr>\n",
       "      <th>169450</th>\n",
       "      <td>School Board</td>\n",
       "      <td>School Board</td>\n",
       "      <td>Conseil scolaire de district catholique du Cen...</td>\n",
       "      <td>Centre éducatif</td>\n",
       "      <td>Office</td>\n",
       "      <td>4000, rue Labelle</td>\n",
       "      <td>Ottawa</td>\n",
       "      <td>K1J 1A1</td>\n",
       "      <td>4764.500000</td>\n",
       "      <td>6.111840e+05</td>\n",
       "      <td>27259.5000</td>\n",
       "      <td>0.0</td>\n",
       "      <td>0.0</td>\n",
       "      <td>0.0</td>\n",
       "      <td>0.0</td>\n",
       "      <td>0.0</td>\n",
       "      <td>14.900000</td>\n",
       "      <td>27.870968</td>\n",
       "      <td>2021</td>\n",
       "      <td>0.0</td>\n",
       "    </tr>\n",
       "    <tr>\n",
       "      <th>169451</th>\n",
       "      <td>School Board</td>\n",
       "      <td>School Board</td>\n",
       "      <td>Conseil scolaire de district catholique du Cen...</td>\n",
       "      <td>Samuel Genest</td>\n",
       "      <td>K-12 School</td>\n",
       "      <td>704, ch. Carson</td>\n",
       "      <td>Ottawa</td>\n",
       "      <td>K1K 2H3</td>\n",
       "      <td>19891.900000</td>\n",
       "      <td>1.774314e+06</td>\n",
       "      <td>271490.8500</td>\n",
       "      <td>0.0</td>\n",
       "      <td>0.0</td>\n",
       "      <td>0.0</td>\n",
       "      <td>0.0</td>\n",
       "      <td>0.0</td>\n",
       "      <td>29.400000</td>\n",
       "      <td>29.677419</td>\n",
       "      <td>2021</td>\n",
       "      <td>0.0</td>\n",
       "    </tr>\n",
       "    <tr>\n",
       "      <th>169452</th>\n",
       "      <td>School Board</td>\n",
       "      <td>School Board</td>\n",
       "      <td>Conseil scolaire de district catholique du Cen...</td>\n",
       "      <td>Terre-des-Jeunes</td>\n",
       "      <td>K-12 School</td>\n",
       "      <td>1303, ch. Fellows</td>\n",
       "      <td>Ottawa</td>\n",
       "      <td>K2C 2V8</td>\n",
       "      <td>6204.800000</td>\n",
       "      <td>3.812380e+05</td>\n",
       "      <td>60937.3500</td>\n",
       "      <td>0.0</td>\n",
       "      <td>0.0</td>\n",
       "      <td>0.0</td>\n",
       "      <td>0.0</td>\n",
       "      <td>0.0</td>\n",
       "      <td>21.100000</td>\n",
       "      <td>20.903226</td>\n",
       "      <td>2021</td>\n",
       "      <td>0.0</td>\n",
       "    </tr>\n",
       "  </tbody>\n",
       "</table>\n",
       "<p>169453 rows × 20 columns</p>\n",
       "</div>"
      ],
      "text/plain": [
       "                 Sector              Sub Sector  \\\n",
       "0       Public Hospital  Acute/Chronic Hospital   \n",
       "1       Public Hospital  Acute/Chronic Hospital   \n",
       "2       Public Hospital  Acute/Chronic Hospital   \n",
       "3       Public Hospital  Acute/Chronic Hospital   \n",
       "4          School Board            School Board   \n",
       "...                 ...                     ...   \n",
       "169448     School Board            School Board   \n",
       "169449     School Board            School Board   \n",
       "169450     School Board            School Board   \n",
       "169451     School Board            School Board   \n",
       "169452     School Board            School Board   \n",
       "\n",
       "                                             Organization  \\\n",
       "0                                      Alexandra Hospital   \n",
       "1                                      Alexandra Hospital   \n",
       "2                  Alexandria Glengarry Memorial Hospital   \n",
       "3                  Alexandria Glengarry Memorial Hospital   \n",
       "4                            Algoma District School Board   \n",
       "...                                                   ...   \n",
       "169448  Conseil scolaire de district catholique du Cen...   \n",
       "169449  Conseil scolaire de district catholique du Cen...   \n",
       "169450  Conseil scolaire de district catholique du Cen...   \n",
       "169451  Conseil scolaire de district catholique du Cen...   \n",
       "169452  Conseil scolaire de district catholique du Cen...   \n",
       "\n",
       "                           Operation Name  \\\n",
       "0                      Alexandra Hospital   \n",
       "1                      Alexandra Hospital   \n",
       "2             Glengarry Memorial Hospital   \n",
       "3             Glengarry Memorial Hospital   \n",
       "4       Adult Ed - Blind River (WC Eaket)   \n",
       "...                                   ...   \n",
       "169448             Saint-Joseph-d'Orléans   \n",
       "169449                         Saint-Rémi   \n",
       "169450                    Centre éducatif   \n",
       "169451                      Samuel Genest   \n",
       "169452                   Terre-des-Jeunes   \n",
       "\n",
       "                                       Operation Type               Address  \\\n",
       "0               Facilities used for hospital purposes       29 Noxon Street   \n",
       "1       Administrative offices and related facilities       29 Noxon Street   \n",
       "2               Facilities used for hospital purposes  20260 County Road 43   \n",
       "3       Administrative offices and related facilities  20260 County Road 43   \n",
       "4                                             Schools      147 Woodward Ave   \n",
       "...                                               ...                   ...   \n",
       "169448                                    K-12 School    6664, rue Carrière   \n",
       "169449                                    K-12 School      100, pr. Walden    \n",
       "169450                                         Office     4000, rue Labelle   \n",
       "169451                                    K-12 School       704, ch. Carson   \n",
       "169452                                    K-12 School     1303, ch. Fellows   \n",
       "\n",
       "               City Postal Code  Total Floor Area  Electricity(kWh)  \\\n",
       "0         Ingersoll      N5C3V6       4660.700000      1.143006e+06   \n",
       "1         Ingersoll      N5C3V6       3813.300000      9.351864e+05   \n",
       "2        Alexandria      K0C1A0      51016.000000      1.669888e+06   \n",
       "3        Alexandria      K0C1A0       3953.000000      1.293921e+05   \n",
       "4       Blind River      P0R1B0       1128.811234      1.093267e+04   \n",
       "...             ...         ...               ...               ...   \n",
       "169448      Orleans     K1C 1J4       4850.500000      3.717489e+05   \n",
       "169449       Kanata     K2L 0G8       4811.200000      3.943780e+05   \n",
       "169450       Ottawa     K1J 1A1       4764.500000      6.111840e+05   \n",
       "169451       Ottawa     K1K 2H3      19891.900000      1.774314e+06   \n",
       "169452       Ottawa     K2C 2V8       6204.800000      3.812380e+05   \n",
       "\n",
       "        Natural gas(CM)  Propane(L)  Coal(MT)  Wood(MT)  District Heating(GJ)  \\\n",
       "0           220977.3500         0.0       0.0       0.0                   0.0   \n",
       "1           180799.6500         0.0       0.0       0.0                   0.0   \n",
       "2           225403.4984         0.0       0.0       0.0                   0.0   \n",
       "3            17466.5016         0.0       0.0       0.0                   0.0   \n",
       "4            27262.4000         0.0       0.0       0.0                   0.0   \n",
       "...                 ...         ...       ...       ...                   ...   \n",
       "169448       78942.9000         0.0       0.0       0.0                   0.0   \n",
       "169449       38459.1000         0.0       0.0       0.0                   0.0   \n",
       "169450       27259.5000         0.0       0.0       0.0                   0.0   \n",
       "169451      271490.8500         0.0       0.0       0.0                   0.0   \n",
       "169452       60937.3500         0.0       0.0       0.0                   0.0   \n",
       "\n",
       "        District Cooling(GJ)  GHG Emissions(KG)  Energy Intensity  Year  \\\n",
       "0                        0.0      527560.002122         69.597090  2012   \n",
       "1                        0.0      431640.001737         69.597090  2012   \n",
       "2                        0.0      586529.974768         79.689235  2012   \n",
       "3                        0.0       45449.455922         79.691924  2012   \n",
       "4                        0.0       52593.003152        266.361078  2012   \n",
       "...                      ...                ...               ...   ...   \n",
       "169448                   0.0          27.200000         24.258065  2021   \n",
       "169449                   0.0          18.300000         22.967742  2021   \n",
       "169450                   0.0          14.900000         27.870968  2021   \n",
       "169451                   0.0          29.400000         29.677419  2021   \n",
       "169452                   0.0          21.100000         20.903226  2021   \n",
       "\n",
       "        Fuel Oil(LT)  \n",
       "0                0.0  \n",
       "1                0.0  \n",
       "2                0.0  \n",
       "3                0.0  \n",
       "4                0.0  \n",
       "...              ...  \n",
       "169448           0.0  \n",
       "169449           0.0  \n",
       "169450           0.0  \n",
       "169451           0.0  \n",
       "169452           0.0  \n",
       "\n",
       "[169453 rows x 20 columns]"
      ]
     },
     "execution_count": 125,
     "metadata": {},
     "output_type": "execute_result"
    }
   ],
   "source": [
    "df = pd.read_csv('Energy_Consumption.csv')\n",
    "df"
   ]
  },
  {
   "cell_type": "code",
   "execution_count": 126,
   "id": "9c0fc186",
   "metadata": {},
   "outputs": [
    {
     "data": {
      "text/plain": [
       "169453"
      ]
     },
     "execution_count": 126,
     "metadata": {},
     "output_type": "execute_result"
    }
   ],
   "source": [
    "169453"
   ]
  }
 ],
 "metadata": {
  "kernelspec": {
   "display_name": "Python 3 (ipykernel)",
   "language": "python",
   "name": "python3"
  },
  "language_info": {
   "codemirror_mode": {
    "name": "ipython",
    "version": 3
   },
   "file_extension": ".py",
   "mimetype": "text/x-python",
   "name": "python",
   "nbconvert_exporter": "python",
   "pygments_lexer": "ipython3",
   "version": "3.11.4"
  }
 },
 "nbformat": 4,
 "nbformat_minor": 5
}
